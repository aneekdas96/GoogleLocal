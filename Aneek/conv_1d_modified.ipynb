{
  "nbformat": 4,
  "nbformat_minor": 0,
  "metadata": {
    "kernelspec": {
      "display_name": "Python 3",
      "language": "python",
      "name": "python3"
    },
    "language_info": {
      "codemirror_mode": {
        "name": "ipython",
        "version": 3
      },
      "file_extension": ".py",
      "mimetype": "text/x-python",
      "name": "python",
      "nbconvert_exporter": "python",
      "pygments_lexer": "ipython3",
      "version": "3.6.9"
    },
    "colab": {
      "name": "conv_1d_modified.ipynb",
      "provenance": [],
      "collapsed_sections": [],
      "toc_visible": true
    }
  },
  "cells": [
    {
      "cell_type": "code",
      "metadata": {
        "id": "6vuRNfzkTMkS"
      },
      "source": [
        "import pandas as pd\n",
        "import numpy as np\n",
        "from tensorflow.keras import layers\n",
        "import tensorflow as tf \n",
        "import matplotlib.pyplot as plt\n",
        "import sklearn\n",
        "from sklearn.preprocessing import OneHotEncoder\n",
        "import tensorflow.keras as keras\n",
        "from tensorflow.keras.layers import Concatenate,concatenate, Dense, Input, LSTM, Embedding, Dropout, Activation, GRU, Flatten\n",
        "from tensorflow.keras.layers import Bidirectional, GlobalMaxPool1D,MaxPooling1D\n",
        "from tensorflow.keras.models import Model, Sequential\n",
        "from tensorflow.keras.layers import Convolution1D as Conv1D\n",
        "from tensorflow.keras import initializers, regularizers, constraints, optimizers, layers\n",
        "from tensorflow.keras.constraints import unit_norm\n",
        "\n",
        "from sklearn.metrics import roc_curve, auc, confusion_matrix,accuracy_score,precision_score\n",
        "import seaborn as sns\n",
        "import matplotlib.pyplot as plt"
      ],
      "execution_count": 232,
      "outputs": []
    },
    {
      "cell_type": "code",
      "metadata": {
        "id": "wM_mrbASTMkS"
      },
      "source": [
        "review_df = pd.read_pickle('/content/food_review_places1.pickle')"
      ],
      "execution_count": 200,
      "outputs": []
    },
    {
      "cell_type": "code",
      "metadata": {
        "colab": {
          "base_uri": "https://localhost:8080/"
        },
        "id": "_1-TvO4bTMkS",
        "outputId": "e494f035-3f50-4119-c6a8-92e822c34624"
      },
      "source": [
        "review_df['rating'].value_counts()"
      ],
      "execution_count": 201,
      "outputs": [
        {
          "output_type": "execute_result",
          "data": {
            "text/plain": [
              "5.0    34487\n",
              "4.0    19041\n",
              "3.0     8118\n",
              "2.0     5010\n",
              "1.0     3539\n",
              "Name: rating, dtype: int64"
            ]
          },
          "metadata": {
            "tags": []
          },
          "execution_count": 201
        }
      ]
    },
    {
      "cell_type": "code",
      "metadata": {
        "colab": {
          "base_uri": "https://localhost:8080/",
          "height": 1000
        },
        "id": "Fr-efH82TMkT",
        "outputId": "e4f9bd21-94f2-416d-dfc2-b82a5a6f5979"
      },
      "source": [
        "review_df"
      ],
      "execution_count": 202,
      "outputs": [
        {
          "output_type": "execute_result",
          "data": {
            "text/html": [
              "<div>\n",
              "<style scoped>\n",
              "    .dataframe tbody tr th:only-of-type {\n",
              "        vertical-align: middle;\n",
              "    }\n",
              "\n",
              "    .dataframe tbody tr th {\n",
              "        vertical-align: top;\n",
              "    }\n",
              "\n",
              "    .dataframe thead th {\n",
              "        text-align: right;\n",
              "    }\n",
              "</style>\n",
              "<table border=\"1\" class=\"dataframe\">\n",
              "  <thead>\n",
              "    <tr style=\"text-align: right;\">\n",
              "      <th></th>\n",
              "      <th>gPlusPlaceId</th>\n",
              "      <th>rating</th>\n",
              "      <th>reviewerName</th>\n",
              "      <th>reviewText</th>\n",
              "      <th>categories</th>\n",
              "      <th>unixReviewTime</th>\n",
              "      <th>reviewTime</th>\n",
              "      <th>gPlusUserId</th>\n",
              "      <th>name</th>\n",
              "      <th>price</th>\n",
              "      <th>address</th>\n",
              "      <th>hours</th>\n",
              "      <th>phone</th>\n",
              "      <th>closed</th>\n",
              "      <th>gps</th>\n",
              "      <th>lat</th>\n",
              "      <th>long</th>\n",
              "      <th>open_days</th>\n",
              "      <th>Dinner</th>\n",
              "      <th>Lunch</th>\n",
              "      <th>Breakfast</th>\n",
              "    </tr>\n",
              "  </thead>\n",
              "  <tbody>\n",
              "    <tr>\n",
              "      <th>0</th>\n",
              "      <td>112181651134020562716</td>\n",
              "      <td>5.0</td>\n",
              "      <td>jason wagner</td>\n",
              "      <td>stop dinner mahi mahi special fantast servic g...</td>\n",
              "      <td>[european restaurant, italian restaurant]</td>\n",
              "      <td>2012-10-18 21:56:05</td>\n",
              "      <td>2012-10-18</td>\n",
              "      <td>100000196778399872657</td>\n",
              "      <td>Pasquales Trattoria</td>\n",
              "      <td>None</td>\n",
              "      <td>[50 Lakeshore Rd W, Oakville, ON L6Y 2K3, Canada]</td>\n",
              "      <td>[[Monday, [['Closed']]], [Tuesday, [['11:30 am...</td>\n",
              "      <td>(905) 338-9090</td>\n",
              "      <td>False</td>\n",
              "      <td>[43.440331, -79.672851]</td>\n",
              "      <td>43.440331</td>\n",
              "      <td>-79.672851</td>\n",
              "      <td>6.0</td>\n",
              "      <td>1.0</td>\n",
              "      <td>0.0</td>\n",
              "      <td>0.0</td>\n",
              "    </tr>\n",
              "    <tr>\n",
              "      <th>1</th>\n",
              "      <td>109391653021436219474</td>\n",
              "      <td>5.0</td>\n",
              "      <td>heather goldsworthy</td>\n",
              "      <td>best coffe collingwood</td>\n",
              "      <td>[cafe]</td>\n",
              "      <td>2013-09-12 18:38:15</td>\n",
              "      <td>2013-09-12</td>\n",
              "      <td>100000427343266187570</td>\n",
              "      <td>Espresso Post</td>\n",
              "      <td>None</td>\n",
              "      <td>[139 Hurontario St, Collingwood, ON L9Y, Canada]</td>\n",
              "      <td>None</td>\n",
              "      <td>(705) 446-1740</td>\n",
              "      <td>False</td>\n",
              "      <td>[44.499252, -80.216587]</td>\n",
              "      <td>44.499252</td>\n",
              "      <td>-80.216587</td>\n",
              "      <td>NaN</td>\n",
              "      <td>NaN</td>\n",
              "      <td>NaN</td>\n",
              "      <td>NaN</td>\n",
              "    </tr>\n",
              "    <tr>\n",
              "      <th>2</th>\n",
              "      <td>109391653021436219474</td>\n",
              "      <td>5.0</td>\n",
              "      <td>nicholas clayton</td>\n",
              "      <td>locat old post offic outlet histor pedigre bes...</td>\n",
              "      <td>[cafe]</td>\n",
              "      <td>2013-05-04 01:35:12</td>\n",
              "      <td>2013-05-03</td>\n",
              "      <td>104975196938413074237</td>\n",
              "      <td>Espresso Post</td>\n",
              "      <td>None</td>\n",
              "      <td>[139 Hurontario St, Collingwood, ON L9Y, Canada]</td>\n",
              "      <td>None</td>\n",
              "      <td>(705) 446-1740</td>\n",
              "      <td>False</td>\n",
              "      <td>[44.499252, -80.216587]</td>\n",
              "      <td>44.499252</td>\n",
              "      <td>-80.216587</td>\n",
              "      <td>NaN</td>\n",
              "      <td>NaN</td>\n",
              "      <td>NaN</td>\n",
              "      <td>NaN</td>\n",
              "    </tr>\n",
              "    <tr>\n",
              "      <th>3</th>\n",
              "      <td>110864889964667973890</td>\n",
              "      <td>5.0</td>\n",
              "      <td>chris johnson</td>\n",
              "      <td>get right everi time love guy</td>\n",
              "      <td>[delivery restaurant, event planner, business ...</td>\n",
              "      <td>2011-09-15 21:54:03</td>\n",
              "      <td>2011-09-15</td>\n",
              "      <td>100000524810171549476</td>\n",
              "      <td>Delivered Dish | Portland, OR</td>\n",
              "      <td>$$</td>\n",
              "      <td>[Portland, OR]</td>\n",
              "      <td>[[Monday, [['8:00 am--9:00 pm']]], [Tuesday, [...</td>\n",
              "      <td>(503) 239-0100</td>\n",
              "      <td>False</td>\n",
              "      <td>[45.470342, -122.747085]</td>\n",
              "      <td>45.470342</td>\n",
              "      <td>-122.747085</td>\n",
              "      <td>7.0</td>\n",
              "      <td>1.0</td>\n",
              "      <td>0.0</td>\n",
              "      <td>0.0</td>\n",
              "    </tr>\n",
              "    <tr>\n",
              "      <th>4</th>\n",
              "      <td>110864889964667973890</td>\n",
              "      <td>1.0</td>\n",
              "      <td>allison lea</td>\n",
              "      <td>use servic order even show 1 hour 20 minut pro...</td>\n",
              "      <td>[delivery restaurant, event planner, business ...</td>\n",
              "      <td>2013-11-09 10:28:01</td>\n",
              "      <td>2013-11-08</td>\n",
              "      <td>100537426867747151661</td>\n",
              "      <td>Delivered Dish | Portland, OR</td>\n",
              "      <td>$$</td>\n",
              "      <td>[Portland, OR]</td>\n",
              "      <td>[[Monday, [['8:00 am--9:00 pm']]], [Tuesday, [...</td>\n",
              "      <td>(503) 239-0100</td>\n",
              "      <td>False</td>\n",
              "      <td>[45.470342, -122.747085]</td>\n",
              "      <td>45.470342</td>\n",
              "      <td>-122.747085</td>\n",
              "      <td>7.0</td>\n",
              "      <td>1.0</td>\n",
              "      <td>0.0</td>\n",
              "      <td>0.0</td>\n",
              "    </tr>\n",
              "    <tr>\n",
              "      <th>...</th>\n",
              "      <td>...</td>\n",
              "      <td>...</td>\n",
              "      <td>...</td>\n",
              "      <td>...</td>\n",
              "      <td>...</td>\n",
              "      <td>...</td>\n",
              "      <td>...</td>\n",
              "      <td>...</td>\n",
              "      <td>...</td>\n",
              "      <td>...</td>\n",
              "      <td>...</td>\n",
              "      <td>...</td>\n",
              "      <td>...</td>\n",
              "      <td>...</td>\n",
              "      <td>...</td>\n",
              "      <td>...</td>\n",
              "      <td>...</td>\n",
              "      <td>...</td>\n",
              "      <td>...</td>\n",
              "      <td>...</td>\n",
              "      <td>...</td>\n",
              "    </tr>\n",
              "    <tr>\n",
              "      <th>70190</th>\n",
              "      <td>113840395279665001642</td>\n",
              "      <td>5.0</td>\n",
              "      <td>ture jackson</td>\n",
              "      <td>great</td>\n",
              "      <td>[cafe]</td>\n",
              "      <td>2012-06-10 03:18:34</td>\n",
              "      <td>2012-06-09</td>\n",
              "      <td>106224892970344797880</td>\n",
              "      <td>Second Cup</td>\n",
              "      <td>None</td>\n",
              "      <td>[6550 200 St, Langley, BC V2Y 1P2, Canada]</td>\n",
              "      <td>[[Monday, [['8:00 am--9:00 pm']]], [Tuesday, [...</td>\n",
              "      <td>(604) 514-5085</td>\n",
              "      <td>True</td>\n",
              "      <td>[49.121205, -122.668297]</td>\n",
              "      <td>49.121205</td>\n",
              "      <td>-122.668297</td>\n",
              "      <td>7.0</td>\n",
              "      <td>1.0</td>\n",
              "      <td>0.0</td>\n",
              "      <td>1.0</td>\n",
              "    </tr>\n",
              "    <tr>\n",
              "      <th>70191</th>\n",
              "      <td>108887431842899649801</td>\n",
              "      <td>4.0</td>\n",
              "      <td>tomasz w</td>\n",
              "      <td>surprisingli good mere 14 buck get larg pizza ...</td>\n",
              "      <td>[delivery restaurant]</td>\n",
              "      <td>2013-11-16 05:42:46</td>\n",
              "      <td>2013-11-15</td>\n",
              "      <td>106224899821829244630</td>\n",
              "      <td>Little Caesars Pizza</td>\n",
              "      <td>$$$</td>\n",
              "      <td>[12830 96 Ave, Surrey, BC V3V 6A8, Canada]</td>\n",
              "      <td>[[Monday, [['11:00 am--11:00 pm']]], [Tuesday,...</td>\n",
              "      <td>(604) 584-0090</td>\n",
              "      <td>False</td>\n",
              "      <td>[49.176368, -122.867572]</td>\n",
              "      <td>49.176368</td>\n",
              "      <td>-122.867572</td>\n",
              "      <td>7.0</td>\n",
              "      <td>1.0</td>\n",
              "      <td>1.0</td>\n",
              "      <td>0.0</td>\n",
              "    </tr>\n",
              "    <tr>\n",
              "      <th>70192</th>\n",
              "      <td>112463911517644715471</td>\n",
              "      <td>2.0</td>\n",
              "      <td>adrian ludwin</td>\n",
              "      <td>busi march 2013</td>\n",
              "      <td>[cafe, dessert shop, ice cream shop]</td>\n",
              "      <td>2013-03-08 18:03:34</td>\n",
              "      <td>2013-03-08</td>\n",
              "      <td>106225840000504273299</td>\n",
              "      <td>Baskin-Robbins Ice Cream</td>\n",
              "      <td>$$</td>\n",
              "      <td>[1976 Queen St E, Toronto, ON M4L, Canada]</td>\n",
              "      <td>None</td>\n",
              "      <td>(416) 698-3103</td>\n",
              "      <td>True</td>\n",
              "      <td>[43.669867, -79.301196]</td>\n",
              "      <td>43.669867</td>\n",
              "      <td>-79.301196</td>\n",
              "      <td>NaN</td>\n",
              "      <td>NaN</td>\n",
              "      <td>NaN</td>\n",
              "      <td>NaN</td>\n",
              "    </tr>\n",
              "    <tr>\n",
              "      <th>70193</th>\n",
              "      <td>105703129044638346837</td>\n",
              "      <td>4.0</td>\n",
              "      <td>timothy decker</td>\n",
              "      <td>great food tim owner btw differ tim lol work h...</td>\n",
              "      <td>[bar]</td>\n",
              "      <td>2013-08-15 05:50:22</td>\n",
              "      <td>2013-08-14</td>\n",
              "      <td>106226813159080833866</td>\n",
              "      <td>Rainbow Bar</td>\n",
              "      <td>None</td>\n",
              "      <td>[905 W Main St, Owosso, MI 48867]</td>\n",
              "      <td>[[Monday, [['7:00 am--4:00 am']]], [Tuesday, [...</td>\n",
              "      <td>(989) 725-9880</td>\n",
              "      <td>False</td>\n",
              "      <td>[42.997547, -84.182386]</td>\n",
              "      <td>42.997547</td>\n",
              "      <td>-84.182386</td>\n",
              "      <td>7.0</td>\n",
              "      <td>1.0</td>\n",
              "      <td>1.0</td>\n",
              "      <td>1.0</td>\n",
              "    </tr>\n",
              "    <tr>\n",
              "      <th>70194</th>\n",
              "      <td>107307431130863968183</td>\n",
              "      <td>5.0</td>\n",
              "      <td>anthony carmoma</td>\n",
              "      <td>food great staff wonder make son feel home eve...</td>\n",
              "      <td>[american restaurant, steak house]</td>\n",
              "      <td>2013-12-25 19:06:20</td>\n",
              "      <td>2013-12-25</td>\n",
              "      <td>106226857281611966746</td>\n",
              "      <td>Applebee's Neighborhood Grill</td>\n",
              "      <td>$$</td>\n",
              "      <td>[750 Brown Rd, Auburn Hills, MI 48326]</td>\n",
              "      <td>[[Monday, [['11:00 am--12:00 am']]], [Tuesday,...</td>\n",
              "      <td>(248) 393-1496</td>\n",
              "      <td>False</td>\n",
              "      <td>[42.704263, -83.287868]</td>\n",
              "      <td>42.704263</td>\n",
              "      <td>-83.287868</td>\n",
              "      <td>7.0</td>\n",
              "      <td>1.0</td>\n",
              "      <td>1.0</td>\n",
              "      <td>0.0</td>\n",
              "    </tr>\n",
              "  </tbody>\n",
              "</table>\n",
              "<p>70195 rows × 21 columns</p>\n",
              "</div>"
            ],
            "text/plain": [
              "                gPlusPlaceId  rating  ... Lunch Breakfast\n",
              "0      112181651134020562716     5.0  ...   0.0       0.0\n",
              "1      109391653021436219474     5.0  ...   NaN       NaN\n",
              "2      109391653021436219474     5.0  ...   NaN       NaN\n",
              "3      110864889964667973890     5.0  ...   0.0       0.0\n",
              "4      110864889964667973890     1.0  ...   0.0       0.0\n",
              "...                      ...     ...  ...   ...       ...\n",
              "70190  113840395279665001642     5.0  ...   0.0       1.0\n",
              "70191  108887431842899649801     4.0  ...   1.0       0.0\n",
              "70192  112463911517644715471     2.0  ...   NaN       NaN\n",
              "70193  105703129044638346837     4.0  ...   1.0       1.0\n",
              "70194  107307431130863968183     5.0  ...   1.0       0.0\n",
              "\n",
              "[70195 rows x 21 columns]"
            ]
          },
          "metadata": {
            "tags": []
          },
          "execution_count": 202
        }
      ]
    },
    {
      "cell_type": "code",
      "metadata": {
        "id": "I1jEIQQOTMkU"
      },
      "source": [
        "enc = OneHotEncoder()\n",
        "reviews = list(review_df['reviewText'])\n",
        "ratings = np.array(list(review_df['rating']))\n",
        "# one-hot encode the ratings\n",
        "ratings = enc.fit_transform(ratings.reshape(-1, 1)).toarray()"
      ],
      "execution_count": 203,
      "outputs": []
    },
    {
      "cell_type": "code",
      "metadata": {
        "colab": {
          "base_uri": "https://localhost:8080/"
        },
        "id": "Omx1fOZqKJvl",
        "outputId": "fd6f8edb-1c0b-4028-f68e-798ac21e27ac"
      },
      "source": [
        "ratings.shape"
      ],
      "execution_count": 204,
      "outputs": [
        {
          "output_type": "execute_result",
          "data": {
            "text/plain": [
              "(70195, 5)"
            ]
          },
          "metadata": {
            "tags": []
          },
          "execution_count": 204
        }
      ]
    },
    {
      "cell_type": "code",
      "metadata": {
        "id": "ITO4LY0ETMkU"
      },
      "source": [
        "split = 0.8\n",
        "train_len = int(split * len(reviews))\n",
        "train_reviews = np.array(reviews[:train_len])\n",
        "train_ratings = np.array(ratings[:train_len])\n",
        "test_reviews = np.array(reviews[train_len:])\n",
        "test_ratings = np.array(ratings[train_len:])"
      ],
      "execution_count": 205,
      "outputs": []
    },
    {
      "cell_type": "code",
      "metadata": {
        "id": "eV8YIvkWTMkU"
      },
      "source": [
        "max_size = 500\n",
        "avg_len = 14 #average review length\n",
        "vectorize_layer = tf.keras.layers.experimental.preprocessing.TextVectorization(max_tokens=max_size, output_mode='int',output_sequence_length=avg_len,pad_to_max_tokens=True)\n",
        "vectorize_layer.adapt(train_reviews)"
      ],
      "execution_count": 206,
      "outputs": []
    },
    {
      "cell_type": "code",
      "metadata": {
        "id": "-antRAB-TMkU"
      },
      "source": [
        "\n",
        "inputs = tf.keras.layers.Input(shape=(1, ), dtype=tf.string, name='text')\n",
        "outputs = vectorize_layer(inputs)\n",
        "model = tf.keras.Model(inputs, outputs)\n",
        "# vocab = np.array(vectorize_layer.get_vocabulary())"
      ],
      "execution_count": 207,
      "outputs": []
    },
    {
      "cell_type": "code",
      "metadata": {
        "id": "uygGWpf1TMkU"
      },
      "source": [
        "encoded_train_reviews = model.predict(train_reviews)\n",
        "encoded_test_reviews = model.predict(test_reviews)"
      ],
      "execution_count": 208,
      "outputs": []
    },
    {
      "cell_type": "code",
      "metadata": {
        "colab": {
          "base_uri": "https://localhost:8080/"
        },
        "id": "3K_2KLkcUhhc",
        "outputId": "b937fa3b-8cd5-4433-ab44-d327e699dc40"
      },
      "source": [
        "encoded_train_reviews.shape"
      ],
      "execution_count": 209,
      "outputs": [
        {
          "output_type": "execute_result",
          "data": {
            "text/plain": [
              "(56156, 14)"
            ]
          },
          "metadata": {
            "tags": []
          },
          "execution_count": 209
        }
      ]
    },
    {
      "cell_type": "code",
      "metadata": {
        "colab": {
          "base_uri": "https://localhost:8080/"
        },
        "id": "5lhwOPmYLG_T",
        "outputId": "b5ddb53b-aa11-4970-8f80-8251350f26a5"
      },
      "source": [
        "encoded_train_reviews[12]"
      ],
      "execution_count": 210,
      "outputs": [
        {
          "output_type": "execute_result",
          "data": {
            "text/plain": [
              "array([163,   1,  35,  84,  11, 418,   1,   1,   1,  43,   1,   1,   1,\n",
              "         4])"
            ]
          },
          "metadata": {
            "tags": []
          },
          "execution_count": 210
        }
      ]
    },
    {
      "cell_type": "code",
      "metadata": {
        "scrolled": true,
        "colab": {
          "base_uri": "https://localhost:8080/"
        },
        "id": "rGaKN0nGTMkU",
        "outputId": "e0b9cd69-9d11-4446-fcd7-23447cd26096"
      },
      "source": [
        "'''#inputs = tf.keras.Input(shape=(20,), dtype=\"int64\")\n",
        "model.Sequential()\n",
        "x = layers.Embedding(input_dim=1001, output_dim=256,)(inputs)'''\n",
        "#x = layers.Dropout(0.2)(x)\n",
        "\n",
        "\n",
        "#parallel layers for convulational network using \n",
        "#Model API from Keras\n",
        "\n",
        "dropout_p = 0.5\n",
        "\n",
        "embed_in = Input(shape=(14,max_size))\n",
        "parallel_conv = []\n",
        "\n",
        "#1st\n",
        "conv = Conv1D(128,kernel_size= 2, kernel_regularizer=regularizers.l2(l=0.01),\n",
        "              kernel_initializer='he_normal',padding=\"valid\", activation=\"relu\", strides=1)(embed_in)\n",
        "conv = Dropout(dropout_p)(conv)\n",
        "pool_conv = MaxPooling1D(pool_size = avg_len - 2 + 1)(conv)\n",
        "flatten_conv = Flatten()(pool_conv)\n",
        "parallel_conv.append(flatten_conv)\n",
        "\n",
        "#2nd\n",
        "conv = Conv1D(128,kernel_size= 3,kernel_regularizer=regularizers.l2(l=0.01), padding=\"valid\", activation=\"relu\", strides=1)(embed_in)\n",
        "conv = Dropout(dropout_p)(conv)\n",
        "pool_conv = MaxPooling1D(pool_size = avg_len - 3 + 1)(conv)\n",
        "flatten_conv = Flatten()(pool_conv)\n",
        "parallel_conv.append(flatten_conv)\n",
        "\n",
        "#3rd\n",
        "conv = Conv1D(128,kernel_size= 4, kernel_regularizer=regularizers.l2(l=0.01),padding=\"valid\", activation=\"relu\", strides=1)(embed_in)\n",
        "conv = Dropout(dropout_p)(conv)\n",
        "pool_conv = MaxPooling1D(pool_size = avg_len - 4 + 1)(conv)\n",
        "flatten_conv = Flatten()(pool_conv)\n",
        "parallel_conv.append(flatten_conv)\n",
        "\n",
        "#4th\n",
        "conv = Conv1D(128,kernel_size= 5, kernel_regularizer=regularizers.l2(l=0.01),padding=\"valid\", activation=\"relu\", strides=1)(embed_in)\n",
        "conv = Dropout(dropout_p)(conv)\n",
        "pool_conv = MaxPooling1D(pool_size = avg_len - 5 + 1)(conv)\n",
        "flatten_conv = Flatten()(pool_conv)\n",
        "parallel_conv.append(flatten_conv)\n",
        "\n",
        "#concatenate the parallel Convulations\n",
        "out = Concatenate()(parallel_conv)\n",
        "\n",
        "graph = Model(inputs=embed_in, outputs=out, name=\"parallelConv\")\n",
        "\n",
        "'''\n",
        "x = layers.Dense(64, activation=\"relu\")(x)\n",
        "x = layers.Dropout(0.2)(x)\n",
        "predictions = layers.Dense(5, activation=\"softmax\", name=\"predictions\")(x)\n",
        "model = tf.keras.Model(inputs, predictions)'''\n",
        "graph.summary()"
      ],
      "execution_count": 211,
      "outputs": [
        {
          "output_type": "stream",
          "text": [
            "Model: \"parallelConv\"\n",
            "__________________________________________________________________________________________________\n",
            "Layer (type)                    Output Shape         Param #     Connected to                     \n",
            "==================================================================================================\n",
            "input_14 (InputLayer)           [(None, 14, 500)]    0                                            \n",
            "__________________________________________________________________________________________________\n",
            "conv1d_32 (Conv1D)              (None, 13, 128)      128128      input_14[0][0]                   \n",
            "__________________________________________________________________________________________________\n",
            "conv1d_33 (Conv1D)              (None, 12, 128)      192128      input_14[0][0]                   \n",
            "__________________________________________________________________________________________________\n",
            "conv1d_34 (Conv1D)              (None, 11, 128)      256128      input_14[0][0]                   \n",
            "__________________________________________________________________________________________________\n",
            "conv1d_35 (Conv1D)              (None, 10, 128)      320128      input_14[0][0]                   \n",
            "__________________________________________________________________________________________________\n",
            "dropout_36 (Dropout)            (None, 13, 128)      0           conv1d_32[0][0]                  \n",
            "__________________________________________________________________________________________________\n",
            "dropout_37 (Dropout)            (None, 12, 128)      0           conv1d_33[0][0]                  \n",
            "__________________________________________________________________________________________________\n",
            "dropout_38 (Dropout)            (None, 11, 128)      0           conv1d_34[0][0]                  \n",
            "__________________________________________________________________________________________________\n",
            "dropout_39 (Dropout)            (None, 10, 128)      0           conv1d_35[0][0]                  \n",
            "__________________________________________________________________________________________________\n",
            "max_pooling1d_29 (MaxPooling1D) (None, 1, 128)       0           dropout_36[0][0]                 \n",
            "__________________________________________________________________________________________________\n",
            "max_pooling1d_30 (MaxPooling1D) (None, 1, 128)       0           dropout_37[0][0]                 \n",
            "__________________________________________________________________________________________________\n",
            "max_pooling1d_31 (MaxPooling1D) (None, 1, 128)       0           dropout_38[0][0]                 \n",
            "__________________________________________________________________________________________________\n",
            "max_pooling1d_32 (MaxPooling1D) (None, 1, 128)       0           dropout_39[0][0]                 \n",
            "__________________________________________________________________________________________________\n",
            "flatten_30 (Flatten)            (None, 128)          0           max_pooling1d_29[0][0]           \n",
            "__________________________________________________________________________________________________\n",
            "flatten_31 (Flatten)            (None, 128)          0           max_pooling1d_30[0][0]           \n",
            "__________________________________________________________________________________________________\n",
            "flatten_32 (Flatten)            (None, 128)          0           max_pooling1d_31[0][0]           \n",
            "__________________________________________________________________________________________________\n",
            "flatten_33 (Flatten)            (None, 128)          0           max_pooling1d_32[0][0]           \n",
            "__________________________________________________________________________________________________\n",
            "concatenate_7 (Concatenate)     (None, 512)          0           flatten_30[0][0]                 \n",
            "                                                                 flatten_31[0][0]                 \n",
            "                                                                 flatten_32[0][0]                 \n",
            "                                                                 flatten_33[0][0]                 \n",
            "==================================================================================================\n",
            "Total params: 896,512\n",
            "Trainable params: 896,512\n",
            "Non-trainable params: 0\n",
            "__________________________________________________________________________________________________\n"
          ],
          "name": "stdout"
        }
      ]
    },
    {
      "cell_type": "code",
      "metadata": {
        "colab": {
          "base_uri": "https://localhost:8080/"
        },
        "id": "NTloQccNR0Dt",
        "outputId": "5e6fbfbd-e6bf-4942-d502-fe418210e955"
      },
      "source": [
        "len(vectorize_layer.get_vocabulary())"
      ],
      "execution_count": 212,
      "outputs": [
        {
          "output_type": "execute_result",
          "data": {
            "text/plain": [
              "500"
            ]
          },
          "metadata": {
            "tags": []
          },
          "execution_count": 212
        }
      ]
    },
    {
      "cell_type": "code",
      "metadata": {
        "id": "WHNGnFKZQZD8"
      },
      "source": [
        "#connect parallel model in sequential model \n",
        "model = Sequential()\n",
        "embedding_layer = Embedding(len(vectorize_layer.get_vocabulary()),           \n",
        "                            max_size,   \n",
        "                            input_length=avg_len,              \n",
        "                            trainable=False)               \n",
        "\n",
        "model.add(embedding_layer)\n",
        "\n",
        "#add parallel layers\n",
        "model.add(graph)\n",
        "\n",
        "model.add(Dense(128, activation='relu'))\n",
        "model.add(Dropout(0.2))\n",
        "model.add(Dense(ratings.shape[1], activation='sigmoid'))"
      ],
      "execution_count": 213,
      "outputs": []
    },
    {
      "cell_type": "code",
      "metadata": {
        "colab": {
          "base_uri": "https://localhost:8080/"
        },
        "id": "WzMtDD3aTAGj",
        "outputId": "d25e323c-cd7d-45ea-ae17-54e771bb235b"
      },
      "source": [
        "model.compile(loss=\"categorical_crossentropy\", optimizer=\"adam\", metrics=[\"accuracy\"])\n",
        "model.summary()"
      ],
      "execution_count": 214,
      "outputs": [
        {
          "output_type": "stream",
          "text": [
            "Model: \"sequential_8\"\n",
            "_________________________________________________________________\n",
            "Layer (type)                 Output Shape              Param #   \n",
            "=================================================================\n",
            "embedding_9 (Embedding)      (None, 14, 500)           250000    \n",
            "_________________________________________________________________\n",
            "parallelConv (Functional)    (None, 512)               896512    \n",
            "_________________________________________________________________\n",
            "dense_12 (Dense)             (None, 128)               65664     \n",
            "_________________________________________________________________\n",
            "dropout_40 (Dropout)         (None, 128)               0         \n",
            "_________________________________________________________________\n",
            "dense_13 (Dense)             (None, 5)                 645       \n",
            "=================================================================\n",
            "Total params: 1,212,821\n",
            "Trainable params: 962,821\n",
            "Non-trainable params: 250,000\n",
            "_________________________________________________________________\n"
          ],
          "name": "stdout"
        }
      ]
    },
    {
      "cell_type": "code",
      "metadata": {
        "colab": {
          "base_uri": "https://localhost:8080/"
        },
        "id": "OwkKZ8NCTxwD",
        "outputId": "6bcdc42e-5580-4b09-d748-c5d16d95eec9"
      },
      "source": [
        "review_df['rating'].value_counts()"
      ],
      "execution_count": 215,
      "outputs": [
        {
          "output_type": "execute_result",
          "data": {
            "text/plain": [
              "5.0    34487\n",
              "4.0    19041\n",
              "3.0     8118\n",
              "2.0     5010\n",
              "1.0     3539\n",
              "Name: rating, dtype: int64"
            ]
          },
          "metadata": {
            "tags": []
          },
          "execution_count": 215
        }
      ]
    },
    {
      "cell_type": "code",
      "metadata": {
        "id": "CMSrkm-STiBL"
      },
      "source": [
        "label_counts = train_ratings.sum(axis = 0)"
      ],
      "execution_count": 216,
      "outputs": []
    },
    {
      "cell_type": "code",
      "metadata": {
        "id": "Vvjvu1ZaT2Xv"
      },
      "source": [
        "train_size = len(train_ratings)"
      ],
      "execution_count": 217,
      "outputs": []
    },
    {
      "cell_type": "code",
      "metadata": {
        "id": "_XzTX1dwTdW9"
      },
      "source": [
        "#give more weight to less represented class\n",
        "class_weight = {0: train_size / ( 5 * label_counts[0]),  #rating 1\n",
        "                1: train_size / ( 5 * label_counts[1]),\n",
        "                2: train_size / ( 5 * label_counts[2]),\n",
        "                3: train_size / ( 5 * label_counts[3]),\n",
        "                4: train_size / ( 5 * label_counts[4])}  #rating 5"
      ],
      "execution_count": 218,
      "outputs": []
    },
    {
      "cell_type": "code",
      "metadata": {
        "colab": {
          "base_uri": "https://localhost:8080/"
        },
        "id": "kqCKdQ9fUlYW",
        "outputId": "93854682-e2f9-4c39-cc06-8d1c932e66b2"
      },
      "source": [
        "class_weight"
      ],
      "execution_count": 219,
      "outputs": [
        {
          "output_type": "execute_result",
          "data": {
            "text/plain": [
              "{0: 4.058980845681243,\n",
              " 1: 2.9013691552570395,\n",
              " 2: 1.7461442786069652,\n",
              " 3: 0.7297251640569163,\n",
              " 4: 0.4055316844195703}"
            ]
          },
          "metadata": {
            "tags": []
          },
          "execution_count": 219
        }
      ]
    },
    {
      "cell_type": "code",
      "metadata": {
        "id": "49YxoJiO49hZ"
      },
      "source": [
        "#to do callbacks  -- early stopping , model checkpoint, patience = 5"
      ],
      "execution_count": 271,
      "outputs": []
    },
    {
      "cell_type": "code",
      "metadata": {
        "colab": {
          "base_uri": "https://localhost:8080/"
        },
        "id": "wHN06BdYTMkU",
        "outputId": "4342f99d-505a-47fb-c4b0-17357d03348a"
      },
      "source": [
        "\n",
        "history = model.fit(encoded_train_reviews, train_ratings, validation_split=0.2, epochs=30,batch_size=64,class_weight=class_weight)"
      ],
      "execution_count": 262,
      "outputs": [
        {
          "output_type": "stream",
          "text": [
            "Epoch 1/30\n",
            "702/702 [==============================] - 77s 109ms/step - loss: 1.3776 - accuracy: 0.4739 - val_loss: 1.3667 - val_accuracy: 0.4761\n",
            "Epoch 2/30\n",
            "702/702 [==============================] - 76s 109ms/step - loss: 1.3717 - accuracy: 0.4707 - val_loss: 1.3238 - val_accuracy: 0.4774\n",
            "Epoch 3/30\n",
            "702/702 [==============================] - 77s 109ms/step - loss: 1.3730 - accuracy: 0.4719 - val_loss: 1.2317 - val_accuracy: 0.5185\n",
            "Epoch 4/30\n",
            "702/702 [==============================] - 71s 102ms/step - loss: 1.3678 - accuracy: 0.4719 - val_loss: 1.2823 - val_accuracy: 0.4976\n",
            "Epoch 5/30\n",
            "702/702 [==============================] - 70s 99ms/step - loss: 1.3653 - accuracy: 0.4746 - val_loss: 1.4806 - val_accuracy: 0.4232\n",
            "Epoch 6/30\n",
            "702/702 [==============================] - 70s 99ms/step - loss: 1.3686 - accuracy: 0.4685 - val_loss: 1.2769 - val_accuracy: 0.5041\n",
            "Epoch 7/30\n",
            "702/702 [==============================] - 69s 98ms/step - loss: 1.3641 - accuracy: 0.4764 - val_loss: 1.2909 - val_accuracy: 0.5019\n",
            "Epoch 8/30\n",
            "702/702 [==============================] - 69s 99ms/step - loss: 1.3668 - accuracy: 0.4718 - val_loss: 1.2925 - val_accuracy: 0.4958\n",
            "Epoch 9/30\n",
            "702/702 [==============================] - 68s 96ms/step - loss: 1.3598 - accuracy: 0.4753 - val_loss: 1.2600 - val_accuracy: 0.5056\n",
            "Epoch 10/30\n",
            "702/702 [==============================] - 68s 97ms/step - loss: 1.3633 - accuracy: 0.4715 - val_loss: 1.3581 - val_accuracy: 0.4655\n",
            "Epoch 11/30\n",
            "702/702 [==============================] - 68s 97ms/step - loss: 1.3614 - accuracy: 0.4698 - val_loss: 1.3525 - val_accuracy: 0.4763\n",
            "Epoch 12/30\n",
            "702/702 [==============================] - 66s 94ms/step - loss: 1.3566 - accuracy: 0.4753 - val_loss: 1.3426 - val_accuracy: 0.4630\n",
            "Epoch 13/30\n",
            "702/702 [==============================] - 67s 96ms/step - loss: 1.3573 - accuracy: 0.4752 - val_loss: 1.3412 - val_accuracy: 0.4772\n",
            "Epoch 14/30\n",
            "702/702 [==============================] - 67s 95ms/step - loss: 1.3573 - accuracy: 0.4719 - val_loss: 1.2795 - val_accuracy: 0.4931\n",
            "Epoch 15/30\n",
            "702/702 [==============================] - 68s 96ms/step - loss: 1.3591 - accuracy: 0.4742 - val_loss: 1.2902 - val_accuracy: 0.4986\n",
            "Epoch 16/30\n",
            "702/702 [==============================] - 71s 101ms/step - loss: 1.3617 - accuracy: 0.4732 - val_loss: 1.2795 - val_accuracy: 0.4993\n",
            "Epoch 17/30\n",
            "702/702 [==============================] - 72s 103ms/step - loss: 1.3566 - accuracy: 0.4734 - val_loss: 1.2878 - val_accuracy: 0.4953\n",
            "Epoch 18/30\n",
            "702/702 [==============================] - 72s 103ms/step - loss: 1.3556 - accuracy: 0.4750 - val_loss: 1.3171 - val_accuracy: 0.4817\n",
            "Epoch 19/30\n",
            "702/702 [==============================] - 71s 102ms/step - loss: 1.3547 - accuracy: 0.4721 - val_loss: 1.3039 - val_accuracy: 0.4835\n",
            "Epoch 20/30\n",
            "702/702 [==============================] - 69s 99ms/step - loss: 1.3603 - accuracy: 0.4721 - val_loss: 1.2912 - val_accuracy: 0.4925\n",
            "Epoch 21/30\n",
            "702/702 [==============================] - 69s 98ms/step - loss: 1.3579 - accuracy: 0.4706 - val_loss: 1.2501 - val_accuracy: 0.4937\n",
            "Epoch 22/30\n",
            "702/702 [==============================] - 70s 99ms/step - loss: 1.3616 - accuracy: 0.4691 - val_loss: 1.3014 - val_accuracy: 0.4894\n",
            "Epoch 23/30\n",
            "702/702 [==============================] - 71s 102ms/step - loss: 1.3580 - accuracy: 0.4686 - val_loss: 1.3174 - val_accuracy: 0.4809\n",
            "Epoch 24/30\n",
            "702/702 [==============================] - 71s 101ms/step - loss: 1.3549 - accuracy: 0.4742 - val_loss: 1.2633 - val_accuracy: 0.4944\n",
            "Epoch 25/30\n",
            "702/702 [==============================] - 71s 101ms/step - loss: 1.3567 - accuracy: 0.4695 - val_loss: 1.2865 - val_accuracy: 0.4789\n",
            "Epoch 26/30\n",
            "702/702 [==============================] - 70s 99ms/step - loss: 1.3487 - accuracy: 0.4752 - val_loss: 1.2874 - val_accuracy: 0.4864\n",
            "Epoch 27/30\n",
            "702/702 [==============================] - 72s 102ms/step - loss: 1.3582 - accuracy: 0.4694 - val_loss: 1.2841 - val_accuracy: 0.4899\n",
            "Epoch 28/30\n",
            "702/702 [==============================] - 72s 102ms/step - loss: 1.3545 - accuracy: 0.4701 - val_loss: 1.2570 - val_accuracy: 0.4992\n",
            "Epoch 29/30\n",
            "702/702 [==============================] - 69s 99ms/step - loss: 1.3549 - accuracy: 0.4714 - val_loss: 1.2478 - val_accuracy: 0.5016\n",
            "Epoch 30/30\n",
            "702/702 [==============================] - 68s 97ms/step - loss: 1.3519 - accuracy: 0.4683 - val_loss: 1.2845 - val_accuracy: 0.4789\n"
          ],
          "name": "stdout"
        }
      ]
    },
    {
      "cell_type": "code",
      "metadata": {
        "colab": {
          "base_uri": "https://localhost:8080/",
          "height": 265
        },
        "id": "uhwEi49VZIyz",
        "outputId": "c96b906a-005e-42ca-a402-7b1460b8de51"
      },
      "source": [
        "plt.plot(history.history['loss'],label = \"Train Loss\")\n",
        "plt.plot(history.history['val_loss'],label = 'Validation Loss')\n",
        "plt.legend()\n",
        "plt.show()"
      ],
      "execution_count": 263,
      "outputs": [
        {
          "output_type": "display_data",
          "data": {
            "image/png": "[encoded data removed]",
            "text/plain": [
              "<Figure size 432x288 with 1 Axes>"
            ]
          },
          "metadata": {
            "tags": [],
            "needs_background": "light"
          }
        }
      ]
    },
    {
      "cell_type": "code",
      "metadata": {
        "colab": {
          "base_uri": "https://localhost:8080/"
        },
        "id": "OpjD83xJTMkV",
        "outputId": "38df0b12-cd6f-4a26-ffbe-c79bbc98560b"
      },
      "source": [
        "score, acc = model.evaluate(encoded_test_reviews, test_ratings)"
      ],
      "execution_count": 272,
      "outputs": [
        {
          "output_type": "stream",
          "text": [
            "439/439 [==============================] - 7s 15ms/step - loss: 1.2856 - accuracy: 0.4780\n"
          ],
          "name": "stdout"
        }
      ]
    },
    {
      "cell_type": "code",
      "metadata": {
        "colab": {
          "base_uri": "https://localhost:8080/"
        },
        "id": "66walWprXstF",
        "outputId": "75547270-bc35-4dc8-e891-62518f53b16b"
      },
      "source": [
        "train_ratings.sum(axis = 0 )"
      ],
      "execution_count": 265,
      "outputs": [
        {
          "output_type": "execute_result",
          "data": {
            "text/plain": [
              "array([ 2767.,  3871.,  6432., 15391., 27695.])"
            ]
          },
          "metadata": {
            "tags": []
          },
          "execution_count": 265
        }
      ]
    },
    {
      "cell_type": "code",
      "metadata": {
        "id": "kV5iNrWTXdP5"
      },
      "source": [
        "prob_test = np.round(model.predict(encoded_test_reviews))\n",
        "prob_test = pd.DataFrame(data = prob_test, columns = ['1', '2', '3','4','5'])\n",
        "prob_test = prob_test.idxmax(axis = 1)\n",
        "\n",
        "test_ratings_df = pd.DataFrame(data = test_ratings, columns = ['1', '2', '3','4','5'])\n",
        "y_test_label = test_ratings_df.idxmax(axis = 1)"
      ],
      "execution_count": 273,
      "outputs": []
    },
    {
      "cell_type": "code",
      "metadata": {
        "colab": {
          "base_uri": "https://localhost:8080/",
          "height": 449
        },
        "id": "nx78p50KX6R9",
        "outputId": "41c9fbc4-3d2a-49bf-e2ed-1c486a26d69a"
      },
      "source": [
        "\n",
        "# Calculate confusion matrix\n",
        "confusion_matrix_dnn = confusion_matrix(y_true = y_test_label, \n",
        "                    y_pred = prob_test)\n",
        "\n",
        "# Turn matrix to percentages\n",
        "confusion_matrix_dnn = confusion_matrix_dnn.astype('float') / confusion_matrix_dnn.sum(axis=1)[:, np.newaxis]\n",
        "\n",
        "# Turn to dataframe\n",
        "df_cm = pd.DataFrame(\n",
        "        confusion_matrix_dnn, index=['1', '2', '3','4','5'],\n",
        "         columns=['1', '2', '3','4','5'], \n",
        ")\n",
        "\n",
        "# Parameters of the image\n",
        "figsize = (10,7)\n",
        "fontsize=14\n",
        "\n",
        "# Create image\n",
        "fig = plt.figure(figsize=figsize)\n",
        "heatmap = sns.heatmap(df_cm, annot=True, fmt='.2f')\n",
        "\n",
        "# Make it nicer\n",
        "heatmap.yaxis.set_ticklabels(heatmap.yaxis.get_ticklabels(), rotation=0, \n",
        "                             ha='right', fontsize=fontsize)\n",
        "heatmap.xaxis.set_ticklabels(heatmap.xaxis.get_ticklabels(), rotation=45,\n",
        "                             ha='right', fontsize=fontsize)\n",
        "\n",
        "# Add labels\n",
        "plt.ylabel('True label')\n",
        "plt.xlabel('Predicted label')\n",
        "\n",
        "# Plot!\n",
        "plt.show()"
      ],
      "execution_count": 274,
      "outputs": [
        {
          "output_type": "display_data",
          "data": {
            "image/png": "[encoded data removed]",
            "text/plain": [
              "<Figure size 720x504 with 2 Axes>"
            ]
          },
          "metadata": {
            "tags": [],
            "needs_background": "light"
          }
        }
      ]
    },
    {
      "cell_type": "code",
      "metadata": {
        "colab": {
          "base_uri": "https://localhost:8080/"
        },
        "id": "ssqCaMkSYUps",
        "outputId": "ac12e199-3fa2-4952-f611-0a429e3b053f"
      },
      "source": [
        "accuracy_score(y_test_label,prob_test)*100"
      ],
      "execution_count": 275,
      "outputs": [
        {
          "output_type": "execute_result",
          "data": {
            "text/plain": [
              "23.178289051926775"
            ]
          },
          "metadata": {
            "tags": []
          },
          "execution_count": 275
        }
      ]
    },
    {
      "cell_type": "code",
      "metadata": {
        "id": "DVhxSoptYrlQ"
      },
      "source": [
        "prob_train = np.round(model.predict(encoded_train_reviews))\n",
        "prob_train = pd.DataFrame(data = prob_train, columns = ['1', '2', '3','4','5'])\n",
        "prob_train = prob_train.idxmax(axis = 1)\n",
        "\n",
        "train_ratings_df = pd.DataFrame(data = train_ratings, columns = ['1', '2', '3','4','5'])\n",
        "y_train_label = train_ratings_df.idxmax(axis = 1)"
      ],
      "execution_count": 276,
      "outputs": []
    },
    {
      "cell_type": "code",
      "metadata": {
        "colab": {
          "base_uri": "https://localhost:8080/"
        },
        "id": "So1fRaXqcxt-",
        "outputId": "8a5adb26-d588-473a-bb5d-b06182592357"
      },
      "source": [
        "accuracy_score(y_train_label,prob_train)*100"
      ],
      "execution_count": 270,
      "outputs": [
        {
          "output_type": "execute_result",
          "data": {
            "text/plain": [
              "23.397321746563147"
            ]
          },
          "metadata": {
            "tags": []
          },
          "execution_count": 270
        }
      ]
    },
    {
      "cell_type": "code",
      "metadata": {
        "id": "H6vxkkVAc0r-"
      },
      "source": [
        ""
      ],
      "execution_count": 228,
      "outputs": []
    },
    {
      "cell_type": "markdown",
      "metadata": {
        "id": "BgdyHRqCqPLV"
      },
      "source": [
        "#Categories"
      ]
    },
    {
      "cell_type": "code",
      "metadata": {
        "id": "SqwvueC_qQGe"
      },
      "source": [
        "# Generate the input\n",
        "cat_input = Input(shape=(4, ))\n",
        "\n",
        "# Generate the embedding\n",
        "embed_input_cat = Embedding(input_dim = 4 ,        # Input size\n",
        "                                output_dim = 30,           # Embedding dimensions\n",
        "                                input_length=4,            # Variables.\n",
        "                                trainable=True)(cat_input) # Allow weight training.\n",
        "\n",
        "# Flatten the embedding to make it a proper layer.\n",
        "embed_input_cat = Flatten()(embed_input_cat)"
      ],
      "execution_count": 253,
      "outputs": []
    },
    {
      "cell_type": "code",
      "metadata": {
        "id": "12HpJHUvsEDQ"
      },
      "source": [
        "x = concatenate([embed_input_cat, out])\n",
        "# Dense layers\n",
        "x = Dense(128, activation= 'relu')(x)\n",
        "x = Dropout(0.2)(x)\n",
        "x = Dense(128, activation= 'relu')(x)\n",
        "x = Dropout(0.2)(x)\n",
        "\n",
        "# Output layer\n",
        "out_combined = Dense(ratings.shape[1], activation = 'softmax')(x)"
      ],
      "execution_count": 254,
      "outputs": []
    },
    {
      "cell_type": "code",
      "metadata": {
        "id": "1-RmPGK-sTRv"
      },
      "source": [
        "Multi_Model = Model(inputs = [embed_in, cat_input], outputs = out_combined)\n",
        "\n",
        "# adam = Adam(clipnorm=.1)\n",
        "Multi_Model.compile(loss='categorical_crossentropy',\n",
        "              optimizer='adam',\n",
        "              metrics=['acc'])"
      ],
      "execution_count": 255,
      "outputs": []
    },
    {
      "cell_type": "code",
      "metadata": {
        "colab": {
          "base_uri": "https://localhost:8080/"
        },
        "id": "jCOYk696wMl3",
        "outputId": "f2a46adf-49a7-4e9e-9d8a-45293fa14f85"
      },
      "source": [
        "Multi_Model.summary()"
      ],
      "execution_count": 256,
      "outputs": [
        {
          "output_type": "stream",
          "text": [
            "Model: \"functional_8\"\n",
            "__________________________________________________________________________________________________\n",
            "Layer (type)                    Output Shape         Param #     Connected to                     \n",
            "==================================================================================================\n",
            "input_14 (InputLayer)           [(None, 14, 500)]    0                                            \n",
            "__________________________________________________________________________________________________\n",
            "conv1d_32 (Conv1D)              (None, 13, 128)      128128      input_14[0][0]                   \n",
            "__________________________________________________________________________________________________\n",
            "conv1d_33 (Conv1D)              (None, 12, 128)      192128      input_14[0][0]                   \n",
            "__________________________________________________________________________________________________\n",
            "conv1d_34 (Conv1D)              (None, 11, 128)      256128      input_14[0][0]                   \n",
            "__________________________________________________________________________________________________\n",
            "conv1d_35 (Conv1D)              (None, 10, 128)      320128      input_14[0][0]                   \n",
            "__________________________________________________________________________________________________\n",
            "dropout_36 (Dropout)            (None, 13, 128)      0           conv1d_32[0][0]                  \n",
            "__________________________________________________________________________________________________\n",
            "dropout_37 (Dropout)            (None, 12, 128)      0           conv1d_33[0][0]                  \n",
            "__________________________________________________________________________________________________\n",
            "dropout_38 (Dropout)            (None, 11, 128)      0           conv1d_34[0][0]                  \n",
            "__________________________________________________________________________________________________\n",
            "dropout_39 (Dropout)            (None, 10, 128)      0           conv1d_35[0][0]                  \n",
            "__________________________________________________________________________________________________\n",
            "input_16 (InputLayer)           [(None, 4)]          0                                            \n",
            "__________________________________________________________________________________________________\n",
            "max_pooling1d_29 (MaxPooling1D) (None, 1, 128)       0           dropout_36[0][0]                 \n",
            "__________________________________________________________________________________________________\n",
            "max_pooling1d_30 (MaxPooling1D) (None, 1, 128)       0           dropout_37[0][0]                 \n",
            "__________________________________________________________________________________________________\n",
            "max_pooling1d_31 (MaxPooling1D) (None, 1, 128)       0           dropout_38[0][0]                 \n",
            "__________________________________________________________________________________________________\n",
            "max_pooling1d_32 (MaxPooling1D) (None, 1, 128)       0           dropout_39[0][0]                 \n",
            "__________________________________________________________________________________________________\n",
            "embedding_11 (Embedding)        (None, 4, 30)        120         input_16[0][0]                   \n",
            "__________________________________________________________________________________________________\n",
            "flatten_30 (Flatten)            (None, 128)          0           max_pooling1d_29[0][0]           \n",
            "__________________________________________________________________________________________________\n",
            "flatten_31 (Flatten)            (None, 128)          0           max_pooling1d_30[0][0]           \n",
            "__________________________________________________________________________________________________\n",
            "flatten_32 (Flatten)            (None, 128)          0           max_pooling1d_31[0][0]           \n",
            "__________________________________________________________________________________________________\n",
            "flatten_33 (Flatten)            (None, 128)          0           max_pooling1d_32[0][0]           \n",
            "__________________________________________________________________________________________________\n",
            "flatten_35 (Flatten)            (None, 120)          0           embedding_11[0][0]               \n",
            "__________________________________________________________________________________________________\n",
            "concatenate_7 (Concatenate)     (None, 512)          0           flatten_30[0][0]                 \n",
            "                                                                 flatten_31[0][0]                 \n",
            "                                                                 flatten_32[0][0]                 \n",
            "                                                                 flatten_33[0][0]                 \n",
            "__________________________________________________________________________________________________\n",
            "concatenate_12 (Concatenate)    (None, 632)          0           flatten_35[0][0]                 \n",
            "                                                                 concatenate_7[0][0]              \n",
            "__________________________________________________________________________________________________\n",
            "dense_21 (Dense)                (None, 128)          81024       concatenate_12[0][0]             \n",
            "__________________________________________________________________________________________________\n",
            "dropout_45 (Dropout)            (None, 128)          0           dense_21[0][0]                   \n",
            "__________________________________________________________________________________________________\n",
            "dense_22 (Dense)                (None, 128)          16512       dropout_45[0][0]                 \n",
            "__________________________________________________________________________________________________\n",
            "dropout_46 (Dropout)            (None, 128)          0           dense_22[0][0]                   \n",
            "__________________________________________________________________________________________________\n",
            "dense_23 (Dense)                (None, 5)            645         dropout_46[0][0]                 \n",
            "==================================================================================================\n",
            "Total params: 994,813\n",
            "Trainable params: 994,813\n",
            "Non-trainable params: 0\n",
            "__________________________________________________________________________________________________\n"
          ],
          "name": "stdout"
        }
      ]
    },
    {
      "cell_type": "code",
      "metadata": {
        "colab": {
          "base_uri": "https://localhost:8080/"
        },
        "id": "hTOuzlkGsXv-",
        "outputId": "e4cfd11f-c183-4ee7-df83-8ee980b25b87"
      },
      "source": [
        "type(encoded_train_reviews)"
      ],
      "execution_count": 239,
      "outputs": [
        {
          "output_type": "execute_result",
          "data": {
            "text/plain": [
              "numpy.ndarray"
            ]
          },
          "metadata": {
            "tags": []
          },
          "execution_count": 239
        }
      ]
    },
    {
      "cell_type": "code",
      "metadata": {
        "id": "y-8XrlDquTaM"
      },
      "source": [
        "cat_features = review_df[['open_days','Breakfast','Lunch','Dinner']].to_numpy()"
      ],
      "execution_count": 257,
      "outputs": []
    },
    {
      "cell_type": "code",
      "metadata": {
        "id": "iUww8A8bukc0"
      },
      "source": [
        "cat_train = np.array(cat_features[:train_len])\n",
        "cat_test = np.array(cat_features[train_len:])"
      ],
      "execution_count": 258,
      "outputs": []
    },
    {
      "cell_type": "code",
      "metadata": {
        "id": "r-r9jedFudV3"
      },
      "source": [
        "multi_train = np.concatenate([cat_train,encoded_train_reviews], axis = 1)\n",
        "multi_test = np.concatenate([cat_test,encoded_test_reviews], axis = 1)\n",
        "                       "
      ],
      "execution_count": 259,
      "outputs": []
    },
    {
      "cell_type": "code",
      "metadata": {
        "colab": {
          "base_uri": "https://localhost:8080/"
        },
        "id": "MjfNN4VvvWFw",
        "outputId": "0d0c9a55-bc32-444a-c7a5-57e66884abb1"
      },
      "source": [
        "multi_train[:, 4:].shape"
      ],
      "execution_count": 260,
      "outputs": [
        {
          "output_type": "execute_result",
          "data": {
            "text/plain": [
              "(56156, 14)"
            ]
          },
          "metadata": {
            "tags": []
          },
          "execution_count": 260
        }
      ]
    },
    {
      "cell_type": "code",
      "metadata": {
        "colab": {
          "base_uri": "https://localhost:8080/",
          "height": 904
        },
        "id": "74uGonQhvXYu",
        "outputId": "98d725e7-30f1-4483-c07e-0f5995d37012"
      },
      "source": [
        "Multi_Model.fit([multi_train[:, 4:],multi_train[:, 0:4]], y = train_ratings,\n",
        "                validation_split = 0.2, class_weight = class_weight,\n",
        "                epochs = 10, batch_size = 120)"
      ],
      "execution_count": 261,
      "outputs": [
        {
          "output_type": "stream",
          "text": [
            "Epoch 1/10\n",
            "WARNING:tensorflow:Model was constructed with shape (None, 14, 500) for input Tensor(\"input_14:0\", shape=(None, 14, 500), dtype=float32), but it was called on an input with incompatible shape (None, 14).\n"
          ],
          "name": "stdout"
        },
        {
          "output_type": "error",
          "ename": "ValueError",
          "evalue": "ignored",
          "traceback": [
            "\u001b[0;31m---------------------------------------------------------------------------\u001b[0m",
            "\u001b[0;31mValueError\u001b[0m                                Traceback (most recent call last)",
            "\u001b[0;32m<ipython-input-261-138866fb3232>\u001b[0m in \u001b[0;36m<module>\u001b[0;34m()\u001b[0m\n\u001b[1;32m      1\u001b[0m Multi_Model.fit([multi_train[:, 4:],multi_train[:, 0:4]], y = train_ratings,\n\u001b[1;32m      2\u001b[0m                 \u001b[0mvalidation_split\u001b[0m \u001b[0;34m=\u001b[0m \u001b[0;36m0.2\u001b[0m\u001b[0;34m,\u001b[0m \u001b[0mclass_weight\u001b[0m \u001b[0;34m=\u001b[0m \u001b[0mclass_weight\u001b[0m\u001b[0;34m,\u001b[0m\u001b[0;34m\u001b[0m\u001b[0;34m\u001b[0m\u001b[0m\n\u001b[0;32m----> 3\u001b[0;31m                 epochs = 10, batch_size = 120)\n\u001b[0m",
            "\u001b[0;32m/usr/local/lib/python3.6/dist-packages/tensorflow/python/keras/engine/training.py\u001b[0m in \u001b[0;36m_method_wrapper\u001b[0;34m(self, *args, **kwargs)\u001b[0m\n\u001b[1;32m    106\u001b[0m   \u001b[0;32mdef\u001b[0m \u001b[0m_method_wrapper\u001b[0m\u001b[0;34m(\u001b[0m\u001b[0mself\u001b[0m\u001b[0;34m,\u001b[0m \u001b[0;34m*\u001b[0m\u001b[0margs\u001b[0m\u001b[0;34m,\u001b[0m \u001b[0;34m**\u001b[0m\u001b[0mkwargs\u001b[0m\u001b[0;34m)\u001b[0m\u001b[0;34m:\u001b[0m\u001b[0;34m\u001b[0m\u001b[0;34m\u001b[0m\u001b[0m\n\u001b[1;32m    107\u001b[0m     \u001b[0;32mif\u001b[0m \u001b[0;32mnot\u001b[0m \u001b[0mself\u001b[0m\u001b[0;34m.\u001b[0m\u001b[0m_in_multi_worker_mode\u001b[0m\u001b[0;34m(\u001b[0m\u001b[0;34m)\u001b[0m\u001b[0;34m:\u001b[0m  \u001b[0;31m# pylint: disable=protected-access\u001b[0m\u001b[0;34m\u001b[0m\u001b[0;34m\u001b[0m\u001b[0m\n\u001b[0;32m--> 108\u001b[0;31m       \u001b[0;32mreturn\u001b[0m \u001b[0mmethod\u001b[0m\u001b[0;34m(\u001b[0m\u001b[0mself\u001b[0m\u001b[0;34m,\u001b[0m \u001b[0;34m*\u001b[0m\u001b[0margs\u001b[0m\u001b[0;34m,\u001b[0m \u001b[0;34m**\u001b[0m\u001b[0mkwargs\u001b[0m\u001b[0;34m)\u001b[0m\u001b[0;34m\u001b[0m\u001b[0;34m\u001b[0m\u001b[0m\n\u001b[0m\u001b[1;32m    109\u001b[0m \u001b[0;34m\u001b[0m\u001b[0m\n\u001b[1;32m    110\u001b[0m     \u001b[0;31m# Running inside `run_distribute_coordinator` already.\u001b[0m\u001b[0;34m\u001b[0m\u001b[0;34m\u001b[0m\u001b[0;34m\u001b[0m\u001b[0m\n",
            "\u001b[0;32m/usr/local/lib/python3.6/dist-packages/tensorflow/python/keras/engine/training.py\u001b[0m in \u001b[0;36mfit\u001b[0;34m(self, x, y, batch_size, epochs, verbose, callbacks, validation_split, validation_data, shuffle, class_weight, sample_weight, initial_epoch, steps_per_epoch, validation_steps, validation_batch_size, validation_freq, max_queue_size, workers, use_multiprocessing)\u001b[0m\n\u001b[1;32m   1096\u001b[0m                 batch_size=batch_size):\n\u001b[1;32m   1097\u001b[0m               \u001b[0mcallbacks\u001b[0m\u001b[0;34m.\u001b[0m\u001b[0mon_train_batch_begin\u001b[0m\u001b[0;34m(\u001b[0m\u001b[0mstep\u001b[0m\u001b[0;34m)\u001b[0m\u001b[0;34m\u001b[0m\u001b[0;34m\u001b[0m\u001b[0m\n\u001b[0;32m-> 1098\u001b[0;31m               \u001b[0mtmp_logs\u001b[0m \u001b[0;34m=\u001b[0m \u001b[0mtrain_function\u001b[0m\u001b[0;34m(\u001b[0m\u001b[0miterator\u001b[0m\u001b[0;34m)\u001b[0m\u001b[0;34m\u001b[0m\u001b[0;34m\u001b[0m\u001b[0m\n\u001b[0m\u001b[1;32m   1099\u001b[0m               \u001b[0;32mif\u001b[0m \u001b[0mdata_handler\u001b[0m\u001b[0;34m.\u001b[0m\u001b[0mshould_sync\u001b[0m\u001b[0;34m:\u001b[0m\u001b[0;34m\u001b[0m\u001b[0;34m\u001b[0m\u001b[0m\n\u001b[1;32m   1100\u001b[0m                 \u001b[0mcontext\u001b[0m\u001b[0;34m.\u001b[0m\u001b[0masync_wait\u001b[0m\u001b[0;34m(\u001b[0m\u001b[0;34m)\u001b[0m\u001b[0;34m\u001b[0m\u001b[0;34m\u001b[0m\u001b[0m\n",
            "\u001b[0;32m/usr/local/lib/python3.6/dist-packages/tensorflow/python/eager/def_function.py\u001b[0m in \u001b[0;36m__call__\u001b[0;34m(self, *args, **kwds)\u001b[0m\n\u001b[1;32m    778\u001b[0m       \u001b[0;32melse\u001b[0m\u001b[0;34m:\u001b[0m\u001b[0;34m\u001b[0m\u001b[0;34m\u001b[0m\u001b[0m\n\u001b[1;32m    779\u001b[0m         \u001b[0mcompiler\u001b[0m \u001b[0;34m=\u001b[0m \u001b[0;34m\"nonXla\"\u001b[0m\u001b[0;34m\u001b[0m\u001b[0;34m\u001b[0m\u001b[0m\n\u001b[0;32m--> 780\u001b[0;31m         \u001b[0mresult\u001b[0m \u001b[0;34m=\u001b[0m \u001b[0mself\u001b[0m\u001b[0;34m.\u001b[0m\u001b[0m_call\u001b[0m\u001b[0;34m(\u001b[0m\u001b[0;34m*\u001b[0m\u001b[0margs\u001b[0m\u001b[0;34m,\u001b[0m \u001b[0;34m**\u001b[0m\u001b[0mkwds\u001b[0m\u001b[0;34m)\u001b[0m\u001b[0;34m\u001b[0m\u001b[0;34m\u001b[0m\u001b[0m\n\u001b[0m\u001b[1;32m    781\u001b[0m \u001b[0;34m\u001b[0m\u001b[0m\n\u001b[1;32m    782\u001b[0m       \u001b[0mnew_tracing_count\u001b[0m \u001b[0;34m=\u001b[0m \u001b[0mself\u001b[0m\u001b[0;34m.\u001b[0m\u001b[0m_get_tracing_count\u001b[0m\u001b[0;34m(\u001b[0m\u001b[0;34m)\u001b[0m\u001b[0;34m\u001b[0m\u001b[0;34m\u001b[0m\u001b[0m\n",
            "\u001b[0;32m/usr/local/lib/python3.6/dist-packages/tensorflow/python/eager/def_function.py\u001b[0m in \u001b[0;36m_call\u001b[0;34m(self, *args, **kwds)\u001b[0m\n\u001b[1;32m    821\u001b[0m       \u001b[0;31m# This is the first call of __call__, so we have to initialize.\u001b[0m\u001b[0;34m\u001b[0m\u001b[0;34m\u001b[0m\u001b[0;34m\u001b[0m\u001b[0m\n\u001b[1;32m    822\u001b[0m       \u001b[0minitializers\u001b[0m \u001b[0;34m=\u001b[0m \u001b[0;34m[\u001b[0m\u001b[0;34m]\u001b[0m\u001b[0;34m\u001b[0m\u001b[0;34m\u001b[0m\u001b[0m\n\u001b[0;32m--> 823\u001b[0;31m       \u001b[0mself\u001b[0m\u001b[0;34m.\u001b[0m\u001b[0m_initialize\u001b[0m\u001b[0;34m(\u001b[0m\u001b[0margs\u001b[0m\u001b[0;34m,\u001b[0m \u001b[0mkwds\u001b[0m\u001b[0;34m,\u001b[0m \u001b[0madd_initializers_to\u001b[0m\u001b[0;34m=\u001b[0m\u001b[0minitializers\u001b[0m\u001b[0;34m)\u001b[0m\u001b[0;34m\u001b[0m\u001b[0;34m\u001b[0m\u001b[0m\n\u001b[0m\u001b[1;32m    824\u001b[0m     \u001b[0;32mfinally\u001b[0m\u001b[0;34m:\u001b[0m\u001b[0;34m\u001b[0m\u001b[0;34m\u001b[0m\u001b[0m\n\u001b[1;32m    825\u001b[0m       \u001b[0;31m# At this point we know that the initialization is complete (or less\u001b[0m\u001b[0;34m\u001b[0m\u001b[0;34m\u001b[0m\u001b[0;34m\u001b[0m\u001b[0m\n",
            "\u001b[0;32m/usr/local/lib/python3.6/dist-packages/tensorflow/python/eager/def_function.py\u001b[0m in \u001b[0;36m_initialize\u001b[0;34m(self, args, kwds, add_initializers_to)\u001b[0m\n\u001b[1;32m    695\u001b[0m     self._concrete_stateful_fn = (\n\u001b[1;32m    696\u001b[0m         self._stateful_fn._get_concrete_function_internal_garbage_collected(  # pylint: disable=protected-access\n\u001b[0;32m--> 697\u001b[0;31m             *args, **kwds))\n\u001b[0m\u001b[1;32m    698\u001b[0m \u001b[0;34m\u001b[0m\u001b[0m\n\u001b[1;32m    699\u001b[0m     \u001b[0;32mdef\u001b[0m \u001b[0minvalid_creator_scope\u001b[0m\u001b[0;34m(\u001b[0m\u001b[0;34m*\u001b[0m\u001b[0munused_args\u001b[0m\u001b[0;34m,\u001b[0m \u001b[0;34m**\u001b[0m\u001b[0munused_kwds\u001b[0m\u001b[0;34m)\u001b[0m\u001b[0;34m:\u001b[0m\u001b[0;34m\u001b[0m\u001b[0;34m\u001b[0m\u001b[0m\n",
            "\u001b[0;32m/usr/local/lib/python3.6/dist-packages/tensorflow/python/eager/function.py\u001b[0m in \u001b[0;36m_get_concrete_function_internal_garbage_collected\u001b[0;34m(self, *args, **kwargs)\u001b[0m\n\u001b[1;32m   2853\u001b[0m       \u001b[0margs\u001b[0m\u001b[0;34m,\u001b[0m \u001b[0mkwargs\u001b[0m \u001b[0;34m=\u001b[0m \u001b[0;32mNone\u001b[0m\u001b[0;34m,\u001b[0m \u001b[0;32mNone\u001b[0m\u001b[0;34m\u001b[0m\u001b[0;34m\u001b[0m\u001b[0m\n\u001b[1;32m   2854\u001b[0m     \u001b[0;32mwith\u001b[0m \u001b[0mself\u001b[0m\u001b[0;34m.\u001b[0m\u001b[0m_lock\u001b[0m\u001b[0;34m:\u001b[0m\u001b[0;34m\u001b[0m\u001b[0;34m\u001b[0m\u001b[0m\n\u001b[0;32m-> 2855\u001b[0;31m       \u001b[0mgraph_function\u001b[0m\u001b[0;34m,\u001b[0m \u001b[0m_\u001b[0m\u001b[0;34m,\u001b[0m \u001b[0m_\u001b[0m \u001b[0;34m=\u001b[0m \u001b[0mself\u001b[0m\u001b[0;34m.\u001b[0m\u001b[0m_maybe_define_function\u001b[0m\u001b[0;34m(\u001b[0m\u001b[0margs\u001b[0m\u001b[0;34m,\u001b[0m \u001b[0mkwargs\u001b[0m\u001b[0;34m)\u001b[0m\u001b[0;34m\u001b[0m\u001b[0;34m\u001b[0m\u001b[0m\n\u001b[0m\u001b[1;32m   2856\u001b[0m     \u001b[0;32mreturn\u001b[0m \u001b[0mgraph_function\u001b[0m\u001b[0;34m\u001b[0m\u001b[0;34m\u001b[0m\u001b[0m\n\u001b[1;32m   2857\u001b[0m \u001b[0;34m\u001b[0m\u001b[0m\n",
            "\u001b[0;32m/usr/local/lib/python3.6/dist-packages/tensorflow/python/eager/function.py\u001b[0m in \u001b[0;36m_maybe_define_function\u001b[0;34m(self, args, kwargs)\u001b[0m\n\u001b[1;32m   3211\u001b[0m \u001b[0;34m\u001b[0m\u001b[0m\n\u001b[1;32m   3212\u001b[0m       \u001b[0mself\u001b[0m\u001b[0;34m.\u001b[0m\u001b[0m_function_cache\u001b[0m\u001b[0;34m.\u001b[0m\u001b[0mmissed\u001b[0m\u001b[0;34m.\u001b[0m\u001b[0madd\u001b[0m\u001b[0;34m(\u001b[0m\u001b[0mcall_context_key\u001b[0m\u001b[0;34m)\u001b[0m\u001b[0;34m\u001b[0m\u001b[0;34m\u001b[0m\u001b[0m\n\u001b[0;32m-> 3213\u001b[0;31m       \u001b[0mgraph_function\u001b[0m \u001b[0;34m=\u001b[0m \u001b[0mself\u001b[0m\u001b[0;34m.\u001b[0m\u001b[0m_create_graph_function\u001b[0m\u001b[0;34m(\u001b[0m\u001b[0margs\u001b[0m\u001b[0;34m,\u001b[0m \u001b[0mkwargs\u001b[0m\u001b[0;34m)\u001b[0m\u001b[0;34m\u001b[0m\u001b[0;34m\u001b[0m\u001b[0m\n\u001b[0m\u001b[1;32m   3214\u001b[0m       \u001b[0mself\u001b[0m\u001b[0;34m.\u001b[0m\u001b[0m_function_cache\u001b[0m\u001b[0;34m.\u001b[0m\u001b[0mprimary\u001b[0m\u001b[0;34m[\u001b[0m\u001b[0mcache_key\u001b[0m\u001b[0;34m]\u001b[0m \u001b[0;34m=\u001b[0m \u001b[0mgraph_function\u001b[0m\u001b[0;34m\u001b[0m\u001b[0;34m\u001b[0m\u001b[0m\n\u001b[1;32m   3215\u001b[0m       \u001b[0;32mreturn\u001b[0m \u001b[0mgraph_function\u001b[0m\u001b[0;34m,\u001b[0m \u001b[0margs\u001b[0m\u001b[0;34m,\u001b[0m \u001b[0mkwargs\u001b[0m\u001b[0;34m\u001b[0m\u001b[0;34m\u001b[0m\u001b[0m\n",
            "\u001b[0;32m/usr/local/lib/python3.6/dist-packages/tensorflow/python/eager/function.py\u001b[0m in \u001b[0;36m_create_graph_function\u001b[0;34m(self, args, kwargs, override_flat_arg_shapes)\u001b[0m\n\u001b[1;32m   3073\u001b[0m             \u001b[0marg_names\u001b[0m\u001b[0;34m=\u001b[0m\u001b[0marg_names\u001b[0m\u001b[0;34m,\u001b[0m\u001b[0;34m\u001b[0m\u001b[0;34m\u001b[0m\u001b[0m\n\u001b[1;32m   3074\u001b[0m             \u001b[0moverride_flat_arg_shapes\u001b[0m\u001b[0;34m=\u001b[0m\u001b[0moverride_flat_arg_shapes\u001b[0m\u001b[0;34m,\u001b[0m\u001b[0;34m\u001b[0m\u001b[0;34m\u001b[0m\u001b[0m\n\u001b[0;32m-> 3075\u001b[0;31m             capture_by_value=self._capture_by_value),\n\u001b[0m\u001b[1;32m   3076\u001b[0m         \u001b[0mself\u001b[0m\u001b[0;34m.\u001b[0m\u001b[0m_function_attributes\u001b[0m\u001b[0;34m,\u001b[0m\u001b[0;34m\u001b[0m\u001b[0;34m\u001b[0m\u001b[0m\n\u001b[1;32m   3077\u001b[0m         \u001b[0mfunction_spec\u001b[0m\u001b[0;34m=\u001b[0m\u001b[0mself\u001b[0m\u001b[0;34m.\u001b[0m\u001b[0mfunction_spec\u001b[0m\u001b[0;34m,\u001b[0m\u001b[0;34m\u001b[0m\u001b[0;34m\u001b[0m\u001b[0m\n",
            "\u001b[0;32m/usr/local/lib/python3.6/dist-packages/tensorflow/python/framework/func_graph.py\u001b[0m in \u001b[0;36mfunc_graph_from_py_func\u001b[0;34m(name, python_func, args, kwargs, signature, func_graph, autograph, autograph_options, add_control_dependencies, arg_names, op_return_value, collections, capture_by_value, override_flat_arg_shapes)\u001b[0m\n\u001b[1;32m    984\u001b[0m         \u001b[0m_\u001b[0m\u001b[0;34m,\u001b[0m \u001b[0moriginal_func\u001b[0m \u001b[0;34m=\u001b[0m \u001b[0mtf_decorator\u001b[0m\u001b[0;34m.\u001b[0m\u001b[0munwrap\u001b[0m\u001b[0;34m(\u001b[0m\u001b[0mpython_func\u001b[0m\u001b[0;34m)\u001b[0m\u001b[0;34m\u001b[0m\u001b[0;34m\u001b[0m\u001b[0m\n\u001b[1;32m    985\u001b[0m \u001b[0;34m\u001b[0m\u001b[0m\n\u001b[0;32m--> 986\u001b[0;31m       \u001b[0mfunc_outputs\u001b[0m \u001b[0;34m=\u001b[0m \u001b[0mpython_func\u001b[0m\u001b[0;34m(\u001b[0m\u001b[0;34m*\u001b[0m\u001b[0mfunc_args\u001b[0m\u001b[0;34m,\u001b[0m \u001b[0;34m**\u001b[0m\u001b[0mfunc_kwargs\u001b[0m\u001b[0;34m)\u001b[0m\u001b[0;34m\u001b[0m\u001b[0;34m\u001b[0m\u001b[0m\n\u001b[0m\u001b[1;32m    987\u001b[0m \u001b[0;34m\u001b[0m\u001b[0m\n\u001b[1;32m    988\u001b[0m       \u001b[0;31m# invariant: `func_outputs` contains only Tensors, CompositeTensors,\u001b[0m\u001b[0;34m\u001b[0m\u001b[0;34m\u001b[0m\u001b[0;34m\u001b[0m\u001b[0m\n",
            "\u001b[0;32m/usr/local/lib/python3.6/dist-packages/tensorflow/python/eager/def_function.py\u001b[0m in \u001b[0;36mwrapped_fn\u001b[0;34m(*args, **kwds)\u001b[0m\n\u001b[1;32m    598\u001b[0m         \u001b[0;31m# __wrapped__ allows AutoGraph to swap in a converted function. We give\u001b[0m\u001b[0;34m\u001b[0m\u001b[0;34m\u001b[0m\u001b[0;34m\u001b[0m\u001b[0m\n\u001b[1;32m    599\u001b[0m         \u001b[0;31m# the function a weak reference to itself to avoid a reference cycle.\u001b[0m\u001b[0;34m\u001b[0m\u001b[0;34m\u001b[0m\u001b[0;34m\u001b[0m\u001b[0m\n\u001b[0;32m--> 600\u001b[0;31m         \u001b[0;32mreturn\u001b[0m \u001b[0mweak_wrapped_fn\u001b[0m\u001b[0;34m(\u001b[0m\u001b[0;34m)\u001b[0m\u001b[0;34m.\u001b[0m\u001b[0m__wrapped__\u001b[0m\u001b[0;34m(\u001b[0m\u001b[0;34m*\u001b[0m\u001b[0margs\u001b[0m\u001b[0;34m,\u001b[0m \u001b[0;34m**\u001b[0m\u001b[0mkwds\u001b[0m\u001b[0;34m)\u001b[0m\u001b[0;34m\u001b[0m\u001b[0;34m\u001b[0m\u001b[0m\n\u001b[0m\u001b[1;32m    601\u001b[0m     \u001b[0mweak_wrapped_fn\u001b[0m \u001b[0;34m=\u001b[0m \u001b[0mweakref\u001b[0m\u001b[0;34m.\u001b[0m\u001b[0mref\u001b[0m\u001b[0;34m(\u001b[0m\u001b[0mwrapped_fn\u001b[0m\u001b[0;34m)\u001b[0m\u001b[0;34m\u001b[0m\u001b[0;34m\u001b[0m\u001b[0m\n\u001b[1;32m    602\u001b[0m \u001b[0;34m\u001b[0m\u001b[0m\n",
            "\u001b[0;32m/usr/local/lib/python3.6/dist-packages/tensorflow/python/framework/func_graph.py\u001b[0m in \u001b[0;36mwrapper\u001b[0;34m(*args, **kwargs)\u001b[0m\n\u001b[1;32m    971\u001b[0m           \u001b[0;32mexcept\u001b[0m \u001b[0mException\u001b[0m \u001b[0;32mas\u001b[0m \u001b[0me\u001b[0m\u001b[0;34m:\u001b[0m  \u001b[0;31m# pylint:disable=broad-except\u001b[0m\u001b[0;34m\u001b[0m\u001b[0;34m\u001b[0m\u001b[0m\n\u001b[1;32m    972\u001b[0m             \u001b[0;32mif\u001b[0m \u001b[0mhasattr\u001b[0m\u001b[0;34m(\u001b[0m\u001b[0me\u001b[0m\u001b[0;34m,\u001b[0m \u001b[0;34m\"ag_error_metadata\"\u001b[0m\u001b[0;34m)\u001b[0m\u001b[0;34m:\u001b[0m\u001b[0;34m\u001b[0m\u001b[0;34m\u001b[0m\u001b[0m\n\u001b[0;32m--> 973\u001b[0;31m               \u001b[0;32mraise\u001b[0m \u001b[0me\u001b[0m\u001b[0;34m.\u001b[0m\u001b[0mag_error_metadata\u001b[0m\u001b[0;34m.\u001b[0m\u001b[0mto_exception\u001b[0m\u001b[0;34m(\u001b[0m\u001b[0me\u001b[0m\u001b[0;34m)\u001b[0m\u001b[0;34m\u001b[0m\u001b[0;34m\u001b[0m\u001b[0m\n\u001b[0m\u001b[1;32m    974\u001b[0m             \u001b[0;32melse\u001b[0m\u001b[0;34m:\u001b[0m\u001b[0;34m\u001b[0m\u001b[0;34m\u001b[0m\u001b[0m\n\u001b[1;32m    975\u001b[0m               \u001b[0;32mraise\u001b[0m\u001b[0;34m\u001b[0m\u001b[0;34m\u001b[0m\u001b[0m\n",
            "\u001b[0;31mValueError\u001b[0m: in user code:\n\n    /usr/local/lib/python3.6/dist-packages/tensorflow/python/keras/engine/training.py:806 train_function  *\n        return step_function(self, iterator)\n    /usr/local/lib/python3.6/dist-packages/tensorflow/python/keras/engine/training.py:796 step_function  **\n        outputs = model.distribute_strategy.run(run_step, args=(data,))\n    /usr/local/lib/python3.6/dist-packages/tensorflow/python/distribute/distribute_lib.py:1211 run\n        return self._extended.call_for_each_replica(fn, args=args, kwargs=kwargs)\n    /usr/local/lib/python3.6/dist-packages/tensorflow/python/distribute/distribute_lib.py:2585 call_for_each_replica\n        return self._call_for_each_replica(fn, args, kwargs)\n    /usr/local/lib/python3.6/dist-packages/tensorflow/python/distribute/distribute_lib.py:2945 _call_for_each_replica\n        return fn(*args, **kwargs)\n    /usr/local/lib/python3.6/dist-packages/tensorflow/python/keras/engine/training.py:789 run_step  **\n        outputs = model.train_step(data)\n    /usr/local/lib/python3.6/dist-packages/tensorflow/python/keras/engine/training.py:747 train_step\n        y_pred = self(x, training=True)\n    /usr/local/lib/python3.6/dist-packages/tensorflow/python/keras/engine/base_layer.py:985 __call__\n        outputs = call_fn(inputs, *args, **kwargs)\n    /usr/local/lib/python3.6/dist-packages/tensorflow/python/keras/engine/functional.py:386 call\n        inputs, training=training, mask=mask)\n    /usr/local/lib/python3.6/dist-packages/tensorflow/python/keras/engine/functional.py:508 _run_internal_graph\n        outputs = node.layer(*args, **kwargs)\n    /usr/local/lib/python3.6/dist-packages/tensorflow/python/keras/engine/base_layer.py:976 __call__\n        self.name)\n    /usr/local/lib/python3.6/dist-packages/tensorflow/python/keras/engine/input_spec.py:196 assert_input_compatibility\n        str(x.shape.as_list()))\n\n    ValueError: Input 0 of layer conv1d_35 is incompatible with the layer: : expected min_ndim=3, found ndim=2. Full shape received: [None, 14]\n"
          ]
        }
      ]
    },
    {
      "cell_type": "code",
      "metadata": {
        "id": "f0ZMsNAlv33k"
      },
      "source": [
        ""
      ],
      "execution_count": null,
      "outputs": []
    }
  ]
}