{
  "nbformat": 4,
  "nbformat_minor": 0,
  "metadata": {
    "kernelspec": {
      "display_name": "Python 3",
      "language": "python",
      "name": "python3"
    },
    "language_info": {
      "codemirror_mode": {
        "name": "ipython",
        "version": 3
      },
      "file_extension": ".py",
      "mimetype": "text/x-python",
      "name": "python",
      "nbconvert_exporter": "python",
      "pygments_lexer": "ipython3",
      "version": "3.6.9"
    },
    "colab": {
      "name": "conv_1d.ipynb",
      "provenance": []
    }
  },
  "cells": [
    {
      "cell_type": "code",
      "metadata": {
        "id": "8VOMR-wJZBP7"
      },
      "source": [
        "import pandas as pd\n",
        "import numpy as np\n",
        "from tensorflow.keras import layers\n",
        "import tensorflow as tf \n",
        "import matplotlib.pyplot as plt\n",
        "import sklearn\n",
        "from sklearn.preprocessing import OneHotEncoder\n",
        "import tensorflow.keras as keras\n",
        "from tensorflow.keras.layers import Concatenate, Dense, Input, LSTM, Embedding, Dropout, Activation, GRU, Flatten\n",
        "from tensorflow.keras.layers import Bidirectional, GlobalMaxPool1D\n",
        "from tensorflow.keras.models import Model, Sequential\n",
        "from tensorflow.keras.layers import Convolution1D\n",
        "from tensorflow.keras import initializers, regularizers, constraints, optimizers, layers\n",
        "\n",
        "from sklearn.metrics import roc_curve, auc, confusion_matrix,accuracy_score,precision_score\n",
        "import seaborn as sns\n",
        "import matplotlib.pyplot as plt"
      ],
      "execution_count": null,
      "outputs": []
    },
    {
      "cell_type": "code",
      "metadata": {
        "id": "9LP0wyiuZBP7"
      },
      "source": [
        "review_df = pd.read_pickle('food_review_places.pickle')"
      ],
      "execution_count": null,
      "outputs": []
    },
    {
      "cell_type": "code",
      "metadata": {
        "colab": {
          "base_uri": "https://localhost:8080/"
        },
        "id": "qh1AqMo3ZBP7",
        "outputId": "6b8dba38-7d0f-43a9-f634-ebc1f84c40a7"
      },
      "source": [
        "review_df['rating'].value_counts()"
      ],
      "execution_count": null,
      "outputs": [
        {
          "output_type": "execute_result",
          "data": {
            "text/plain": [
              "5.0    34487\n",
              "4.0    19041\n",
              "3.0     8118\n",
              "2.0     5010\n",
              "1.0     3539\n",
              "Name: rating, dtype: int64"
            ]
          },
          "metadata": {
            "tags": []
          },
          "execution_count": 3
        }
      ]
    },
    {
      "cell_type": "code",
      "metadata": {
        "colab": {
          "base_uri": "https://localhost:8080/",
          "height": 1000
        },
        "id": "zESHVOfdZBP7",
        "outputId": "c8d5e12e-7e33-496a-eabe-34b1f02d88f7"
      },
      "source": [
        "review_df"
      ],
      "execution_count": null,
      "outputs": [
        {
          "output_type": "execute_result",
          "data": {
            "text/html": [
              "<div>\n",
              "<style scoped>\n",
              "    .dataframe tbody tr th:only-of-type {\n",
              "        vertical-align: middle;\n",
              "    }\n",
              "\n",
              "    .dataframe tbody tr th {\n",
              "        vertical-align: top;\n",
              "    }\n",
              "\n",
              "    .dataframe thead th {\n",
              "        text-align: right;\n",
              "    }\n",
              "</style>\n",
              "<table border=\"1\" class=\"dataframe\">\n",
              "  <thead>\n",
              "    <tr style=\"text-align: right;\">\n",
              "      <th></th>\n",
              "      <th>gPlusPlaceId</th>\n",
              "      <th>rating</th>\n",
              "      <th>reviewerName</th>\n",
              "      <th>reviewText</th>\n",
              "      <th>categories</th>\n",
              "      <th>unixReviewTime</th>\n",
              "      <th>reviewTime</th>\n",
              "      <th>gPlusUserId</th>\n",
              "      <th>name</th>\n",
              "      <th>price</th>\n",
              "      <th>address</th>\n",
              "      <th>hours</th>\n",
              "      <th>phone</th>\n",
              "      <th>closed</th>\n",
              "      <th>gps</th>\n",
              "      <th>lat</th>\n",
              "      <th>long</th>\n",
              "      <th>open_days</th>\n",
              "      <th>Dinner</th>\n",
              "      <th>Lunch</th>\n",
              "      <th>Breakfast</th>\n",
              "    </tr>\n",
              "  </thead>\n",
              "  <tbody>\n",
              "    <tr>\n",
              "      <th>0</th>\n",
              "      <td>112181651134020562716</td>\n",
              "      <td>5.0</td>\n",
              "      <td>jason wagner</td>\n",
              "      <td>stop dinner mahi mahi special fantast servic g...</td>\n",
              "      <td>[european restaurant, italian restaurant]</td>\n",
              "      <td>2012-10-18 21:56:05</td>\n",
              "      <td>2012-10-18</td>\n",
              "      <td>100000196778399872657</td>\n",
              "      <td>Pasquales Trattoria</td>\n",
              "      <td>None</td>\n",
              "      <td>[50 Lakeshore Rd W, Oakville, ON L6Y 2K3, Canada]</td>\n",
              "      <td>[[Monday, [['Closed']]], [Tuesday, [['11:30 am...</td>\n",
              "      <td>(905) 338-9090</td>\n",
              "      <td>False</td>\n",
              "      <td>[43.440331, -79.672851]</td>\n",
              "      <td>43.440331</td>\n",
              "      <td>-79.672851</td>\n",
              "      <td>6.0</td>\n",
              "      <td>1.0</td>\n",
              "      <td>0.0</td>\n",
              "      <td>0.0</td>\n",
              "    </tr>\n",
              "    <tr>\n",
              "      <th>1</th>\n",
              "      <td>109391653021436219474</td>\n",
              "      <td>5.0</td>\n",
              "      <td>heather goldsworthy</td>\n",
              "      <td>best coffe collingwood</td>\n",
              "      <td>[cafe]</td>\n",
              "      <td>2013-09-12 18:38:15</td>\n",
              "      <td>2013-09-12</td>\n",
              "      <td>100000427343266187570</td>\n",
              "      <td>Espresso Post</td>\n",
              "      <td>None</td>\n",
              "      <td>[139 Hurontario St, Collingwood, ON L9Y, Canada]</td>\n",
              "      <td>None</td>\n",
              "      <td>(705) 446-1740</td>\n",
              "      <td>False</td>\n",
              "      <td>[44.499252, -80.216587]</td>\n",
              "      <td>44.499252</td>\n",
              "      <td>-80.216587</td>\n",
              "      <td>NaN</td>\n",
              "      <td>NaN</td>\n",
              "      <td>NaN</td>\n",
              "      <td>NaN</td>\n",
              "    </tr>\n",
              "    <tr>\n",
              "      <th>2</th>\n",
              "      <td>109391653021436219474</td>\n",
              "      <td>5.0</td>\n",
              "      <td>nicholas clayton</td>\n",
              "      <td>locat old post offic outlet histor pedigre bes...</td>\n",
              "      <td>[cafe]</td>\n",
              "      <td>2013-05-04 01:35:12</td>\n",
              "      <td>2013-05-03</td>\n",
              "      <td>104975196938413074237</td>\n",
              "      <td>Espresso Post</td>\n",
              "      <td>None</td>\n",
              "      <td>[139 Hurontario St, Collingwood, ON L9Y, Canada]</td>\n",
              "      <td>None</td>\n",
              "      <td>(705) 446-1740</td>\n",
              "      <td>False</td>\n",
              "      <td>[44.499252, -80.216587]</td>\n",
              "      <td>44.499252</td>\n",
              "      <td>-80.216587</td>\n",
              "      <td>NaN</td>\n",
              "      <td>NaN</td>\n",
              "      <td>NaN</td>\n",
              "      <td>NaN</td>\n",
              "    </tr>\n",
              "    <tr>\n",
              "      <th>3</th>\n",
              "      <td>110864889964667973890</td>\n",
              "      <td>5.0</td>\n",
              "      <td>chris johnson</td>\n",
              "      <td>get right everi time love guy</td>\n",
              "      <td>[delivery restaurant, event planner, business ...</td>\n",
              "      <td>2011-09-15 21:54:03</td>\n",
              "      <td>2011-09-15</td>\n",
              "      <td>100000524810171549476</td>\n",
              "      <td>Delivered Dish | Portland, OR</td>\n",
              "      <td>$$</td>\n",
              "      <td>[Portland, OR]</td>\n",
              "      <td>[[Monday, [['8:00 am--9:00 pm']]], [Tuesday, [...</td>\n",
              "      <td>(503) 239-0100</td>\n",
              "      <td>False</td>\n",
              "      <td>[45.470342, -122.747085]</td>\n",
              "      <td>45.470342</td>\n",
              "      <td>-122.747085</td>\n",
              "      <td>7.0</td>\n",
              "      <td>1.0</td>\n",
              "      <td>0.0</td>\n",
              "      <td>0.0</td>\n",
              "    </tr>\n",
              "    <tr>\n",
              "      <th>4</th>\n",
              "      <td>110864889964667973890</td>\n",
              "      <td>1.0</td>\n",
              "      <td>allison lea</td>\n",
              "      <td>use servic order even show 1 hour 20 minut pro...</td>\n",
              "      <td>[delivery restaurant, event planner, business ...</td>\n",
              "      <td>2013-11-09 10:28:01</td>\n",
              "      <td>2013-11-08</td>\n",
              "      <td>100537426867747151661</td>\n",
              "      <td>Delivered Dish | Portland, OR</td>\n",
              "      <td>$$</td>\n",
              "      <td>[Portland, OR]</td>\n",
              "      <td>[[Monday, [['8:00 am--9:00 pm']]], [Tuesday, [...</td>\n",
              "      <td>(503) 239-0100</td>\n",
              "      <td>False</td>\n",
              "      <td>[45.470342, -122.747085]</td>\n",
              "      <td>45.470342</td>\n",
              "      <td>-122.747085</td>\n",
              "      <td>7.0</td>\n",
              "      <td>1.0</td>\n",
              "      <td>0.0</td>\n",
              "      <td>0.0</td>\n",
              "    </tr>\n",
              "    <tr>\n",
              "      <th>...</th>\n",
              "      <td>...</td>\n",
              "      <td>...</td>\n",
              "      <td>...</td>\n",
              "      <td>...</td>\n",
              "      <td>...</td>\n",
              "      <td>...</td>\n",
              "      <td>...</td>\n",
              "      <td>...</td>\n",
              "      <td>...</td>\n",
              "      <td>...</td>\n",
              "      <td>...</td>\n",
              "      <td>...</td>\n",
              "      <td>...</td>\n",
              "      <td>...</td>\n",
              "      <td>...</td>\n",
              "      <td>...</td>\n",
              "      <td>...</td>\n",
              "      <td>...</td>\n",
              "      <td>...</td>\n",
              "      <td>...</td>\n",
              "      <td>...</td>\n",
              "    </tr>\n",
              "    <tr>\n",
              "      <th>70190</th>\n",
              "      <td>113840395279665001642</td>\n",
              "      <td>5.0</td>\n",
              "      <td>ture jackson</td>\n",
              "      <td>great</td>\n",
              "      <td>[cafe]</td>\n",
              "      <td>2012-06-10 03:18:34</td>\n",
              "      <td>2012-06-09</td>\n",
              "      <td>106224892970344797880</td>\n",
              "      <td>Second Cup</td>\n",
              "      <td>None</td>\n",
              "      <td>[6550 200 St, Langley, BC V2Y 1P2, Canada]</td>\n",
              "      <td>[[Monday, [['8:00 am--9:00 pm']]], [Tuesday, [...</td>\n",
              "      <td>(604) 514-5085</td>\n",
              "      <td>True</td>\n",
              "      <td>[49.121205, -122.668297]</td>\n",
              "      <td>49.121205</td>\n",
              "      <td>-122.668297</td>\n",
              "      <td>7.0</td>\n",
              "      <td>1.0</td>\n",
              "      <td>0.0</td>\n",
              "      <td>1.0</td>\n",
              "    </tr>\n",
              "    <tr>\n",
              "      <th>70191</th>\n",
              "      <td>108887431842899649801</td>\n",
              "      <td>4.0</td>\n",
              "      <td>tomasz w</td>\n",
              "      <td>surprisingli good mere 14 buck get larg pizza ...</td>\n",
              "      <td>[delivery restaurant]</td>\n",
              "      <td>2013-11-16 05:42:46</td>\n",
              "      <td>2013-11-15</td>\n",
              "      <td>106224899821829244630</td>\n",
              "      <td>Little Caesars Pizza</td>\n",
              "      <td>$$$</td>\n",
              "      <td>[12830 96 Ave, Surrey, BC V3V 6A8, Canada]</td>\n",
              "      <td>[[Monday, [['11:00 am--11:00 pm']]], [Tuesday,...</td>\n",
              "      <td>(604) 584-0090</td>\n",
              "      <td>False</td>\n",
              "      <td>[49.176368, -122.867572]</td>\n",
              "      <td>49.176368</td>\n",
              "      <td>-122.867572</td>\n",
              "      <td>7.0</td>\n",
              "      <td>1.0</td>\n",
              "      <td>1.0</td>\n",
              "      <td>0.0</td>\n",
              "    </tr>\n",
              "    <tr>\n",
              "      <th>70192</th>\n",
              "      <td>112463911517644715471</td>\n",
              "      <td>2.0</td>\n",
              "      <td>adrian ludwin</td>\n",
              "      <td>busi march 2013</td>\n",
              "      <td>[cafe, dessert shop, ice cream shop]</td>\n",
              "      <td>2013-03-08 18:03:34</td>\n",
              "      <td>2013-03-08</td>\n",
              "      <td>106225840000504273299</td>\n",
              "      <td>Baskin-Robbins Ice Cream</td>\n",
              "      <td>$$</td>\n",
              "      <td>[1976 Queen St E, Toronto, ON M4L, Canada]</td>\n",
              "      <td>None</td>\n",
              "      <td>(416) 698-3103</td>\n",
              "      <td>True</td>\n",
              "      <td>[43.669867, -79.301196]</td>\n",
              "      <td>43.669867</td>\n",
              "      <td>-79.301196</td>\n",
              "      <td>NaN</td>\n",
              "      <td>NaN</td>\n",
              "      <td>NaN</td>\n",
              "      <td>NaN</td>\n",
              "    </tr>\n",
              "    <tr>\n",
              "      <th>70193</th>\n",
              "      <td>105703129044638346837</td>\n",
              "      <td>4.0</td>\n",
              "      <td>timothy decker</td>\n",
              "      <td>great food tim owner btw differ tim lol work h...</td>\n",
              "      <td>[bar]</td>\n",
              "      <td>2013-08-15 05:50:22</td>\n",
              "      <td>2013-08-14</td>\n",
              "      <td>106226813159080833866</td>\n",
              "      <td>Rainbow Bar</td>\n",
              "      <td>None</td>\n",
              "      <td>[905 W Main St, Owosso, MI 48867]</td>\n",
              "      <td>[[Monday, [['7:00 am--4:00 am']]], [Tuesday, [...</td>\n",
              "      <td>(989) 725-9880</td>\n",
              "      <td>False</td>\n",
              "      <td>[42.997547, -84.182386]</td>\n",
              "      <td>42.997547</td>\n",
              "      <td>-84.182386</td>\n",
              "      <td>7.0</td>\n",
              "      <td>1.0</td>\n",
              "      <td>1.0</td>\n",
              "      <td>1.0</td>\n",
              "    </tr>\n",
              "    <tr>\n",
              "      <th>70194</th>\n",
              "      <td>107307431130863968183</td>\n",
              "      <td>5.0</td>\n",
              "      <td>anthony carmoma</td>\n",
              "      <td>food great staff wonder make son feel home eve...</td>\n",
              "      <td>[american restaurant, steak house]</td>\n",
              "      <td>2013-12-25 19:06:20</td>\n",
              "      <td>2013-12-25</td>\n",
              "      <td>106226857281611966746</td>\n",
              "      <td>Applebee's Neighborhood Grill</td>\n",
              "      <td>$$</td>\n",
              "      <td>[750 Brown Rd, Auburn Hills, MI 48326]</td>\n",
              "      <td>[[Monday, [['11:00 am--12:00 am']]], [Tuesday,...</td>\n",
              "      <td>(248) 393-1496</td>\n",
              "      <td>False</td>\n",
              "      <td>[42.704263, -83.287868]</td>\n",
              "      <td>42.704263</td>\n",
              "      <td>-83.287868</td>\n",
              "      <td>7.0</td>\n",
              "      <td>1.0</td>\n",
              "      <td>1.0</td>\n",
              "      <td>0.0</td>\n",
              "    </tr>\n",
              "  </tbody>\n",
              "</table>\n",
              "<p>70195 rows × 21 columns</p>\n",
              "</div>"
            ],
            "text/plain": [
              "                gPlusPlaceId  rating  ... Lunch Breakfast\n",
              "0      112181651134020562716     5.0  ...   0.0       0.0\n",
              "1      109391653021436219474     5.0  ...   NaN       NaN\n",
              "2      109391653021436219474     5.0  ...   NaN       NaN\n",
              "3      110864889964667973890     5.0  ...   0.0       0.0\n",
              "4      110864889964667973890     1.0  ...   0.0       0.0\n",
              "...                      ...     ...  ...   ...       ...\n",
              "70190  113840395279665001642     5.0  ...   0.0       1.0\n",
              "70191  108887431842899649801     4.0  ...   1.0       0.0\n",
              "70192  112463911517644715471     2.0  ...   NaN       NaN\n",
              "70193  105703129044638346837     4.0  ...   1.0       1.0\n",
              "70194  107307431130863968183     5.0  ...   1.0       0.0\n",
              "\n",
              "[70195 rows x 21 columns]"
            ]
          },
          "metadata": {
            "tags": []
          },
          "execution_count": 4
        }
      ]
    },
    {
      "cell_type": "code",
      "metadata": {
        "id": "I3Fqf_kUZBP7"
      },
      "source": [
        "enc = OneHotEncoder()\n",
        "reviews = list(review_df['reviewText'])\n",
        "ratings = np.array(list(review_df['rating']))\n",
        "# one-hot encode the ratings\n",
        "ratings = enc.fit_transform(ratings.reshape(-1, 1)).toarray()"
      ],
      "execution_count": null,
      "outputs": []
    },
    {
      "cell_type": "code",
      "metadata": {
        "id": "ypYg51DNZBP7"
      },
      "source": [
        "split = 0.8\n",
        "train_len = int(split * len(reviews))\n",
        "train_reviews = np.array(reviews[:train_len])\n",
        "train_ratings = np.array(ratings[:train_len])\n",
        "test_reviews = np.array(reviews[train_len:])\n",
        "test_ratings = np.array(ratings[train_len:])"
      ],
      "execution_count": null,
      "outputs": []
    },
    {
      "cell_type": "code",
      "metadata": {
        "id": "Rs5pE4BjZBP7"
      },
      "source": [
        "max_size = 1000\n",
        "vectorize_layer = tf.keras.layers.experimental.preprocessing.TextVectorization(max_tokens=max_size, output_mode='int', output_sequence_length=20)\n",
        "vectorize_layer.adapt(train_reviews)"
      ],
      "execution_count": null,
      "outputs": []
    },
    {
      "cell_type": "code",
      "metadata": {
        "id": "dEodwYgOZBP8"
      },
      "source": [
        "inputs = tf.keras.layers.Input(shape=(1, ), dtype=tf.string, name='text')\n",
        "outputs = vectorize_layer(inputs)\n",
        "model = tf.keras.Model(inputs, outputs)\n",
        "# vocab = np.array(vectorize_layer.get_vocabulary())"
      ],
      "execution_count": null,
      "outputs": []
    },
    {
      "cell_type": "code",
      "metadata": {
        "id": "lmCL2a-PZBP8"
      },
      "source": [
        "encoded_train_reviews = model.predict(train_reviews)\n",
        "encoded_test_reviews = model.predict(test_reviews)"
      ],
      "execution_count": null,
      "outputs": []
    },
    {
      "cell_type": "code",
      "metadata": {
        "scrolled": true,
        "id": "h0pdHr7KZBP8"
      },
      "source": [
        "inputs = tf.keras.Input(shape=(20,), dtype=\"int64\")\n",
        "x = layers.Embedding(input_dim=1001, output_dim=256,)(inputs)\n",
        "x = layers.Dropout(0.2)(x)\n",
        "x = layers.Conv1D(32, 2, padding=\"valid\", activation=\"relu\", strides=1)(x)\n",
        "x = layers.GlobalMaxPooling1D()(x)\n",
        "x = layers.Dense(64, activation=\"relu\")(x)\n",
        "x = layers.Dropout(0.2)(x)\n",
        "predictions = layers.Dense(5, activation=\"softmax\", name=\"predictions\")(x)\n",
        "model = tf.keras.Model(inputs, predictions)"
      ],
      "execution_count": null,
      "outputs": []
    },
    {
      "cell_type": "code",
      "metadata": {
        "colab": {
          "base_uri": "https://localhost:8080/"
        },
        "id": "bIpDoFcaZBP8",
        "outputId": "a252817b-a918-4f54-9260-7c2e6a0c6356"
      },
      "source": [
        "model.compile(loss=\"categorical_crossentropy\", optimizer=\"adam\", metrics=[\"accuracy\"])\n",
        "model.summary()\n",
        "history = model.fit(encoded_train_reviews, train_ratings, validation_split=0.2, epochs=10)"
      ],
      "execution_count": null,
      "outputs": [
        {
          "output_type": "stream",
          "text": [
            "Model: \"functional_3\"\n",
            "_________________________________________________________________\n",
            "Layer (type)                 Output Shape              Param #   \n",
            "=================================================================\n",
            "input_1 (InputLayer)         [(None, 20)]              0         \n",
            "_________________________________________________________________\n",
            "embedding (Embedding)        (None, 20, 256)           256256    \n",
            "_________________________________________________________________\n",
            "dropout (Dropout)            (None, 20, 256)           0         \n",
            "_________________________________________________________________\n",
            "conv1d (Conv1D)              (None, 19, 32)            16416     \n",
            "_________________________________________________________________\n",
            "global_max_pooling1d (Global (None, 32)                0         \n",
            "_________________________________________________________________\n",
            "dense (Dense)                (None, 64)                2112      \n",
            "_________________________________________________________________\n",
            "dropout_1 (Dropout)          (None, 64)                0         \n",
            "_________________________________________________________________\n",
            "predictions (Dense)          (None, 5)                 325       \n",
            "=================================================================\n",
            "Total params: 275,109\n",
            "Trainable params: 275,109\n",
            "Non-trainable params: 0\n",
            "_________________________________________________________________\n",
            "Epoch 1/10\n",
            "1404/1404 [==============================] - 15s 10ms/step - loss: 1.0267 - accuracy: 0.5502 - val_loss: 0.9713 - val_accuracy: 0.5686\n",
            "Epoch 2/10\n",
            "1404/1404 [==============================] - 15s 10ms/step - loss: 0.9354 - accuracy: 0.5878 - val_loss: 0.9647 - val_accuracy: 0.5750\n",
            "Epoch 3/10\n",
            "1404/1404 [==============================] - 15s 10ms/step - loss: 0.8993 - accuracy: 0.6066 - val_loss: 0.9737 - val_accuracy: 0.5775\n",
            "Epoch 4/10\n",
            "1404/1404 [==============================] - 15s 11ms/step - loss: 0.8737 - accuracy: 0.6163 - val_loss: 0.9929 - val_accuracy: 0.5680\n",
            "Epoch 5/10\n",
            "1404/1404 [==============================] - 15s 11ms/step - loss: 0.8474 - accuracy: 0.6272 - val_loss: 1.0244 - val_accuracy: 0.5689\n",
            "Epoch 6/10\n",
            "1404/1404 [==============================] - 16s 11ms/step - loss: 0.8244 - accuracy: 0.6371 - val_loss: 1.0218 - val_accuracy: 0.5534\n",
            "Epoch 7/10\n",
            "1404/1404 [==============================] - 20s 14ms/step - loss: 0.8005 - accuracy: 0.6495 - val_loss: 1.0349 - val_accuracy: 0.5661\n",
            "Epoch 8/10\n",
            "1404/1404 [==============================] - 15s 11ms/step - loss: 0.7798 - accuracy: 0.6567 - val_loss: 1.0484 - val_accuracy: 0.5631\n",
            "Epoch 9/10\n",
            "1404/1404 [==============================] - 16s 11ms/step - loss: 0.7622 - accuracy: 0.6680 - val_loss: 1.0802 - val_accuracy: 0.5462\n",
            "Epoch 10/10\n",
            "1404/1404 [==============================] - 16s 11ms/step - loss: 0.7444 - accuracy: 0.6741 - val_loss: 1.1231 - val_accuracy: 0.5524\n"
          ],
          "name": "stdout"
        }
      ]
    },
    {
      "cell_type": "code",
      "metadata": {
        "colab": {
          "base_uri": "https://localhost:8080/"
        },
        "id": "_Zvgpn1UZBP8",
        "outputId": "f51e304f-3528-4c18-9d91-834acde3b838"
      },
      "source": [
        "score, acc = model.evaluate(encoded_test_reviews, test_ratings)"
      ],
      "execution_count": null,
      "outputs": [
        {
          "output_type": "stream",
          "text": [
            "439/439 [==============================] - 1s 3ms/step - loss: 1.1070 - accuracy: 0.5525\n"
          ],
          "name": "stdout"
        }
      ]
    },
    {
      "cell_type": "code",
      "metadata": {
        "id": "iOzFsFDKaJGx"
      },
      "source": [
        "prob_test = np.round(model.predict(encoded_test_reviews))\n",
        "prob_test = pd.DataFrame(data = prob_test, columns = ['1', '2', '3','4','5'])\n",
        "prob_test = prob_test.idxmax(axis = 1)\n",
        "\n",
        "test_ratings_df = pd.DataFrame(data = test_ratings, columns = ['1', '2', '3','4','5'])\n",
        "y_test_label = test_ratings_df.idxmax(axis = 1)"
      ],
      "execution_count": null,
      "outputs": []
    },
    {
      "cell_type": "code",
      "metadata": {
        "colab": {
          "base_uri": "https://localhost:8080/",
          "height": 449
        },
        "id": "KffKXLv_aPCm",
        "outputId": "d6c73f04-f452-45e0-93b0-c6a5c0651d15"
      },
      "source": [
        "\n",
        "# Calculate confusion matrix\n",
        "confusion_matrix_dnn = confusion_matrix(y_true = y_test_label, \n",
        "                    y_pred = prob_test)\n",
        "\n",
        "# Turn matrix to percentages\n",
        "confusion_matrix_dnn = confusion_matrix_dnn.astype('float') / confusion_matrix_dnn.sum(axis=1)[:, np.newaxis]\n",
        "\n",
        "# Turn to dataframe\n",
        "df_cm = pd.DataFrame(\n",
        "        confusion_matrix_dnn, index=['1', '2', '3','4','5'],\n",
        "         columns=['1', '2', '3','4','5'], \n",
        ")\n",
        "\n",
        "# Parameters of the image\n",
        "figsize = (10,7)\n",
        "fontsize=14\n",
        "\n",
        "# Create image\n",
        "fig = plt.figure(figsize=figsize)\n",
        "heatmap = sns.heatmap(df_cm, annot=True, fmt='.2f')\n",
        "\n",
        "# Make it nicer\n",
        "heatmap.yaxis.set_ticklabels(heatmap.yaxis.get_ticklabels(), rotation=0, \n",
        "                             ha='right', fontsize=fontsize)\n",
        "heatmap.xaxis.set_ticklabels(heatmap.xaxis.get_ticklabels(), rotation=45,\n",
        "                             ha='right', fontsize=fontsize)\n",
        "\n",
        "# Add labels\n",
        "plt.ylabel('True label')\n",
        "plt.xlabel('Predicted label')\n",
        "\n",
        "# Plot!\n",
        "plt.show()"
      ],
      "execution_count": null,
      "outputs": [
        {
          "output_type": "display_data",
          "data": {
            "image/png": "[encoded data removed]",
            "text/plain": [
              "<Figure size 720x504 with 2 Axes>"
            ]
          },
          "metadata": {
            "tags": [],
            "needs_background": "light"
          }
        }
      ]
    },
    {
      "cell_type": "code",
      "metadata": {
        "colab": {
          "base_uri": "https://localhost:8080/",
          "height": 265
        },
        "id": "qOt94eIxaRa0",
        "outputId": "0be502f9-bc77-4c9f-d36c-282f4bed9a2c"
      },
      "source": [
        "plt.plot(history.history['loss'],label = \"Train Loss\")\n",
        "plt.plot(history.history['val_loss'],label = 'Validation Loss')\n",
        "plt.legend()\n",
        "plt.show()"
      ],
      "execution_count": null,
      "outputs": [
        {
          "output_type": "display_data",
          "data": {
            "image/png": "[encoded data removed]",
            "text/plain": [
              "<Figure size 432x288 with 1 Axes>"
            ]
          },
          "metadata": {
            "tags": [],
            "needs_background": "light"
          }
        }
      ]
    },
    {
      "cell_type": "code",
      "metadata": {
        "colab": {
          "base_uri": "https://localhost:8080/"
        },
        "id": "8gCrtvMQahUm",
        "outputId": "fc9c042d-490e-4be9-9714-d3d658b30a91"
      },
      "source": [
        "accuracy_score(y_test_label,prob_test)*100"
      ],
      "execution_count": null,
      "outputs": [
        {
          "output_type": "execute_result",
          "data": {
            "text/plain": [
              "49.747132986679965"
            ]
          },
          "metadata": {
            "tags": []
          },
          "execution_count": 18
        }
      ]
    },
    {
      "cell_type": "code",
      "metadata": {
        "id": "PCO6nTR3amrM"
      },
      "source": [
        "prob_train = np.round(model.predict(encoded_train_reviews))\n",
        "prob_train = pd.DataFrame(data = prob_train, columns = ['1', '2', '3','4','5'])\n",
        "prob_train = prob_train.idxmax(axis = 1)\n",
        "\n",
        "train_ratings_df = pd.DataFrame(data = train_ratings, columns = ['1', '2', '3','4','5'])\n",
        "y_train_label = train_ratings_df.idxmax(axis = 1)"
      ],
      "execution_count": null,
      "outputs": []
    },
    {
      "cell_type": "code",
      "metadata": {
        "id": "kKjuHhemc98g",
        "colab": {
          "base_uri": "https://localhost:8080/"
        },
        "outputId": "55189520-e3c9-44c6-b75a-b75465217472"
      },
      "source": [
        "accuracy_score(y_train_label,prob_train)*100"
      ],
      "execution_count": null,
      "outputs": [
        {
          "output_type": "execute_result",
          "data": {
            "text/plain": [
              "62.39938742075647"
            ]
          },
          "metadata": {
            "tags": []
          },
          "execution_count": 20
        }
      ]
    },
    {
      "cell_type": "code",
      "metadata": {
        "id": "WBUK3J3Wc-lm"
      },
      "source": [
        ""
      ],
      "execution_count": null,
      "outputs": []
    }
  ]
}