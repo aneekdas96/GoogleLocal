{
 "cells": [
  {
   "cell_type": "markdown",
   "metadata": {},
   "source": [
    "#### Imports"
   ]
  },
  {
   "cell_type": "code",
   "execution_count": 1,
   "metadata": {},
   "outputs": [],
   "source": [
    "import pandas as pd\n",
    "import pickle\n",
    "import sklearn\n",
    "import tensorflow as tf\n",
    "from sklearn.preprocessing import OneHotEncoder\n",
    "import numpy as np\n",
    "import gensim\n",
    "from gensim.models import Word2Vec, KeyedVectors\n",
    "import nltk\n",
    "from nltk.tokenize import sent_tokenize, word_tokenize\n",
    "import sklearn\n",
    "from sklearn.preprocessing import OneHotEncoder\n",
    "import tensorflow.keras as keras\n",
    "from tensorflow.keras.layers import Concatenate, Dense, Input, LSTM, Embedding, Dropout, Activation, GRU, Flatten\n",
    "from tensorflow.keras.layers import Bidirectional, GlobalMaxPool1D,MaxPooling1D\n",
    "from tensorflow.keras.models import Model, Sequential\n",
    "from tensorflow.keras.layers import Convolution1D as Conv1D\n",
    "from tensorflow.keras import initializers, regularizers, constraints, optimizers, layers\n",
    "from sklearn.metrics import roc_curve, auc, confusion_matrix,accuracy_score,precision_score\n",
    "import seaborn as sns\n",
    "import matplotlib.pyplot as plt"
   ]
  },
  {
   "cell_type": "markdown",
   "metadata": {},
   "source": [
    "#### Read dataset"
   ]
  },
  {
   "cell_type": "code",
   "execution_count": 2,
   "metadata": {},
   "outputs": [],
   "source": [
    "dset = pd.read_pickle('restaurants_places.pickle')"
   ]
  },
  {
   "cell_type": "code",
   "execution_count": 3,
   "metadata": {},
   "outputs": [
    {
     "data": {
      "text/html": [
       "<div>\n",
       "<style scoped>\n",
       "    .dataframe tbody tr th:only-of-type {\n",
       "        vertical-align: middle;\n",
       "    }\n",
       "\n",
       "    .dataframe tbody tr th {\n",
       "        vertical-align: top;\n",
       "    }\n",
       "\n",
       "    .dataframe thead th {\n",
       "        text-align: right;\n",
       "    }\n",
       "</style>\n",
       "<table border=\"1\" class=\"dataframe\">\n",
       "  <thead>\n",
       "    <tr style=\"text-align: right;\">\n",
       "      <th></th>\n",
       "      <th>gPlusPlaceId</th>\n",
       "      <th>rating</th>\n",
       "      <th>reviewerName</th>\n",
       "      <th>reviewText</th>\n",
       "      <th>categories</th>\n",
       "      <th>unixReviewTime</th>\n",
       "      <th>reviewTime</th>\n",
       "      <th>gPlusUserId</th>\n",
       "      <th>name</th>\n",
       "      <th>price</th>\n",
       "      <th>...</th>\n",
       "      <th>hours</th>\n",
       "      <th>phone</th>\n",
       "      <th>closed</th>\n",
       "      <th>gps</th>\n",
       "      <th>lat</th>\n",
       "      <th>long</th>\n",
       "      <th>open_days</th>\n",
       "      <th>Dinner</th>\n",
       "      <th>Lunch</th>\n",
       "      <th>Breakfast</th>\n",
       "    </tr>\n",
       "  </thead>\n",
       "  <tbody>\n",
       "    <tr>\n",
       "      <th>0</th>\n",
       "      <td>112181651134020562716</td>\n",
       "      <td>5.0</td>\n",
       "      <td>jason wagner</td>\n",
       "      <td>stopped dinner mahi mahi special fantastic ser...</td>\n",
       "      <td>[european restaurant, italian restaurant]</td>\n",
       "      <td>1.35058e+09</td>\n",
       "      <td>Oct 18, 2012</td>\n",
       "      <td>100000196778399872657</td>\n",
       "      <td>Pasquales Trattoria</td>\n",
       "      <td>None</td>\n",
       "      <td>...</td>\n",
       "      <td>[[Monday, [['Closed']]], [Tuesday, [['11:30 am...</td>\n",
       "      <td>(905) 338-9090</td>\n",
       "      <td>False</td>\n",
       "      <td>[43.440331, -79.672851]</td>\n",
       "      <td>43.440331</td>\n",
       "      <td>-79.672851</td>\n",
       "      <td>6.0</td>\n",
       "      <td>1.0</td>\n",
       "      <td>0.0</td>\n",
       "      <td>0.0</td>\n",
       "    </tr>\n",
       "    <tr>\n",
       "      <th>1</th>\n",
       "      <td>116784654951669476004</td>\n",
       "      <td>4.0</td>\n",
       "      <td>betsi h</td>\n",
       "      <td>parents stopped dinner hospital procedure rest...</td>\n",
       "      <td>[restaurant]</td>\n",
       "      <td>1.39149e+09</td>\n",
       "      <td>Feb 3, 2014</td>\n",
       "      <td>100000217241208417605</td>\n",
       "      <td>Ming's Asian Bistro</td>\n",
       "      <td>None</td>\n",
       "      <td>...</td>\n",
       "      <td>None</td>\n",
       "      <td>(906) 482-9888</td>\n",
       "      <td>False</td>\n",
       "      <td>[47.11239, -88.585033]</td>\n",
       "      <td>47.112390</td>\n",
       "      <td>-88.585033</td>\n",
       "      <td>NaN</td>\n",
       "      <td>NaN</td>\n",
       "      <td>NaN</td>\n",
       "      <td>NaN</td>\n",
       "    </tr>\n",
       "    <tr>\n",
       "      <th>2</th>\n",
       "      <td>116784654951669476004</td>\n",
       "      <td>5.0</td>\n",
       "      <td>koryne marzicola</td>\n",
       "      <td>amazing delishious definedly recommend mings a...</td>\n",
       "      <td>[restaurant]</td>\n",
       "      <td>1.34869e+09</td>\n",
       "      <td>Sep 26, 2012</td>\n",
       "      <td>104217571457797699036</td>\n",
       "      <td>Ming's Asian Bistro</td>\n",
       "      <td>None</td>\n",
       "      <td>...</td>\n",
       "      <td>None</td>\n",
       "      <td>(906) 482-9888</td>\n",
       "      <td>False</td>\n",
       "      <td>[47.11239, -88.585033]</td>\n",
       "      <td>47.112390</td>\n",
       "      <td>-88.585033</td>\n",
       "      <td>NaN</td>\n",
       "      <td>NaN</td>\n",
       "      <td>NaN</td>\n",
       "      <td>NaN</td>\n",
       "    </tr>\n",
       "    <tr>\n",
       "      <th>3</th>\n",
       "      <td>109391653021436219474</td>\n",
       "      <td>5.0</td>\n",
       "      <td>heather goldsworthy</td>\n",
       "      <td>best coffee collingwood</td>\n",
       "      <td>[cafe]</td>\n",
       "      <td>1.37899e+09</td>\n",
       "      <td>Sep 12, 2013</td>\n",
       "      <td>100000427343266187570</td>\n",
       "      <td>Espresso Post</td>\n",
       "      <td>None</td>\n",
       "      <td>...</td>\n",
       "      <td>None</td>\n",
       "      <td>(705) 446-1740</td>\n",
       "      <td>False</td>\n",
       "      <td>[44.499252, -80.216587]</td>\n",
       "      <td>44.499252</td>\n",
       "      <td>-80.216587</td>\n",
       "      <td>NaN</td>\n",
       "      <td>NaN</td>\n",
       "      <td>NaN</td>\n",
       "      <td>NaN</td>\n",
       "    </tr>\n",
       "    <tr>\n",
       "      <th>4</th>\n",
       "      <td>109391653021436219474</td>\n",
       "      <td>5.0</td>\n",
       "      <td>nicholas clayton</td>\n",
       "      <td>located old post office outlet historical pedi...</td>\n",
       "      <td>[cafe]</td>\n",
       "      <td>1.36761e+09</td>\n",
       "      <td>May 3, 2013</td>\n",
       "      <td>104975196938413074237</td>\n",
       "      <td>Espresso Post</td>\n",
       "      <td>None</td>\n",
       "      <td>...</td>\n",
       "      <td>None</td>\n",
       "      <td>(705) 446-1740</td>\n",
       "      <td>False</td>\n",
       "      <td>[44.499252, -80.216587]</td>\n",
       "      <td>44.499252</td>\n",
       "      <td>-80.216587</td>\n",
       "      <td>NaN</td>\n",
       "      <td>NaN</td>\n",
       "      <td>NaN</td>\n",
       "      <td>NaN</td>\n",
       "    </tr>\n",
       "    <tr>\n",
       "      <th>...</th>\n",
       "      <td>...</td>\n",
       "      <td>...</td>\n",
       "      <td>...</td>\n",
       "      <td>...</td>\n",
       "      <td>...</td>\n",
       "      <td>...</td>\n",
       "      <td>...</td>\n",
       "      <td>...</td>\n",
       "      <td>...</td>\n",
       "      <td>...</td>\n",
       "      <td>...</td>\n",
       "      <td>...</td>\n",
       "      <td>...</td>\n",
       "      <td>...</td>\n",
       "      <td>...</td>\n",
       "      <td>...</td>\n",
       "      <td>...</td>\n",
       "      <td>...</td>\n",
       "      <td>...</td>\n",
       "      <td>...</td>\n",
       "      <td>...</td>\n",
       "    </tr>\n",
       "    <tr>\n",
       "      <th>115125</th>\n",
       "      <td>100517859306829739433</td>\n",
       "      <td>5.0</td>\n",
       "      <td>joel bouchard</td>\n",
       "      <td>came wild guess last night trip kitchener turn...</td>\n",
       "      <td>[bar &amp; grill]</td>\n",
       "      <td>1.37634e+09</td>\n",
       "      <td>Aug 12, 2013</td>\n",
       "      <td>106225026430651908241</td>\n",
       "      <td>Moxie's Grill &amp; Bar Kitchener-Waterloo</td>\n",
       "      <td>None</td>\n",
       "      <td>...</td>\n",
       "      <td>[[Monday, [['11:00 am--12:00 am']]], [Tuesday,...</td>\n",
       "      <td>(519) 208-4488</td>\n",
       "      <td>False</td>\n",
       "      <td>[43.419861, -80.441227]</td>\n",
       "      <td>43.419861</td>\n",
       "      <td>-80.441227</td>\n",
       "      <td>7.0</td>\n",
       "      <td>1.0</td>\n",
       "      <td>1.0</td>\n",
       "      <td>0.0</td>\n",
       "    </tr>\n",
       "    <tr>\n",
       "      <th>115126</th>\n",
       "      <td>105079829670069980439</td>\n",
       "      <td>5.0</td>\n",
       "      <td>craigs lister</td>\n",
       "      <td>best latin restaurant food state food always f...</td>\n",
       "      <td>[restaurant]</td>\n",
       "      <td>1.31904e+09</td>\n",
       "      <td>Oct 19, 2011</td>\n",
       "      <td>106225339835084588441</td>\n",
       "      <td>Macorisano Serie 23</td>\n",
       "      <td>None</td>\n",
       "      <td>...</td>\n",
       "      <td>None</td>\n",
       "      <td>(781) 592-5823</td>\n",
       "      <td>False</td>\n",
       "      <td>[42.464978, -70.948156]</td>\n",
       "      <td>42.464978</td>\n",
       "      <td>-70.948156</td>\n",
       "      <td>NaN</td>\n",
       "      <td>NaN</td>\n",
       "      <td>NaN</td>\n",
       "      <td>NaN</td>\n",
       "    </tr>\n",
       "    <tr>\n",
       "      <th>115127</th>\n",
       "      <td>110494876430584380792</td>\n",
       "      <td>3.0</td>\n",
       "      <td>craigs lister</td>\n",
       "      <td>n t see big deal ordered take out times ok pro...</td>\n",
       "      <td>[chinese restaurant, asian restaurant, pan-asi...</td>\n",
       "      <td>1.31973e+09</td>\n",
       "      <td>Oct 27, 2011</td>\n",
       "      <td>106225339835084588441</td>\n",
       "      <td>Billy Tse</td>\n",
       "      <td>$$</td>\n",
       "      <td>...</td>\n",
       "      <td>[[Monday, [['11:00 am--12:00 am']]], [Tuesday,...</td>\n",
       "      <td>(781) 286-2882</td>\n",
       "      <td>False</td>\n",
       "      <td>[42.418534, -70.993968]</td>\n",
       "      <td>42.418534</td>\n",
       "      <td>-70.993968</td>\n",
       "      <td>7.0</td>\n",
       "      <td>1.0</td>\n",
       "      <td>1.0</td>\n",
       "      <td>0.0</td>\n",
       "    </tr>\n",
       "    <tr>\n",
       "      <th>115128</th>\n",
       "      <td>104051761369663560291</td>\n",
       "      <td>4.0</td>\n",
       "      <td>kellygirllashes</td>\n",
       "      <td>visiting michigan yesterday introduced place g...</td>\n",
       "      <td>[restaurant, steak house]</td>\n",
       "      <td>1.37745e+09</td>\n",
       "      <td>Aug 25, 2013</td>\n",
       "      <td>106226607739575020646</td>\n",
       "      <td>Big John Steak &amp; Onion</td>\n",
       "      <td>None</td>\n",
       "      <td>...</td>\n",
       "      <td>[[Monday, [['7:00 am--10:00 pm']]], [Tuesday, ...</td>\n",
       "      <td>(810) 232-9322</td>\n",
       "      <td>False</td>\n",
       "      <td>[43.002459, -83.743579]</td>\n",
       "      <td>43.002459</td>\n",
       "      <td>-83.743579</td>\n",
       "      <td>7.0</td>\n",
       "      <td>1.0</td>\n",
       "      <td>0.0</td>\n",
       "      <td>1.0</td>\n",
       "    </tr>\n",
       "    <tr>\n",
       "      <th>115129</th>\n",
       "      <td>105703129044638346837</td>\n",
       "      <td>4.0</td>\n",
       "      <td>timothy decker</td>\n",
       "      <td>great food tim owner btw different tim lol wor...</td>\n",
       "      <td>[bar]</td>\n",
       "      <td>1.37653e+09</td>\n",
       "      <td>Aug 14, 2013</td>\n",
       "      <td>106226813159080833866</td>\n",
       "      <td>Rainbow Bar</td>\n",
       "      <td>None</td>\n",
       "      <td>...</td>\n",
       "      <td>[[Monday, [['7:00 am--4:00 am']]], [Tuesday, [...</td>\n",
       "      <td>(989) 725-9880</td>\n",
       "      <td>False</td>\n",
       "      <td>[42.997547, -84.182386]</td>\n",
       "      <td>42.997547</td>\n",
       "      <td>-84.182386</td>\n",
       "      <td>7.0</td>\n",
       "      <td>1.0</td>\n",
       "      <td>1.0</td>\n",
       "      <td>1.0</td>\n",
       "    </tr>\n",
       "  </tbody>\n",
       "</table>\n",
       "<p>115130 rows × 21 columns</p>\n",
       "</div>"
      ],
      "text/plain": [
       "                 gPlusPlaceId  rating         reviewerName  \\\n",
       "0       112181651134020562716     5.0         jason wagner   \n",
       "1       116784654951669476004     4.0              betsi h   \n",
       "2       116784654951669476004     5.0     koryne marzicola   \n",
       "3       109391653021436219474     5.0  heather goldsworthy   \n",
       "4       109391653021436219474     5.0     nicholas clayton   \n",
       "...                       ...     ...                  ...   \n",
       "115125  100517859306829739433     5.0        joel bouchard   \n",
       "115126  105079829670069980439     5.0        craigs lister   \n",
       "115127  110494876430584380792     3.0        craigs lister   \n",
       "115128  104051761369663560291     4.0      kellygirllashes   \n",
       "115129  105703129044638346837     4.0       timothy decker   \n",
       "\n",
       "                                               reviewText  \\\n",
       "0       stopped dinner mahi mahi special fantastic ser...   \n",
       "1       parents stopped dinner hospital procedure rest...   \n",
       "2       amazing delishious definedly recommend mings a...   \n",
       "3                                 best coffee collingwood   \n",
       "4       located old post office outlet historical pedi...   \n",
       "...                                                   ...   \n",
       "115125  came wild guess last night trip kitchener turn...   \n",
       "115126  best latin restaurant food state food always f...   \n",
       "115127  n t see big deal ordered take out times ok pro...   \n",
       "115128  visiting michigan yesterday introduced place g...   \n",
       "115129  great food tim owner btw different tim lol wor...   \n",
       "\n",
       "                                               categories unixReviewTime  \\\n",
       "0               [european restaurant, italian restaurant]    1.35058e+09   \n",
       "1                                            [restaurant]    1.39149e+09   \n",
       "2                                            [restaurant]    1.34869e+09   \n",
       "3                                                  [cafe]    1.37899e+09   \n",
       "4                                                  [cafe]    1.36761e+09   \n",
       "...                                                   ...            ...   \n",
       "115125                                      [bar & grill]    1.37634e+09   \n",
       "115126                                       [restaurant]    1.31904e+09   \n",
       "115127  [chinese restaurant, asian restaurant, pan-asi...    1.31973e+09   \n",
       "115128                          [restaurant, steak house]    1.37745e+09   \n",
       "115129                                              [bar]    1.37653e+09   \n",
       "\n",
       "          reviewTime            gPlusUserId  \\\n",
       "0       Oct 18, 2012  100000196778399872657   \n",
       "1        Feb 3, 2014  100000217241208417605   \n",
       "2       Sep 26, 2012  104217571457797699036   \n",
       "3       Sep 12, 2013  100000427343266187570   \n",
       "4        May 3, 2013  104975196938413074237   \n",
       "...              ...                    ...   \n",
       "115125  Aug 12, 2013  106225026430651908241   \n",
       "115126  Oct 19, 2011  106225339835084588441   \n",
       "115127  Oct 27, 2011  106225339835084588441   \n",
       "115128  Aug 25, 2013  106226607739575020646   \n",
       "115129  Aug 14, 2013  106226813159080833866   \n",
       "\n",
       "                                          name price  ...  \\\n",
       "0                          Pasquales Trattoria  None  ...   \n",
       "1                          Ming's Asian Bistro  None  ...   \n",
       "2                          Ming's Asian Bistro  None  ...   \n",
       "3                                Espresso Post  None  ...   \n",
       "4                                Espresso Post  None  ...   \n",
       "...                                        ...   ...  ...   \n",
       "115125  Moxie's Grill & Bar Kitchener-Waterloo  None  ...   \n",
       "115126                     Macorisano Serie 23  None  ...   \n",
       "115127                               Billy Tse    $$  ...   \n",
       "115128                  Big John Steak & Onion  None  ...   \n",
       "115129                             Rainbow Bar  None  ...   \n",
       "\n",
       "                                                    hours           phone  \\\n",
       "0       [[Monday, [['Closed']]], [Tuesday, [['11:30 am...  (905) 338-9090   \n",
       "1                                                    None  (906) 482-9888   \n",
       "2                                                    None  (906) 482-9888   \n",
       "3                                                    None  (705) 446-1740   \n",
       "4                                                    None  (705) 446-1740   \n",
       "...                                                   ...             ...   \n",
       "115125  [[Monday, [['11:00 am--12:00 am']]], [Tuesday,...  (519) 208-4488   \n",
       "115126                                               None  (781) 592-5823   \n",
       "115127  [[Monday, [['11:00 am--12:00 am']]], [Tuesday,...  (781) 286-2882   \n",
       "115128  [[Monday, [['7:00 am--10:00 pm']]], [Tuesday, ...  (810) 232-9322   \n",
       "115129  [[Monday, [['7:00 am--4:00 am']]], [Tuesday, [...  (989) 725-9880   \n",
       "\n",
       "       closed                      gps        lat       long  open_days  \\\n",
       "0       False  [43.440331, -79.672851]  43.440331 -79.672851        6.0   \n",
       "1       False   [47.11239, -88.585033]  47.112390 -88.585033        NaN   \n",
       "2       False   [47.11239, -88.585033]  47.112390 -88.585033        NaN   \n",
       "3       False  [44.499252, -80.216587]  44.499252 -80.216587        NaN   \n",
       "4       False  [44.499252, -80.216587]  44.499252 -80.216587        NaN   \n",
       "...       ...                      ...        ...        ...        ...   \n",
       "115125  False  [43.419861, -80.441227]  43.419861 -80.441227        7.0   \n",
       "115126  False  [42.464978, -70.948156]  42.464978 -70.948156        NaN   \n",
       "115127  False  [42.418534, -70.993968]  42.418534 -70.993968        7.0   \n",
       "115128  False  [43.002459, -83.743579]  43.002459 -83.743579        7.0   \n",
       "115129  False  [42.997547, -84.182386]  42.997547 -84.182386        7.0   \n",
       "\n",
       "        Dinner  Lunch  Breakfast  \n",
       "0          1.0    0.0        0.0  \n",
       "1          NaN    NaN        NaN  \n",
       "2          NaN    NaN        NaN  \n",
       "3          NaN    NaN        NaN  \n",
       "4          NaN    NaN        NaN  \n",
       "...        ...    ...        ...  \n",
       "115125     1.0    1.0        0.0  \n",
       "115126     NaN    NaN        NaN  \n",
       "115127     1.0    1.0        0.0  \n",
       "115128     1.0    0.0        1.0  \n",
       "115129     1.0    1.0        1.0  \n",
       "\n",
       "[115130 rows x 21 columns]"
      ]
     },
     "execution_count": 3,
     "metadata": {},
     "output_type": "execute_result"
    }
   ],
   "source": [
    "# dset= dset.head(100000)\n",
    "dset"
   ]
  },
  {
   "cell_type": "code",
   "execution_count": 4,
   "metadata": {},
   "outputs": [
    {
     "data": {
      "text/plain": [
       "23.805107270042562"
      ]
     },
     "execution_count": 4,
     "metadata": {},
     "output_type": "execute_result"
    }
   ],
   "source": [
    "dset['reviewText'].apply(lambda x: len(x.split(\" \"))).mean() # mean -> 24 words, max -> 417 words, min -> 1 word"
   ]
  },
  {
   "cell_type": "code",
   "execution_count": 5,
   "metadata": {},
   "outputs": [
    {
     "data": {
      "text/html": [
       "<div>\n",
       "<style scoped>\n",
       "    .dataframe tbody tr th:only-of-type {\n",
       "        vertical-align: middle;\n",
       "    }\n",
       "\n",
       "    .dataframe tbody tr th {\n",
       "        vertical-align: top;\n",
       "    }\n",
       "\n",
       "    .dataframe thead th {\n",
       "        text-align: right;\n",
       "    }\n",
       "</style>\n",
       "<table border=\"1\" class=\"dataframe\">\n",
       "  <thead>\n",
       "    <tr style=\"text-align: right;\">\n",
       "      <th></th>\n",
       "      <th>gPlusPlaceId</th>\n",
       "      <th>rating</th>\n",
       "      <th>reviewerName</th>\n",
       "      <th>reviewText</th>\n",
       "      <th>categories</th>\n",
       "      <th>unixReviewTime</th>\n",
       "      <th>reviewTime</th>\n",
       "      <th>gPlusUserId</th>\n",
       "      <th>name</th>\n",
       "      <th>price</th>\n",
       "      <th>...</th>\n",
       "      <th>hours</th>\n",
       "      <th>phone</th>\n",
       "      <th>closed</th>\n",
       "      <th>gps</th>\n",
       "      <th>lat</th>\n",
       "      <th>long</th>\n",
       "      <th>open_days</th>\n",
       "      <th>Dinner</th>\n",
       "      <th>Lunch</th>\n",
       "      <th>Breakfast</th>\n",
       "    </tr>\n",
       "  </thead>\n",
       "  <tbody>\n",
       "    <tr>\n",
       "      <th>0</th>\n",
       "      <td>112181651134020562716</td>\n",
       "      <td>5.0</td>\n",
       "      <td>jason wagner</td>\n",
       "      <td>stopped dinner mahi mahi special fantastic ser...</td>\n",
       "      <td>[european restaurant, italian restaurant]</td>\n",
       "      <td>1.35058e+09</td>\n",
       "      <td>Oct 18, 2012</td>\n",
       "      <td>100000196778399872657</td>\n",
       "      <td>Pasquales Trattoria</td>\n",
       "      <td>None</td>\n",
       "      <td>...</td>\n",
       "      <td>[[Monday, [['Closed']]], [Tuesday, [['11:30 am...</td>\n",
       "      <td>(905) 338-9090</td>\n",
       "      <td>False</td>\n",
       "      <td>[43.440331, -79.672851]</td>\n",
       "      <td>43.440331</td>\n",
       "      <td>-79.672851</td>\n",
       "      <td>6.0</td>\n",
       "      <td>1.0</td>\n",
       "      <td>0.0</td>\n",
       "      <td>0.0</td>\n",
       "    </tr>\n",
       "    <tr>\n",
       "      <th>1</th>\n",
       "      <td>116784654951669476004</td>\n",
       "      <td>4.0</td>\n",
       "      <td>betsi h</td>\n",
       "      <td>parents stopped dinner hospital procedure rest...</td>\n",
       "      <td>[restaurant]</td>\n",
       "      <td>1.39149e+09</td>\n",
       "      <td>Feb 3, 2014</td>\n",
       "      <td>100000217241208417605</td>\n",
       "      <td>Ming's Asian Bistro</td>\n",
       "      <td>None</td>\n",
       "      <td>...</td>\n",
       "      <td>None</td>\n",
       "      <td>(906) 482-9888</td>\n",
       "      <td>False</td>\n",
       "      <td>[47.11239, -88.585033]</td>\n",
       "      <td>47.112390</td>\n",
       "      <td>-88.585033</td>\n",
       "      <td>NaN</td>\n",
       "      <td>NaN</td>\n",
       "      <td>NaN</td>\n",
       "      <td>NaN</td>\n",
       "    </tr>\n",
       "    <tr>\n",
       "      <th>2</th>\n",
       "      <td>116784654951669476004</td>\n",
       "      <td>5.0</td>\n",
       "      <td>koryne marzicola</td>\n",
       "      <td>amazing delishious definedly recommend mings a...</td>\n",
       "      <td>[restaurant]</td>\n",
       "      <td>1.34869e+09</td>\n",
       "      <td>Sep 26, 2012</td>\n",
       "      <td>104217571457797699036</td>\n",
       "      <td>Ming's Asian Bistro</td>\n",
       "      <td>None</td>\n",
       "      <td>...</td>\n",
       "      <td>None</td>\n",
       "      <td>(906) 482-9888</td>\n",
       "      <td>False</td>\n",
       "      <td>[47.11239, -88.585033]</td>\n",
       "      <td>47.112390</td>\n",
       "      <td>-88.585033</td>\n",
       "      <td>NaN</td>\n",
       "      <td>NaN</td>\n",
       "      <td>NaN</td>\n",
       "      <td>NaN</td>\n",
       "    </tr>\n",
       "    <tr>\n",
       "      <th>3</th>\n",
       "      <td>109391653021436219474</td>\n",
       "      <td>5.0</td>\n",
       "      <td>heather goldsworthy</td>\n",
       "      <td>best coffee collingwood</td>\n",
       "      <td>[cafe]</td>\n",
       "      <td>1.37899e+09</td>\n",
       "      <td>Sep 12, 2013</td>\n",
       "      <td>100000427343266187570</td>\n",
       "      <td>Espresso Post</td>\n",
       "      <td>None</td>\n",
       "      <td>...</td>\n",
       "      <td>None</td>\n",
       "      <td>(705) 446-1740</td>\n",
       "      <td>False</td>\n",
       "      <td>[44.499252, -80.216587]</td>\n",
       "      <td>44.499252</td>\n",
       "      <td>-80.216587</td>\n",
       "      <td>NaN</td>\n",
       "      <td>NaN</td>\n",
       "      <td>NaN</td>\n",
       "      <td>NaN</td>\n",
       "    </tr>\n",
       "    <tr>\n",
       "      <th>4</th>\n",
       "      <td>109391653021436219474</td>\n",
       "      <td>5.0</td>\n",
       "      <td>nicholas clayton</td>\n",
       "      <td>located old post office outlet historical pedi...</td>\n",
       "      <td>[cafe]</td>\n",
       "      <td>1.36761e+09</td>\n",
       "      <td>May 3, 2013</td>\n",
       "      <td>104975196938413074237</td>\n",
       "      <td>Espresso Post</td>\n",
       "      <td>None</td>\n",
       "      <td>...</td>\n",
       "      <td>None</td>\n",
       "      <td>(705) 446-1740</td>\n",
       "      <td>False</td>\n",
       "      <td>[44.499252, -80.216587]</td>\n",
       "      <td>44.499252</td>\n",
       "      <td>-80.216587</td>\n",
       "      <td>NaN</td>\n",
       "      <td>NaN</td>\n",
       "      <td>NaN</td>\n",
       "      <td>NaN</td>\n",
       "    </tr>\n",
       "  </tbody>\n",
       "</table>\n",
       "<p>5 rows × 21 columns</p>\n",
       "</div>"
      ],
      "text/plain": [
       "            gPlusPlaceId  rating         reviewerName  \\\n",
       "0  112181651134020562716     5.0         jason wagner   \n",
       "1  116784654951669476004     4.0              betsi h   \n",
       "2  116784654951669476004     5.0     koryne marzicola   \n",
       "3  109391653021436219474     5.0  heather goldsworthy   \n",
       "4  109391653021436219474     5.0     nicholas clayton   \n",
       "\n",
       "                                          reviewText  \\\n",
       "0  stopped dinner mahi mahi special fantastic ser...   \n",
       "1  parents stopped dinner hospital procedure rest...   \n",
       "2  amazing delishious definedly recommend mings a...   \n",
       "3                            best coffee collingwood   \n",
       "4  located old post office outlet historical pedi...   \n",
       "\n",
       "                                  categories unixReviewTime    reviewTime  \\\n",
       "0  [european restaurant, italian restaurant]    1.35058e+09  Oct 18, 2012   \n",
       "1                               [restaurant]    1.39149e+09   Feb 3, 2014   \n",
       "2                               [restaurant]    1.34869e+09  Sep 26, 2012   \n",
       "3                                     [cafe]    1.37899e+09  Sep 12, 2013   \n",
       "4                                     [cafe]    1.36761e+09   May 3, 2013   \n",
       "\n",
       "             gPlusUserId                 name price  ...  \\\n",
       "0  100000196778399872657  Pasquales Trattoria  None  ...   \n",
       "1  100000217241208417605  Ming's Asian Bistro  None  ...   \n",
       "2  104217571457797699036  Ming's Asian Bistro  None  ...   \n",
       "3  100000427343266187570        Espresso Post  None  ...   \n",
       "4  104975196938413074237        Espresso Post  None  ...   \n",
       "\n",
       "                                               hours           phone closed  \\\n",
       "0  [[Monday, [['Closed']]], [Tuesday, [['11:30 am...  (905) 338-9090  False   \n",
       "1                                               None  (906) 482-9888  False   \n",
       "2                                               None  (906) 482-9888  False   \n",
       "3                                               None  (705) 446-1740  False   \n",
       "4                                               None  (705) 446-1740  False   \n",
       "\n",
       "                       gps        lat       long  open_days  Dinner  Lunch  \\\n",
       "0  [43.440331, -79.672851]  43.440331 -79.672851        6.0     1.0    0.0   \n",
       "1   [47.11239, -88.585033]  47.112390 -88.585033        NaN     NaN    NaN   \n",
       "2   [47.11239, -88.585033]  47.112390 -88.585033        NaN     NaN    NaN   \n",
       "3  [44.499252, -80.216587]  44.499252 -80.216587        NaN     NaN    NaN   \n",
       "4  [44.499252, -80.216587]  44.499252 -80.216587        NaN     NaN    NaN   \n",
       "\n",
       "   Breakfast  \n",
       "0        0.0  \n",
       "1        NaN  \n",
       "2        NaN  \n",
       "3        NaN  \n",
       "4        NaN  \n",
       "\n",
       "[5 rows x 21 columns]"
      ]
     },
     "execution_count": 5,
     "metadata": {},
     "output_type": "execute_result"
    }
   ],
   "source": [
    "dset.head()"
   ]
  },
  {
   "cell_type": "code",
   "execution_count": 6,
   "metadata": {},
   "outputs": [],
   "source": [
    "dset = dset[dset['rating']!=0]"
   ]
  },
  {
   "cell_type": "markdown",
   "metadata": {},
   "source": [
    "#### Word2Vec and preprocessing for model"
   ]
  },
  {
   "cell_type": "code",
   "execution_count": 7,
   "metadata": {},
   "outputs": [],
   "source": [
    "vec_model = KeyedVectors.load_word2vec_format('GoogleNews-vectors-negative300.bin', binary=True, limit=300000) # each vector is of length 300"
   ]
  },
  {
   "cell_type": "code",
   "execution_count": 8,
   "metadata": {
    "scrolled": true
   },
   "outputs": [
    {
     "data": {
      "text/plain": [
       "(300,)"
      ]
     },
     "execution_count": 8,
     "metadata": {},
     "output_type": "execute_result"
    }
   ],
   "source": [
    "vec_model['good'].shape # each vector is 300 dims"
   ]
  },
  {
   "cell_type": "code",
   "execution_count": 9,
   "metadata": {},
   "outputs": [],
   "source": [
    "# convert each review into list of word vectors\n",
    "dset_vector = []\n",
    "for idx, row in dset.iterrows():\n",
    "    sentence_vec = []\n",
    "    sentence = row['reviewText']\n",
    "    sentence = word_tokenize(sentence)\n",
    "    for word in sentence:\n",
    "        try:\n",
    "            sentence_vec.append(vec_model[word])\n",
    "        except Exception as e:\n",
    "            pass\n",
    "    dset_vector.append(sentence_vec)"
   ]
  },
  {
   "cell_type": "code",
   "execution_count": 10,
   "metadata": {},
   "outputs": [],
   "source": [
    "temp_dset_vector = dset_vector # shape (115129, n, 300) -> n is the length of the review"
   ]
  },
  {
   "cell_type": "code",
   "execution_count": 11,
   "metadata": {},
   "outputs": [],
   "source": [
    "zero_pad = np.zeros((300, ))\n",
    "trimmed_dset_vector = []\n",
    "trim_length = 24\n",
    "for item in dset_vector:\n",
    "    if len(item)>trim_length:\n",
    "        trimmed_dset_vector.append(np.array(item[:trim_length]))\n",
    "    else:\n",
    "        len_zero_pads = trim_length - len(item)\n",
    "        for i in range(len_zero_pads):\n",
    "            item.append(zero_pad)\n",
    "        trimmed_dset_vector.append(np.array(item))"
   ]
  },
  {
   "cell_type": "code",
   "execution_count": 12,
   "metadata": {},
   "outputs": [],
   "source": [
    "trimmed_dset_vector = np.array(trimmed_dset_vector) # shape -> (115130, trim_length, 300)"
   ]
  },
  {
   "cell_type": "code",
   "execution_count": 13,
   "metadata": {},
   "outputs": [],
   "source": [
    "ratings = np.array(dset['rating'])\n",
    "enc = OneHotEncoder()\n",
    "# one-hot encode the ratings\n",
    "ratings = enc.fit_transform(ratings.reshape(-1, 1)).toarray()"
   ]
  },
  {
   "cell_type": "code",
   "execution_count": 14,
   "metadata": {},
   "outputs": [
    {
     "data": {
      "text/plain": [
       "(115130, 24, 300)"
      ]
     },
     "execution_count": 14,
     "metadata": {},
     "output_type": "execute_result"
    }
   ],
   "source": [
    "trimmed_dset_vector.shape"
   ]
  },
  {
   "cell_type": "code",
   "execution_count": 15,
   "metadata": {},
   "outputs": [
    {
     "data": {
      "text/plain": [
       "(115130, 5)"
      ]
     },
     "execution_count": 15,
     "metadata": {},
     "output_type": "execute_result"
    }
   ],
   "source": [
    "ratings.shape"
   ]
  },
  {
   "cell_type": "markdown",
   "metadata": {},
   "source": [
    "#### Create train and test set"
   ]
  },
  {
   "cell_type": "code",
   "execution_count": 16,
   "metadata": {},
   "outputs": [],
   "source": [
    "split = 0.8\n",
    "train_len = int(split * len(ratings))\n",
    "train_reviews = trimmed_dset_vector[:train_len]\n",
    "train_ratings = ratings[:train_len]\n",
    "test_reviews = trimmed_dset_vector[train_len:]\n",
    "test_ratings = ratings[train_len:]"
   ]
  },
  {
   "cell_type": "markdown",
   "metadata": {},
   "source": [
    "#### Model"
   ]
  },
  {
   "cell_type": "code",
   "execution_count": 42,
   "metadata": {},
   "outputs": [],
   "source": [
    "inputs = tf.keras.Input(shape=(24, 300), dtype=\"float32\")\n",
    "x = layers.Dropout(0.6)(inputs)\n",
    "x = layers.Conv1D(128, 1, padding=\"valid\", activation=\"relu\", strides=1)(x)\n",
    "x = layers.MaxPooling1D()(x)\n",
    "# x = layers.Conv1D(64, 2, padding=\"valid\", activation=\"relu\", strides=1)(x)\n",
    "# x = layers.MaxPooling1D()(x)\n",
    "x = layers.LSTM(units=32)(x)\n",
    "x = layers.Dense(128, activation=\"relu\")(x)\n",
    "x = layers.Dropout(0.3)(x)\n",
    "x = layers.Dense(64, activation=\"relu\")(x)\n",
    "x = layers.Dropout(0.3)(x)\n",
    "predictions = layers.Dense(5, activation=\"softmax\", name=\"predictions\")(x)\n",
    "model = tf.keras.Model(inputs, predictions)"
   ]
  },
  {
   "cell_type": "code",
   "execution_count": 43,
   "metadata": {},
   "outputs": [
    {
     "name": "stdout",
     "output_type": "stream",
     "text": [
      "Model: \"model_5\"\n",
      "_________________________________________________________________\n",
      "Layer (type)                 Output Shape              Param #   \n",
      "=================================================================\n",
      "input_10 (InputLayer)        [(None, 24, 300)]         0         \n",
      "_________________________________________________________________\n",
      "dropout_19 (Dropout)         (None, 24, 300)           0         \n",
      "_________________________________________________________________\n",
      "conv1d_17 (Conv1D)           (None, 24, 128)           38528     \n",
      "_________________________________________________________________\n",
      "max_pooling1d_9 (MaxPooling1 (None, 12, 128)           0         \n",
      "_________________________________________________________________\n",
      "lstm_10 (LSTM)               (None, 32)                20608     \n",
      "_________________________________________________________________\n",
      "dense_12 (Dense)             (None, 128)               4224      \n",
      "_________________________________________________________________\n",
      "dropout_20 (Dropout)         (None, 128)               0         \n",
      "_________________________________________________________________\n",
      "dense_13 (Dense)             (None, 64)                8256      \n",
      "_________________________________________________________________\n",
      "dropout_21 (Dropout)         (None, 64)                0         \n",
      "_________________________________________________________________\n",
      "predictions (Dense)          (None, 5)                 325       \n",
      "=================================================================\n",
      "Total params: 71,941\n",
      "Trainable params: 71,941\n",
      "Non-trainable params: 0\n",
      "_________________________________________________________________\n"
     ]
    },
    {
     "data": {
      "text/plain": [
       "{0: 3.0609504818876703,\n",
       " 1: 2.275577516985794,\n",
       " 2: 1.565595784463709,\n",
       " 3: 0.7685901447824092,\n",
       " 4: 0.4359127265843154}"
      ]
     },
     "execution_count": 43,
     "metadata": {},
     "output_type": "execute_result"
    }
   ],
   "source": [
    "model.compile(loss=\"categorical_crossentropy\", optimizer=\"adam\", metrics=[\"accuracy\"])\n",
    "model.summary()\n",
    "\n",
    "label_counts = train_ratings.sum(axis = 0)\n",
    "train_size = len(train_ratings)\n",
    "\n",
    "class_weight = {0: train_size / ( 5 * label_counts[0]),  #rating 1\n",
    "                1: train_size / ( 5 * label_counts[1]),\n",
    "                2: train_size / ( 5 * label_counts[2]),\n",
    "                3: train_size / ( 5 * label_counts[3]),\n",
    "                4: train_size / ( 5 * label_counts[4])}  #rating 5\n",
    "\n",
    "class_weight"
   ]
  },
  {
   "cell_type": "code",
   "execution_count": 46,
   "metadata": {},
   "outputs": [
    {
     "name": "stdout",
     "output_type": "stream",
     "text": [
      "Epoch 1/5\n",
      "576/576 [==============================] - 11s 19ms/step - loss: 1.1510 - accuracy: 0.5208 - val_loss: 1.0403 - val_accuracy: 0.5342\n",
      "Epoch 2/5\n",
      "576/576 [==============================] - 11s 18ms/step - loss: 1.1423 - accuracy: 0.5218 - val_loss: 1.0468 - val_accuracy: 0.5287\n",
      "Epoch 3/5\n",
      "576/576 [==============================] - 10s 18ms/step - loss: 1.1399 - accuracy: 0.5226 - val_loss: 1.0316 - val_accuracy: 0.5365\n",
      "Epoch 4/5\n",
      "576/576 [==============================] - 10s 18ms/step - loss: 1.1322 - accuracy: 0.5278 - val_loss: 1.0144 - val_accuracy: 0.5450\n",
      "Epoch 5/5\n",
      "576/576 [==============================] - 10s 18ms/step - loss: 1.1291 - accuracy: 0.5309 - val_loss: 1.0132 - val_accuracy: 0.5469\n"
     ]
    }
   ],
   "source": [
    "history = model.fit(train_reviews, train_ratings, validation_split=0.2, epochs=5,batch_size=128, class_weight=class_weight)"
   ]
  },
  {
   "cell_type": "code",
   "execution_count": 47,
   "metadata": {},
   "outputs": [
    {
     "data": {
      "image/png": "[encoded data removed]",
      "text/plain": [
       "<Figure size 432x288 with 1 Axes>"
      ]
     },
     "metadata": {
      "needs_background": "light"
     },
     "output_type": "display_data"
    }
   ],
   "source": [
    "plt.plot(history.history['loss'],label = \"Train Loss\")\n",
    "plt.plot(history.history['val_loss'],label = 'Validation Loss')\n",
    "plt.legend()\n",
    "plt.show()"
   ]
  },
  {
   "cell_type": "code",
   "execution_count": 48,
   "metadata": {},
   "outputs": [
    {
     "name": "stdout",
     "output_type": "stream",
     "text": [
      "720/720 [==============================] - 1s 2ms/step - loss: 1.0118 - accuracy: 0.5497\n"
     ]
    }
   ],
   "source": [
    "score, acc = model.evaluate(test_reviews, test_ratings)"
   ]
  },
  {
   "cell_type": "code",
   "execution_count": 49,
   "metadata": {},
   "outputs": [
    {
     "data": {
      "text/plain": [
       "array([ 6018.,  8095., 11766., 23967., 42258.])"
      ]
     },
     "execution_count": 49,
     "metadata": {},
     "output_type": "execute_result"
    }
   ],
   "source": [
    "train_ratings.sum(axis = 0 )"
   ]
  },
  {
   "cell_type": "code",
   "execution_count": 50,
   "metadata": {},
   "outputs": [],
   "source": [
    "prob_test = np.round(model.predict(test_reviews))\n",
    "prob_test = pd.DataFrame(data = prob_test, columns = ['1', '2', '3','4','5'])\n",
    "prob_test = prob_test.idxmax(axis = 1)\n",
    "\n",
    "test_ratings_df = pd.DataFrame(data = test_ratings, columns = ['1', '2', '3','4','5'])\n",
    "y_test_label = test_ratings_df.idxmax(axis = 1)"
   ]
  },
  {
   "cell_type": "code",
   "execution_count": 51,
   "metadata": {},
   "outputs": [
    {
     "data": {
      "image/png": "[encoded data removed]",
      "text/plain": [
       "<Figure size 720x504 with 2 Axes>"
      ]
     },
     "metadata": {
      "needs_background": "light"
     },
     "output_type": "display_data"
    }
   ],
   "source": [
    "# Calculate confusion matrix\n",
    "confusion_matrix_dnn = confusion_matrix(y_true = y_test_label, \n",
    "                    y_pred = prob_test)\n",
    "\n",
    "# Turn matrix to percentages\n",
    "confusion_matrix_dnn = confusion_matrix_dnn.astype('float') / confusion_matrix_dnn.sum(axis=1)[:, np.newaxis]\n",
    "\n",
    "# Turn to dataframe\n",
    "df_cm = pd.DataFrame(\n",
    "        confusion_matrix_dnn, index=['1', '2', '3','4','5'],\n",
    "         columns=['1', '2', '3','4','5'], \n",
    ")\n",
    "\n",
    "# Parameters of the image\n",
    "figsize = (10,7)\n",
    "fontsize=14\n",
    "\n",
    "# Create image\n",
    "fig = plt.figure(figsize=figsize)\n",
    "heatmap = sns.heatmap(df_cm, annot=True, fmt='.2f')\n",
    "\n",
    "# Make it nicer\n",
    "heatmap.yaxis.set_ticklabels(heatmap.yaxis.get_ticklabels(), rotation=0, \n",
    "                             ha='right', fontsize=fontsize)\n",
    "heatmap.xaxis.set_ticklabels(heatmap.xaxis.get_ticklabels(), rotation=45,\n",
    "                             ha='right', fontsize=fontsize)\n",
    "\n",
    "# Add labels\n",
    "plt.ylabel('True label')\n",
    "plt.xlabel('Predicted label')\n",
    "\n",
    "# Plot!\n",
    "plt.show()"
   ]
  },
  {
   "cell_type": "code",
   "execution_count": 52,
   "metadata": {},
   "outputs": [
    {
     "data": {
      "text/plain": [
       "40.77998783983323"
      ]
     },
     "execution_count": 52,
     "metadata": {},
     "output_type": "execute_result"
    }
   ],
   "source": [
    "accuracy_score(y_test_label,prob_test)*100"
   ]
  },
  {
   "cell_type": "code",
   "execution_count": null,
   "metadata": {},
   "outputs": [],
   "source": []
  }
 ],
 "metadata": {
  "kernelspec": {
   "display_name": "Python 3",
   "language": "python",
   "name": "python3"
  },
  "language_info": {
   "codemirror_mode": {
    "name": "ipython",
    "version": 3
   },
   "file_extension": ".py",
   "mimetype": "text/x-python",
   "name": "python",
   "nbconvert_exporter": "python",
   "pygments_lexer": "ipython3",
   "version": "3.6.9"
  }
 },
 "nbformat": 4,
 "nbformat_minor": 4
}
