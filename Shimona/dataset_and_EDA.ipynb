{
  "nbformat": 4,
  "nbformat_minor": 0,
  "metadata": {
    "language_info": {
      "codemirror_mode": {
        "name": "ipython",
        "version": 3
      },
      "file_extension": ".py",
      "mimetype": "text/x-python",
      "name": "python",
      "nbconvert_exporter": "python",
      "pygments_lexer": "ipython3",
      "version": "3.7.7-final"
    },
    "orig_nbformat": 2,
    "kernelspec": {
      "name": "python3",
      "display_name": "Python 3"
    },
    "colab": {
      "name": "dataset_and_EDA.ipynb",
      "provenance": [],
      "collapsed_sections": [],
      "toc_visible": true
    }
  },
  "cells": [
    {
      "cell_type": "markdown",
      "metadata": {
        "id": "krRIR5Fij6GT"
      },
      "source": [
        "# Libraries"
      ]
    },
    {
      "cell_type": "code",
      "metadata": {
        "id": "MqFt99EKj6GT"
      },
      "source": [
        "import json\n",
        "import pandas as pd \n",
        "import numpy as np \n",
        "import shutil\n",
        "import gzip\n",
        "import plotly.graph_objects as go\n",
        "from collections import Counter\n",
        "from sklearn.preprocessing import LabelEncoder\n",
        "\n",
        "#data preprocessing file\n",
        "import data_preprocessing"
      ],
      "execution_count": 1,
      "outputs": []
    },
    {
      "cell_type": "code",
      "metadata": {
        "id": "FhoxsRywj6GT"
      },
      "source": [
        "pd.set_option(\"display.max_rows\", None, \"display.max_columns\", None)"
      ],
      "execution_count": 2,
      "outputs": []
    },
    {
      "cell_type": "markdown",
      "metadata": {
        "id": "g4ciWBdgj6GT"
      },
      "source": [
        "# Load places dataset\n",
        "places.clean.json.gz file contains information about the places, operational timing and gps location. For this study on recommender system, we extract all the food places in gps location of 53 W and and 141 W & latitude range from 42 N and 83 N. This covers food places in southern cities of Canada and northern parts in the United States of America"
      ]
    },
    {
      "cell_type": "code",
      "metadata": {
        "id": "jHWzP0Ocj6GT"
      },
      "source": [
        "data_places = []\n",
        "with gzip.open('places.clean.json.gz') as f:\n",
        "    for l in f:\n",
        "        data_places.append(eval(l))"
      ],
      "execution_count": 3,
      "outputs": []
    },
    {
      "cell_type": "code",
      "metadata": {
        "id": "SjBInVycj6GT"
      },
      "source": [
        "places = pd.DataFrame(data_places)\n"
      ],
      "execution_count": 4,
      "outputs": []
    },
    {
      "cell_type": "code",
      "metadata": {
        "id": "oPVu7Vq0j6GT"
      },
      "source": [
        "#remove places where gps location is not given\n",
        "places = places[places['gps'].notna()]\n",
        "\n",
        "#make latitude and longitude columns\n",
        "places['lat'] = places['gps'].apply(lambda x: x[0])\n",
        "places['long'] = places['gps'].apply(lambda x: x[1])"
      ],
      "execution_count": 5,
      "outputs": []
    },
    {
      "cell_type": "code",
      "metadata": {
        "id": "bakuYgEwj6GT"
      },
      "source": [
        "canada_us = places[(places['lat']>=42) & (places['lat']<=83) & (places['long']>=-141) & (places['long']<=-53)]\n",
        "canada_us.set_index('gPlusPlaceId', inplace = True)"
      ],
      "execution_count": 6,
      "outputs": []
    },
    {
      "cell_type": "code",
      "metadata": {
        "colab": {
          "base_uri": "https://localhost:8080/"
        },
        "id": "QjGcOjkdsz4X",
        "outputId": "5a2664a4-595a-46ba-8d2b-3047dc16d9b9"
      },
      "source": [
        "canada_us.shape"
      ],
      "execution_count": 7,
      "outputs": [
        {
          "output_type": "execute_result",
          "data": {
            "text/plain": [
              "(313417, 9)"
            ]
          },
          "metadata": {
            "tags": []
          },
          "execution_count": 7
        }
      ]
    },
    {
      "cell_type": "code",
      "metadata": {
        "id": "cpn1r907j6GU",
        "colab": {
          "base_uri": "https://localhost:8080/",
          "height": 499
        },
        "outputId": "9e97e645-aa4b-4bed-826f-fe7721d3f204"
      },
      "source": [
        "restraunts = pd.read_pickle('../Datasets/food_review.pickle')\n",
        "restraunts.head(5)"
      ],
      "execution_count": 8,
      "outputs": [
        {
          "output_type": "execute_result",
          "data": {
            "text/html": [
              "<div>\n",
              "<style scoped>\n",
              "    .dataframe tbody tr th:only-of-type {\n",
              "        vertical-align: middle;\n",
              "    }\n",
              "\n",
              "    .dataframe tbody tr th {\n",
              "        vertical-align: top;\n",
              "    }\n",
              "\n",
              "    .dataframe thead th {\n",
              "        text-align: right;\n",
              "    }\n",
              "</style>\n",
              "<table border=\"1\" class=\"dataframe\">\n",
              "  <thead>\n",
              "    <tr style=\"text-align: right;\">\n",
              "      <th></th>\n",
              "      <th>rating</th>\n",
              "      <th>reviewerName</th>\n",
              "      <th>reviewText</th>\n",
              "      <th>categories</th>\n",
              "      <th>gPlusPlaceId</th>\n",
              "      <th>unixReviewTime</th>\n",
              "      <th>reviewTime</th>\n",
              "      <th>gPlusUserId</th>\n",
              "    </tr>\n",
              "  </thead>\n",
              "  <tbody>\n",
              "    <tr>\n",
              "      <th>0</th>\n",
              "      <td>4.0</td>\n",
              "      <td>william spindler</td>\n",
              "      <td>best war wanton soup red bluff</td>\n",
              "      <td>[asian restaurant, chinese restaurant]</td>\n",
              "      <td>106591714648856494903</td>\n",
              "      <td>2014-03-13 05:41:36</td>\n",
              "      <td>2014-03-12</td>\n",
              "      <td>100000032416892623125</td>\n",
              "    </tr>\n",
              "    <tr>\n",
              "      <th>1</th>\n",
              "      <td>5.0</td>\n",
              "      <td>william spindler</td>\n",
              "      <td>long time favorit mexican food alway consist g...</td>\n",
              "      <td>[mexican restaurant]</td>\n",
              "      <td>115827996910815192564</td>\n",
              "      <td>2014-03-13 05:45:13</td>\n",
              "      <td>2014-03-12</td>\n",
              "      <td>100000032416892623125</td>\n",
              "    </tr>\n",
              "    <tr>\n",
              "      <th>2</th>\n",
              "      <td>5.0</td>\n",
              "      <td>william spindler</td>\n",
              "      <td>best hot sour soup anywher</td>\n",
              "      <td>[chinese restaurant]</td>\n",
              "      <td>116585428624152564242</td>\n",
              "      <td>2014-03-15 05:42:39</td>\n",
              "      <td>2014-03-14</td>\n",
              "      <td>100000032416892623125</td>\n",
              "    </tr>\n",
              "    <tr>\n",
              "      <th>3</th>\n",
              "      <td>2.0</td>\n",
              "      <td>richard yocom</td>\n",
              "      <td>open 24 hour plu realli slow sat drive thru 30...</td>\n",
              "      <td>[restaurant]</td>\n",
              "      <td>100073820849130920147</td>\n",
              "      <td>2013-08-11 12:15:30</td>\n",
              "      <td>2013-08-10</td>\n",
              "      <td>100000053212755369563</td>\n",
              "    </tr>\n",
              "    <tr>\n",
              "      <th>4</th>\n",
              "      <td>1.0</td>\n",
              "      <td>richard yocom</td>\n",
              "      <td>close</td>\n",
              "      <td>[pizza restaurant, european restaurant]</td>\n",
              "      <td>102471437282277965376</td>\n",
              "      <td>2013-08-17 00:24:50</td>\n",
              "      <td>2013-08-16</td>\n",
              "      <td>100000053212755369563</td>\n",
              "    </tr>\n",
              "  </tbody>\n",
              "</table>\n",
              "</div>"
            ],
            "text/plain": [
              "   rating      reviewerName  \\\n",
              "0     4.0  william spindler   \n",
              "1     5.0  william spindler   \n",
              "2     5.0  william spindler   \n",
              "3     2.0     richard yocom   \n",
              "4     1.0     richard yocom   \n",
              "\n",
              "                                          reviewText  \\\n",
              "0                     best war wanton soup red bluff   \n",
              "1  long time favorit mexican food alway consist g...   \n",
              "2                         best hot sour soup anywher   \n",
              "3  open 24 hour plu realli slow sat drive thru 30...   \n",
              "4                                              close   \n",
              "\n",
              "                                categories           gPlusPlaceId  \\\n",
              "0   [asian restaurant, chinese restaurant]  106591714648856494903   \n",
              "1                     [mexican restaurant]  115827996910815192564   \n",
              "2                     [chinese restaurant]  116585428624152564242   \n",
              "3                             [restaurant]  100073820849130920147   \n",
              "4  [pizza restaurant, european restaurant]  102471437282277965376   \n",
              "\n",
              "       unixReviewTime reviewTime            gPlusUserId  \n",
              "0 2014-03-13 05:41:36 2014-03-12  100000032416892623125  \n",
              "1 2014-03-13 05:45:13 2014-03-12  100000032416892623125  \n",
              "2 2014-03-15 05:42:39 2014-03-14  100000032416892623125  \n",
              "3 2013-08-11 12:15:30 2013-08-10  100000053212755369563  \n",
              "4 2013-08-17 00:24:50 2013-08-16  100000053212755369563  "
            ]
          },
          "metadata": {
            "tags": []
          },
          "execution_count": 8
        }
      ]
    },
    {
      "cell_type": "code",
      "metadata": {
        "id": "8FR7hOFmj6GU"
      },
      "source": [
        "data_to_model = pd.merge(restraunts,canada_us,left_on = 'gPlusPlaceId',right_on = 'gPlusPlaceId',how = 'inner')"
      ],
      "execution_count": 9,
      "outputs": []
    },
    {
      "cell_type": "code",
      "metadata": {
        "id": "ddB-pgtYtbYd"
      },
      "source": [
        "data_to_model.set_index('gPlusPlaceId',inplace = True,drop = True)"
      ],
      "execution_count": 10,
      "outputs": []
    },
    {
      "cell_type": "code",
      "metadata": {
        "colab": {
          "base_uri": "https://localhost:8080/",
          "height": 1000
        },
        "id": "ShJUUSth5Iep",
        "outputId": "d112c335-26f3-413d-96e5-4c78a3088c19"
      },
      "source": [
        "data_to_model.head(10)"
      ],
      "execution_count": 11,
      "outputs": [
        {
          "output_type": "execute_result",
          "data": {
            "text/html": [
              "<div>\n",
              "<style scoped>\n",
              "    .dataframe tbody tr th:only-of-type {\n",
              "        vertical-align: middle;\n",
              "    }\n",
              "\n",
              "    .dataframe tbody tr th {\n",
              "        vertical-align: top;\n",
              "    }\n",
              "\n",
              "    .dataframe thead th {\n",
              "        text-align: right;\n",
              "    }\n",
              "</style>\n",
              "<table border=\"1\" class=\"dataframe\">\n",
              "  <thead>\n",
              "    <tr style=\"text-align: right;\">\n",
              "      <th></th>\n",
              "      <th>rating</th>\n",
              "      <th>reviewerName</th>\n",
              "      <th>reviewText</th>\n",
              "      <th>categories</th>\n",
              "      <th>unixReviewTime</th>\n",
              "      <th>reviewTime</th>\n",
              "      <th>gPlusUserId</th>\n",
              "      <th>name</th>\n",
              "      <th>price</th>\n",
              "      <th>address</th>\n",
              "      <th>hours</th>\n",
              "      <th>phone</th>\n",
              "      <th>closed</th>\n",
              "      <th>gps</th>\n",
              "      <th>lat</th>\n",
              "      <th>long</th>\n",
              "    </tr>\n",
              "    <tr>\n",
              "      <th>gPlusPlaceId</th>\n",
              "      <th></th>\n",
              "      <th></th>\n",
              "      <th></th>\n",
              "      <th></th>\n",
              "      <th></th>\n",
              "      <th></th>\n",
              "      <th></th>\n",
              "      <th></th>\n",
              "      <th></th>\n",
              "      <th></th>\n",
              "      <th></th>\n",
              "      <th></th>\n",
              "      <th></th>\n",
              "      <th></th>\n",
              "      <th></th>\n",
              "      <th></th>\n",
              "    </tr>\n",
              "  </thead>\n",
              "  <tbody>\n",
              "    <tr>\n",
              "      <th>112181651134020562716</th>\n",
              "      <td>5.0</td>\n",
              "      <td>jason wagner</td>\n",
              "      <td>stop dinner mahi mahi special fantast servic g...</td>\n",
              "      <td>[european restaurant, italian restaurant]</td>\n",
              "      <td>2012-10-18 21:56:05</td>\n",
              "      <td>2012-10-18</td>\n",
              "      <td>100000196778399872657</td>\n",
              "      <td>Pasquales Trattoria</td>\n",
              "      <td>None</td>\n",
              "      <td>[50 Lakeshore Rd W, Oakville, ON L6Y 2K3, Canada]</td>\n",
              "      <td>[[Monday, [['Closed']]], [Tuesday, [['11:30 am...</td>\n",
              "      <td>(905) 338-9090</td>\n",
              "      <td>False</td>\n",
              "      <td>[43.440331, -79.672851]</td>\n",
              "      <td>43.440331</td>\n",
              "      <td>-79.672851</td>\n",
              "    </tr>\n",
              "    <tr>\n",
              "      <th>109391653021436219474</th>\n",
              "      <td>5.0</td>\n",
              "      <td>heather goldsworthy</td>\n",
              "      <td>best coffe collingwood</td>\n",
              "      <td>[cafe]</td>\n",
              "      <td>2013-09-12 18:38:15</td>\n",
              "      <td>2013-09-12</td>\n",
              "      <td>100000427343266187570</td>\n",
              "      <td>Espresso Post</td>\n",
              "      <td>None</td>\n",
              "      <td>[139 Hurontario St, Collingwood, ON L9Y, Canada]</td>\n",
              "      <td>None</td>\n",
              "      <td>(705) 446-1740</td>\n",
              "      <td>False</td>\n",
              "      <td>[44.499252, -80.216587]</td>\n",
              "      <td>44.499252</td>\n",
              "      <td>-80.216587</td>\n",
              "    </tr>\n",
              "    <tr>\n",
              "      <th>109391653021436219474</th>\n",
              "      <td>5.0</td>\n",
              "      <td>nicholas clayton</td>\n",
              "      <td>locat old post offic outlet histor pedigre bes...</td>\n",
              "      <td>[cafe]</td>\n",
              "      <td>2013-05-04 01:35:12</td>\n",
              "      <td>2013-05-03</td>\n",
              "      <td>104975196938413074237</td>\n",
              "      <td>Espresso Post</td>\n",
              "      <td>None</td>\n",
              "      <td>[139 Hurontario St, Collingwood, ON L9Y, Canada]</td>\n",
              "      <td>None</td>\n",
              "      <td>(705) 446-1740</td>\n",
              "      <td>False</td>\n",
              "      <td>[44.499252, -80.216587]</td>\n",
              "      <td>44.499252</td>\n",
              "      <td>-80.216587</td>\n",
              "    </tr>\n",
              "    <tr>\n",
              "      <th>110864889964667973890</th>\n",
              "      <td>5.0</td>\n",
              "      <td>chris johnson</td>\n",
              "      <td>get right everi time love guy</td>\n",
              "      <td>[delivery restaurant, event planner, business ...</td>\n",
              "      <td>2011-09-15 21:54:03</td>\n",
              "      <td>2011-09-15</td>\n",
              "      <td>100000524810171549476</td>\n",
              "      <td>Delivered Dish | Portland, OR</td>\n",
              "      <td>$$</td>\n",
              "      <td>[Portland, OR]</td>\n",
              "      <td>[[Monday, [['8:00 am--9:00 pm']]], [Tuesday, [...</td>\n",
              "      <td>(503) 239-0100</td>\n",
              "      <td>False</td>\n",
              "      <td>[45.470342, -122.747085]</td>\n",
              "      <td>45.470342</td>\n",
              "      <td>-122.747085</td>\n",
              "    </tr>\n",
              "    <tr>\n",
              "      <th>110864889964667973890</th>\n",
              "      <td>1.0</td>\n",
              "      <td>allison lea</td>\n",
              "      <td>use servic order even show 1 hour 20 minut pro...</td>\n",
              "      <td>[delivery restaurant, event planner, business ...</td>\n",
              "      <td>2013-11-09 10:28:01</td>\n",
              "      <td>2013-11-08</td>\n",
              "      <td>100537426867747151661</td>\n",
              "      <td>Delivered Dish | Portland, OR</td>\n",
              "      <td>$$</td>\n",
              "      <td>[Portland, OR]</td>\n",
              "      <td>[[Monday, [['8:00 am--9:00 pm']]], [Tuesday, [...</td>\n",
              "      <td>(503) 239-0100</td>\n",
              "      <td>False</td>\n",
              "      <td>[45.470342, -122.747085]</td>\n",
              "      <td>45.470342</td>\n",
              "      <td>-122.747085</td>\n",
              "    </tr>\n",
              "    <tr>\n",
              "      <th>110864889964667973890</th>\n",
              "      <td>1.0</td>\n",
              "      <td>derek espinoza</td>\n",
              "      <td>late half hour like person call 25 minut food ...</td>\n",
              "      <td>[delivery restaurant, event planner, business ...</td>\n",
              "      <td>2013-09-30 09:25:54</td>\n",
              "      <td>2013-09-29</td>\n",
              "      <td>105608513775015690240</td>\n",
              "      <td>Delivered Dish | Portland, OR</td>\n",
              "      <td>$$</td>\n",
              "      <td>[Portland, OR]</td>\n",
              "      <td>[[Monday, [['8:00 am--9:00 pm']]], [Tuesday, [...</td>\n",
              "      <td>(503) 239-0100</td>\n",
              "      <td>False</td>\n",
              "      <td>[45.470342, -122.747085]</td>\n",
              "      <td>45.470342</td>\n",
              "      <td>-122.747085</td>\n",
              "    </tr>\n",
              "    <tr>\n",
              "      <th>106925262113173878216</th>\n",
              "      <td>5.0</td>\n",
              "      <td>jon bredensteiner (willy)</td>\n",
              "      <td>best bar area</td>\n",
              "      <td>[bar &amp; grill, irish pub, cocktail bar]</td>\n",
              "      <td>2014-01-31 11:59:03</td>\n",
              "      <td>2014-01-30</td>\n",
              "      <td>100000566806487162811</td>\n",
              "      <td>O'finnigans Pub</td>\n",
              "      <td>None</td>\n",
              "      <td>[13601 Washington 99, Everett, WA 98204]</td>\n",
              "      <td>[[Monday, [['11:00 am--2:00 am']]], [Tuesday, ...</td>\n",
              "      <td>(425) 745-4805</td>\n",
              "      <td>False</td>\n",
              "      <td>[47.874683, -122.27189]</td>\n",
              "      <td>47.874683</td>\n",
              "      <td>-122.271890</td>\n",
              "    </tr>\n",
              "    <tr>\n",
              "      <th>106925262113173878216</th>\n",
              "      <td>2.0</td>\n",
              "      <td>david poulton</td>\n",
              "      <td>would never go circumst horribl staff lack kno...</td>\n",
              "      <td>[bar &amp; grill, irish pub, cocktail bar]</td>\n",
              "      <td>2013-02-12 11:24:05</td>\n",
              "      <td>2013-02-11</td>\n",
              "      <td>104636730914402265439</td>\n",
              "      <td>O'finnigans Pub</td>\n",
              "      <td>None</td>\n",
              "      <td>[13601 Washington 99, Everett, WA 98204]</td>\n",
              "      <td>[[Monday, [['11:00 am--2:00 am']]], [Tuesday, ...</td>\n",
              "      <td>(425) 745-4805</td>\n",
              "      <td>False</td>\n",
              "      <td>[47.874683, -122.27189]</td>\n",
              "      <td>47.874683</td>\n",
              "      <td>-122.271890</td>\n",
              "    </tr>\n",
              "    <tr>\n",
              "      <th>109723908842622284016</th>\n",
              "      <td>3.0</td>\n",
              "      <td>suzanne lander</td>\n",
              "      <td>love hole in the wal slightli greasi delici de...</td>\n",
              "      <td>[asian restaurant, chinese restaurant]</td>\n",
              "      <td>2012-11-11 00:03:33</td>\n",
              "      <td>2012-11-10</td>\n",
              "      <td>100000820235275835897</td>\n",
              "      <td>Duk Li Dim Sum Restaurant</td>\n",
              "      <td>$$</td>\n",
              "      <td>[664 S Weller St, Seattle, WA 98104]</td>\n",
              "      <td>[[Monday, [['7:00 am--7:00 pm']]], [Tuesday, [...</td>\n",
              "      <td>(206) 340-6122</td>\n",
              "      <td>False</td>\n",
              "      <td>[47.597602, -122.324369]</td>\n",
              "      <td>47.597602</td>\n",
              "      <td>-122.324369</td>\n",
              "    </tr>\n",
              "    <tr>\n",
              "      <th>109723908842622284016</th>\n",
              "      <td>1.0</td>\n",
              "      <td>caelyn gillaspie</td>\n",
              "      <td>felt sad gave tip waiter owner kept</td>\n",
              "      <td>[asian restaurant, chinese restaurant]</td>\n",
              "      <td>2011-12-19 08:28:57</td>\n",
              "      <td>2011-12-18</td>\n",
              "      <td>105721886599517510328</td>\n",
              "      <td>Duk Li Dim Sum Restaurant</td>\n",
              "      <td>$$</td>\n",
              "      <td>[664 S Weller St, Seattle, WA 98104]</td>\n",
              "      <td>[[Monday, [['7:00 am--7:00 pm']]], [Tuesday, [...</td>\n",
              "      <td>(206) 340-6122</td>\n",
              "      <td>False</td>\n",
              "      <td>[47.597602, -122.324369]</td>\n",
              "      <td>47.597602</td>\n",
              "      <td>-122.324369</td>\n",
              "    </tr>\n",
              "  </tbody>\n",
              "</table>\n",
              "</div>"
            ],
            "text/plain": [
              "                       rating               reviewerName  \\\n",
              "gPlusPlaceId                                               \n",
              "112181651134020562716     5.0               jason wagner   \n",
              "109391653021436219474     5.0        heather goldsworthy   \n",
              "109391653021436219474     5.0           nicholas clayton   \n",
              "110864889964667973890     5.0              chris johnson   \n",
              "110864889964667973890     1.0                allison lea   \n",
              "110864889964667973890     1.0             derek espinoza   \n",
              "106925262113173878216     5.0  jon bredensteiner (willy)   \n",
              "106925262113173878216     2.0              david poulton   \n",
              "109723908842622284016     3.0             suzanne lander   \n",
              "109723908842622284016     1.0           caelyn gillaspie   \n",
              "\n",
              "                                                              reviewText  \\\n",
              "gPlusPlaceId                                                               \n",
              "112181651134020562716  stop dinner mahi mahi special fantast servic g...   \n",
              "109391653021436219474                             best coffe collingwood   \n",
              "109391653021436219474  locat old post offic outlet histor pedigre bes...   \n",
              "110864889964667973890                      get right everi time love guy   \n",
              "110864889964667973890  use servic order even show 1 hour 20 minut pro...   \n",
              "110864889964667973890  late half hour like person call 25 minut food ...   \n",
              "106925262113173878216                                      best bar area   \n",
              "106925262113173878216  would never go circumst horribl staff lack kno...   \n",
              "109723908842622284016  love hole in the wal slightli greasi delici de...   \n",
              "109723908842622284016                felt sad gave tip waiter owner kept   \n",
              "\n",
              "                                                              categories  \\\n",
              "gPlusPlaceId                                                               \n",
              "112181651134020562716          [european restaurant, italian restaurant]   \n",
              "109391653021436219474                                             [cafe]   \n",
              "109391653021436219474                                             [cafe]   \n",
              "110864889964667973890  [delivery restaurant, event planner, business ...   \n",
              "110864889964667973890  [delivery restaurant, event planner, business ...   \n",
              "110864889964667973890  [delivery restaurant, event planner, business ...   \n",
              "106925262113173878216             [bar & grill, irish pub, cocktail bar]   \n",
              "106925262113173878216             [bar & grill, irish pub, cocktail bar]   \n",
              "109723908842622284016             [asian restaurant, chinese restaurant]   \n",
              "109723908842622284016             [asian restaurant, chinese restaurant]   \n",
              "\n",
              "                           unixReviewTime reviewTime            gPlusUserId  \\\n",
              "gPlusPlaceId                                                                  \n",
              "112181651134020562716 2012-10-18 21:56:05 2012-10-18  100000196778399872657   \n",
              "109391653021436219474 2013-09-12 18:38:15 2013-09-12  100000427343266187570   \n",
              "109391653021436219474 2013-05-04 01:35:12 2013-05-03  104975196938413074237   \n",
              "110864889964667973890 2011-09-15 21:54:03 2011-09-15  100000524810171549476   \n",
              "110864889964667973890 2013-11-09 10:28:01 2013-11-08  100537426867747151661   \n",
              "110864889964667973890 2013-09-30 09:25:54 2013-09-29  105608513775015690240   \n",
              "106925262113173878216 2014-01-31 11:59:03 2014-01-30  100000566806487162811   \n",
              "106925262113173878216 2013-02-12 11:24:05 2013-02-11  104636730914402265439   \n",
              "109723908842622284016 2012-11-11 00:03:33 2012-11-10  100000820235275835897   \n",
              "109723908842622284016 2011-12-19 08:28:57 2011-12-18  105721886599517510328   \n",
              "\n",
              "                                                name price  \\\n",
              "gPlusPlaceId                                                 \n",
              "112181651134020562716            Pasquales Trattoria  None   \n",
              "109391653021436219474                  Espresso Post  None   \n",
              "109391653021436219474                  Espresso Post  None   \n",
              "110864889964667973890  Delivered Dish | Portland, OR    $$   \n",
              "110864889964667973890  Delivered Dish | Portland, OR    $$   \n",
              "110864889964667973890  Delivered Dish | Portland, OR    $$   \n",
              "106925262113173878216                O'finnigans Pub  None   \n",
              "106925262113173878216                O'finnigans Pub  None   \n",
              "109723908842622284016      Duk Li Dim Sum Restaurant    $$   \n",
              "109723908842622284016      Duk Li Dim Sum Restaurant    $$   \n",
              "\n",
              "                                                                 address  \\\n",
              "gPlusPlaceId                                                               \n",
              "112181651134020562716  [50 Lakeshore Rd W, Oakville, ON L6Y 2K3, Canada]   \n",
              "109391653021436219474   [139 Hurontario St, Collingwood, ON L9Y, Canada]   \n",
              "109391653021436219474   [139 Hurontario St, Collingwood, ON L9Y, Canada]   \n",
              "110864889964667973890                                     [Portland, OR]   \n",
              "110864889964667973890                                     [Portland, OR]   \n",
              "110864889964667973890                                     [Portland, OR]   \n",
              "106925262113173878216           [13601 Washington 99, Everett, WA 98204]   \n",
              "106925262113173878216           [13601 Washington 99, Everett, WA 98204]   \n",
              "109723908842622284016               [664 S Weller St, Seattle, WA 98104]   \n",
              "109723908842622284016               [664 S Weller St, Seattle, WA 98104]   \n",
              "\n",
              "                                                                   hours  \\\n",
              "gPlusPlaceId                                                               \n",
              "112181651134020562716  [[Monday, [['Closed']]], [Tuesday, [['11:30 am...   \n",
              "109391653021436219474                                               None   \n",
              "109391653021436219474                                               None   \n",
              "110864889964667973890  [[Monday, [['8:00 am--9:00 pm']]], [Tuesday, [...   \n",
              "110864889964667973890  [[Monday, [['8:00 am--9:00 pm']]], [Tuesday, [...   \n",
              "110864889964667973890  [[Monday, [['8:00 am--9:00 pm']]], [Tuesday, [...   \n",
              "106925262113173878216  [[Monday, [['11:00 am--2:00 am']]], [Tuesday, ...   \n",
              "106925262113173878216  [[Monday, [['11:00 am--2:00 am']]], [Tuesday, ...   \n",
              "109723908842622284016  [[Monday, [['7:00 am--7:00 pm']]], [Tuesday, [...   \n",
              "109723908842622284016  [[Monday, [['7:00 am--7:00 pm']]], [Tuesday, [...   \n",
              "\n",
              "                                phone  closed                       gps  \\\n",
              "gPlusPlaceId                                                              \n",
              "112181651134020562716  (905) 338-9090   False   [43.440331, -79.672851]   \n",
              "109391653021436219474  (705) 446-1740   False   [44.499252, -80.216587]   \n",
              "109391653021436219474  (705) 446-1740   False   [44.499252, -80.216587]   \n",
              "110864889964667973890  (503) 239-0100   False  [45.470342, -122.747085]   \n",
              "110864889964667973890  (503) 239-0100   False  [45.470342, -122.747085]   \n",
              "110864889964667973890  (503) 239-0100   False  [45.470342, -122.747085]   \n",
              "106925262113173878216  (425) 745-4805   False   [47.874683, -122.27189]   \n",
              "106925262113173878216  (425) 745-4805   False   [47.874683, -122.27189]   \n",
              "109723908842622284016  (206) 340-6122   False  [47.597602, -122.324369]   \n",
              "109723908842622284016  (206) 340-6122   False  [47.597602, -122.324369]   \n",
              "\n",
              "                             lat        long  \n",
              "gPlusPlaceId                                  \n",
              "112181651134020562716  43.440331  -79.672851  \n",
              "109391653021436219474  44.499252  -80.216587  \n",
              "109391653021436219474  44.499252  -80.216587  \n",
              "110864889964667973890  45.470342 -122.747085  \n",
              "110864889964667973890  45.470342 -122.747085  \n",
              "110864889964667973890  45.470342 -122.747085  \n",
              "106925262113173878216  47.874683 -122.271890  \n",
              "106925262113173878216  47.874683 -122.271890  \n",
              "109723908842622284016  47.597602 -122.324369  \n",
              "109723908842622284016  47.597602 -122.324369  "
            ]
          },
          "metadata": {
            "tags": []
          },
          "execution_count": 11
        }
      ]
    },
    {
      "cell_type": "code",
      "metadata": {
        "colab": {
          "base_uri": "https://localhost:8080/"
        },
        "id": "dHWlflT-6Yay",
        "outputId": "b93d532b-e405-4dad-cccc-9e3a0d201b2e"
      },
      "source": [
        "print(\"Number of users in dataset: \", len(data_to_model['gPlusUserId'].unique()))\n",
        "print(\"Number of places in dataset : \", len(data_to_model.index.unique()))"
      ],
      "execution_count": 12,
      "outputs": [
        {
          "output_type": "stream",
          "text": [
            "Number of users in dataset:  41568\n",
            "Number of places in dataset :  43018\n"
          ],
          "name": "stdout"
        }
      ]
    },
    {
      "cell_type": "code",
      "metadata": {
        "id": "CrrfP_-3w0gK"
      },
      "source": [
        "data_to_model.to_pickle('data_to_model_temp.pickle')\n",
        "data_to_model = pd.read_pickle('data_to_model_temp.pickle')"
      ],
      "execution_count": 13,
      "outputs": []
    },
    {
      "cell_type": "code",
      "metadata": {
        "colab": {
          "base_uri": "https://localhost:8080/"
        },
        "id": "Ns7YrFP16_9r",
        "outputId": "6b328066-02be-43a1-a585-0c1b978fe55c"
      },
      "source": [
        "series = data_to_model[['hours']]\n",
        "series.dropna(inplace = True)\n",
        "index_ = series.index"
      ],
      "execution_count": 14,
      "outputs": [
        {
          "output_type": "stream",
          "text": [
            "/usr/local/lib/python3.6/dist-packages/ipykernel_launcher.py:2: SettingWithCopyWarning:\n",
            "\n",
            "\n",
            "A value is trying to be set on a copy of a slice from a DataFrame\n",
            "\n",
            "See the caveats in the documentation: https://pandas.pydata.org/pandas-docs/stable/user_guide/indexing.html#returning-a-view-versus-a-copy\n",
            "\n"
          ],
          "name": "stderr"
        }
      ]
    },
    {
      "cell_type": "code",
      "metadata": {
        "colab": {
          "base_uri": "https://localhost:8080/"
        },
        "id": "5Zd4K7vHHG3T",
        "outputId": "bd43e73b-9480-4bd1-9493-e99d54fde4de"
      },
      "source": [
        "le = LabelEncoder()\n",
        "le.fit(series.index.unique())\n",
        "series['id'] = le.transform(series.index)"
      ],
      "execution_count": 15,
      "outputs": [
        {
          "output_type": "stream",
          "text": [
            "/usr/local/lib/python3.6/dist-packages/ipykernel_launcher.py:3: SettingWithCopyWarning:\n",
            "\n",
            "\n",
            "A value is trying to be set on a copy of a slice from a DataFrame.\n",
            "Try using .loc[row_indexer,col_indexer] = value instead\n",
            "\n",
            "See the caveats in the documentation: https://pandas.pydata.org/pandas-docs/stable/user_guide/indexing.html#returning-a-view-versus-a-copy\n",
            "\n"
          ],
          "name": "stderr"
        }
      ]
    },
    {
      "cell_type": "code",
      "metadata": {
        "id": "Mm2_JaGDH3BV"
      },
      "source": [
        "series1 = series.drop_duplicates(subset = 'id')"
      ],
      "execution_count": 16,
      "outputs": []
    },
    {
      "cell_type": "code",
      "metadata": {
        "colab": {
          "base_uri": "https://localhost:8080/"
        },
        "id": "09olkZkFH-qN",
        "outputId": "b93fba42-a720-4f95-805f-8bc7e0af2dc8"
      },
      "source": [
        "series1 = series1.loc[:,'hours']\n",
        "series1.head(10)"
      ],
      "execution_count": 17,
      "outputs": [
        {
          "output_type": "execute_result",
          "data": {
            "text/plain": [
              "gPlusPlaceId\n",
              "112181651134020562716    [[Monday, [['Closed']]], [Tuesday, [['11:30 am...\n",
              "110864889964667973890    [[Monday, [['8:00 am--9:00 pm']]], [Tuesday, [...\n",
              "106925262113173878216    [[Monday, [['11:00 am--2:00 am']]], [Tuesday, ...\n",
              "109723908842622284016    [[Monday, [['7:00 am--7:00 pm']]], [Tuesday, [...\n",
              "118279746793420842563    [[Monday, [['10:00 am--12:00 am']]], [Tuesday,...\n",
              "117375003782548234778    [[Monday, [['6:00 am--12:00 am']]], [Tuesday, ...\n",
              "108777548128881330137    [[Monday, [['8:00 am--8:00 pm']]], [Tuesday, [...\n",
              "107377745432053659364    [[Monday, [['11:00 am--10:00 pm']]], [Tuesday,...\n",
              "108726835119576698559    [[Monday, [['11:00 am--11:00 pm']]], [Tuesday,...\n",
              "100691533337424531663    [[Monday, [['11:30 am--2:00 am']], 1], [Tuesda...\n",
              "Name: hours, dtype: object"
            ]
          },
          "metadata": {
            "tags": []
          },
          "execution_count": 17
        }
      ]
    },
    {
      "cell_type": "code",
      "metadata": {
        "id": "OF73taEmJ0bD"
      },
      "source": [
        "availability = data_preprocessing.available_times(series1)\n"
      ],
      "execution_count": 31,
      "outputs": []
    },
    {
      "cell_type": "code",
      "metadata": {
        "colab": {
          "base_uri": "https://localhost:8080/",
          "height": 386
        },
        "id": "vp3EwFf8J0hP",
        "outputId": "ce0be9f7-8704-46d3-b350-c626aec1cdb4"
      },
      "source": [
        "availability = availability.apply(pd.Series)\n",
        "availability.fillna(0,inplace = True)\n",
        "availability.head(10)"
      ],
      "execution_count": 34,
      "outputs": [
        {
          "output_type": "execute_result",
          "data": {
            "text/html": [
              "<div>\n",
              "<style scoped>\n",
              "    .dataframe tbody tr th:only-of-type {\n",
              "        vertical-align: middle;\n",
              "    }\n",
              "\n",
              "    .dataframe tbody tr th {\n",
              "        vertical-align: top;\n",
              "    }\n",
              "\n",
              "    .dataframe thead th {\n",
              "        text-align: right;\n",
              "    }\n",
              "</style>\n",
              "<table border=\"1\" class=\"dataframe\">\n",
              "  <thead>\n",
              "    <tr style=\"text-align: right;\">\n",
              "      <th></th>\n",
              "      <th>open_days</th>\n",
              "      <th>Dinner</th>\n",
              "      <th>Lunch</th>\n",
              "      <th>Breakfast</th>\n",
              "    </tr>\n",
              "    <tr>\n",
              "      <th>gPlusPlaceId</th>\n",
              "      <th></th>\n",
              "      <th></th>\n",
              "      <th></th>\n",
              "      <th></th>\n",
              "    </tr>\n",
              "  </thead>\n",
              "  <tbody>\n",
              "    <tr>\n",
              "      <th>112181651134020562716</th>\n",
              "      <td>6.0</td>\n",
              "      <td>1.0</td>\n",
              "      <td>0.0</td>\n",
              "      <td>0.0</td>\n",
              "    </tr>\n",
              "    <tr>\n",
              "      <th>110864889964667973890</th>\n",
              "      <td>7.0</td>\n",
              "      <td>1.0</td>\n",
              "      <td>0.0</td>\n",
              "      <td>0.0</td>\n",
              "    </tr>\n",
              "    <tr>\n",
              "      <th>106925262113173878216</th>\n",
              "      <td>7.0</td>\n",
              "      <td>1.0</td>\n",
              "      <td>1.0</td>\n",
              "      <td>0.0</td>\n",
              "    </tr>\n",
              "    <tr>\n",
              "      <th>109723908842622284016</th>\n",
              "      <td>7.0</td>\n",
              "      <td>1.0</td>\n",
              "      <td>1.0</td>\n",
              "      <td>1.0</td>\n",
              "    </tr>\n",
              "    <tr>\n",
              "      <th>118279746793420842563</th>\n",
              "      <td>7.0</td>\n",
              "      <td>1.0</td>\n",
              "      <td>1.0</td>\n",
              "      <td>0.0</td>\n",
              "    </tr>\n",
              "    <tr>\n",
              "      <th>117375003782548234778</th>\n",
              "      <td>7.0</td>\n",
              "      <td>1.0</td>\n",
              "      <td>1.0</td>\n",
              "      <td>1.0</td>\n",
              "    </tr>\n",
              "    <tr>\n",
              "      <th>108777548128881330137</th>\n",
              "      <td>7.0</td>\n",
              "      <td>1.0</td>\n",
              "      <td>0.0</td>\n",
              "      <td>1.0</td>\n",
              "    </tr>\n",
              "    <tr>\n",
              "      <th>107377745432053659364</th>\n",
              "      <td>7.0</td>\n",
              "      <td>1.0</td>\n",
              "      <td>1.0</td>\n",
              "      <td>0.0</td>\n",
              "    </tr>\n",
              "    <tr>\n",
              "      <th>108726835119576698559</th>\n",
              "      <td>7.0</td>\n",
              "      <td>1.0</td>\n",
              "      <td>1.0</td>\n",
              "      <td>0.0</td>\n",
              "    </tr>\n",
              "    <tr>\n",
              "      <th>100691533337424531663</th>\n",
              "      <td>7.0</td>\n",
              "      <td>1.0</td>\n",
              "      <td>1.0</td>\n",
              "      <td>0.0</td>\n",
              "    </tr>\n",
              "  </tbody>\n",
              "</table>\n",
              "</div>"
            ],
            "text/plain": [
              "                       open_days  Dinner  Lunch  Breakfast\n",
              "gPlusPlaceId                                              \n",
              "112181651134020562716        6.0     1.0    0.0        0.0\n",
              "110864889964667973890        7.0     1.0    0.0        0.0\n",
              "106925262113173878216        7.0     1.0    1.0        0.0\n",
              "109723908842622284016        7.0     1.0    1.0        1.0\n",
              "118279746793420842563        7.0     1.0    1.0        0.0\n",
              "117375003782548234778        7.0     1.0    1.0        1.0\n",
              "108777548128881330137        7.0     1.0    0.0        1.0\n",
              "107377745432053659364        7.0     1.0    1.0        0.0\n",
              "108726835119576698559        7.0     1.0    1.0        0.0\n",
              "100691533337424531663        7.0     1.0    1.0        0.0"
            ]
          },
          "metadata": {
            "tags": []
          },
          "execution_count": 34
        }
      ]
    },
    {
      "cell_type": "code",
      "metadata": {
        "colab": {
          "base_uri": "https://localhost:8080/"
        },
        "id": "_-6MHFlhboTK",
        "outputId": "b53c1f52-4ee8-4865-daed-34a7efabffad"
      },
      "source": [
        "availability.shape"
      ],
      "execution_count": 35,
      "outputs": [
        {
          "output_type": "execute_result",
          "data": {
            "text/plain": [
              "(33098, 4)"
            ]
          },
          "metadata": {
            "tags": []
          },
          "execution_count": 35
        }
      ]
    },
    {
      "cell_type": "code",
      "metadata": {
        "id": "O01v61GWj6GU"
      },
      "source": [
        "#merge with canada_us dataframe\n",
        "data_to_model_final = pd.merge(data_to_model,availability, left_on = data_to_model.index,right_on = availability.index, how = 'inner')"
      ],
      "execution_count": 36,
      "outputs": []
    },
    {
      "cell_type": "code",
      "metadata": {
        "colab": {
          "base_uri": "https://localhost:8080/",
          "height": 673
        },
        "id": "RS1q74Sj28sI",
        "outputId": "75cdbc25-adfc-46de-a4af-ccd1d5db5acc"
      },
      "source": [
        "data_to_model_final.head(5)"
      ],
      "execution_count": 37,
      "outputs": [
        {
          "output_type": "execute_result",
          "data": {
            "text/html": [
              "<div>\n",
              "<style scoped>\n",
              "    .dataframe tbody tr th:only-of-type {\n",
              "        vertical-align: middle;\n",
              "    }\n",
              "\n",
              "    .dataframe tbody tr th {\n",
              "        vertical-align: top;\n",
              "    }\n",
              "\n",
              "    .dataframe thead th {\n",
              "        text-align: right;\n",
              "    }\n",
              "</style>\n",
              "<table border=\"1\" class=\"dataframe\">\n",
              "  <thead>\n",
              "    <tr style=\"text-align: right;\">\n",
              "      <th></th>\n",
              "      <th>key_0</th>\n",
              "      <th>rating</th>\n",
              "      <th>reviewerName</th>\n",
              "      <th>reviewText</th>\n",
              "      <th>categories</th>\n",
              "      <th>unixReviewTime</th>\n",
              "      <th>reviewTime</th>\n",
              "      <th>gPlusUserId</th>\n",
              "      <th>name</th>\n",
              "      <th>price</th>\n",
              "      <th>address</th>\n",
              "      <th>hours</th>\n",
              "      <th>phone</th>\n",
              "      <th>closed</th>\n",
              "      <th>gps</th>\n",
              "      <th>lat</th>\n",
              "      <th>long</th>\n",
              "      <th>open_days</th>\n",
              "      <th>Dinner</th>\n",
              "      <th>Lunch</th>\n",
              "      <th>Breakfast</th>\n",
              "    </tr>\n",
              "  </thead>\n",
              "  <tbody>\n",
              "    <tr>\n",
              "      <th>0</th>\n",
              "      <td>112181651134020562716</td>\n",
              "      <td>5.0</td>\n",
              "      <td>jason wagner</td>\n",
              "      <td>stop dinner mahi mahi special fantast servic g...</td>\n",
              "      <td>[european restaurant, italian restaurant]</td>\n",
              "      <td>2012-10-18 21:56:05</td>\n",
              "      <td>2012-10-18</td>\n",
              "      <td>100000196778399872657</td>\n",
              "      <td>Pasquales Trattoria</td>\n",
              "      <td>None</td>\n",
              "      <td>[50 Lakeshore Rd W, Oakville, ON L6Y 2K3, Canada]</td>\n",
              "      <td>[[Monday, [['Closed']]], [Tuesday, [['11:30 am...</td>\n",
              "      <td>(905) 338-9090</td>\n",
              "      <td>False</td>\n",
              "      <td>[43.440331, -79.672851]</td>\n",
              "      <td>43.440331</td>\n",
              "      <td>-79.672851</td>\n",
              "      <td>6.0</td>\n",
              "      <td>1.0</td>\n",
              "      <td>0.0</td>\n",
              "      <td>0.0</td>\n",
              "    </tr>\n",
              "    <tr>\n",
              "      <th>1</th>\n",
              "      <td>110864889964667973890</td>\n",
              "      <td>5.0</td>\n",
              "      <td>chris johnson</td>\n",
              "      <td>get right everi time love guy</td>\n",
              "      <td>[delivery restaurant, event planner, business ...</td>\n",
              "      <td>2011-09-15 21:54:03</td>\n",
              "      <td>2011-09-15</td>\n",
              "      <td>100000524810171549476</td>\n",
              "      <td>Delivered Dish | Portland, OR</td>\n",
              "      <td>$$</td>\n",
              "      <td>[Portland, OR]</td>\n",
              "      <td>[[Monday, [['8:00 am--9:00 pm']]], [Tuesday, [...</td>\n",
              "      <td>(503) 239-0100</td>\n",
              "      <td>False</td>\n",
              "      <td>[45.470342, -122.747085]</td>\n",
              "      <td>45.470342</td>\n",
              "      <td>-122.747085</td>\n",
              "      <td>7.0</td>\n",
              "      <td>1.0</td>\n",
              "      <td>0.0</td>\n",
              "      <td>0.0</td>\n",
              "    </tr>\n",
              "    <tr>\n",
              "      <th>2</th>\n",
              "      <td>110864889964667973890</td>\n",
              "      <td>1.0</td>\n",
              "      <td>allison lea</td>\n",
              "      <td>use servic order even show 1 hour 20 minut pro...</td>\n",
              "      <td>[delivery restaurant, event planner, business ...</td>\n",
              "      <td>2013-11-09 10:28:01</td>\n",
              "      <td>2013-11-08</td>\n",
              "      <td>100537426867747151661</td>\n",
              "      <td>Delivered Dish | Portland, OR</td>\n",
              "      <td>$$</td>\n",
              "      <td>[Portland, OR]</td>\n",
              "      <td>[[Monday, [['8:00 am--9:00 pm']]], [Tuesday, [...</td>\n",
              "      <td>(503) 239-0100</td>\n",
              "      <td>False</td>\n",
              "      <td>[45.470342, -122.747085]</td>\n",
              "      <td>45.470342</td>\n",
              "      <td>-122.747085</td>\n",
              "      <td>7.0</td>\n",
              "      <td>1.0</td>\n",
              "      <td>0.0</td>\n",
              "      <td>0.0</td>\n",
              "    </tr>\n",
              "    <tr>\n",
              "      <th>3</th>\n",
              "      <td>110864889964667973890</td>\n",
              "      <td>1.0</td>\n",
              "      <td>derek espinoza</td>\n",
              "      <td>late half hour like person call 25 minut food ...</td>\n",
              "      <td>[delivery restaurant, event planner, business ...</td>\n",
              "      <td>2013-09-30 09:25:54</td>\n",
              "      <td>2013-09-29</td>\n",
              "      <td>105608513775015690240</td>\n",
              "      <td>Delivered Dish | Portland, OR</td>\n",
              "      <td>$$</td>\n",
              "      <td>[Portland, OR]</td>\n",
              "      <td>[[Monday, [['8:00 am--9:00 pm']]], [Tuesday, [...</td>\n",
              "      <td>(503) 239-0100</td>\n",
              "      <td>False</td>\n",
              "      <td>[45.470342, -122.747085]</td>\n",
              "      <td>45.470342</td>\n",
              "      <td>-122.747085</td>\n",
              "      <td>7.0</td>\n",
              "      <td>1.0</td>\n",
              "      <td>0.0</td>\n",
              "      <td>0.0</td>\n",
              "    </tr>\n",
              "    <tr>\n",
              "      <th>4</th>\n",
              "      <td>106925262113173878216</td>\n",
              "      <td>5.0</td>\n",
              "      <td>jon bredensteiner (willy)</td>\n",
              "      <td>best bar area</td>\n",
              "      <td>[bar &amp; grill, irish pub, cocktail bar]</td>\n",
              "      <td>2014-01-31 11:59:03</td>\n",
              "      <td>2014-01-30</td>\n",
              "      <td>100000566806487162811</td>\n",
              "      <td>O'finnigans Pub</td>\n",
              "      <td>None</td>\n",
              "      <td>[13601 Washington 99, Everett, WA 98204]</td>\n",
              "      <td>[[Monday, [['11:00 am--2:00 am']]], [Tuesday, ...</td>\n",
              "      <td>(425) 745-4805</td>\n",
              "      <td>False</td>\n",
              "      <td>[47.874683, -122.27189]</td>\n",
              "      <td>47.874683</td>\n",
              "      <td>-122.271890</td>\n",
              "      <td>7.0</td>\n",
              "      <td>1.0</td>\n",
              "      <td>1.0</td>\n",
              "      <td>0.0</td>\n",
              "    </tr>\n",
              "  </tbody>\n",
              "</table>\n",
              "</div>"
            ],
            "text/plain": [
              "                   key_0  rating               reviewerName  \\\n",
              "0  112181651134020562716     5.0               jason wagner   \n",
              "1  110864889964667973890     5.0              chris johnson   \n",
              "2  110864889964667973890     1.0                allison lea   \n",
              "3  110864889964667973890     1.0             derek espinoza   \n",
              "4  106925262113173878216     5.0  jon bredensteiner (willy)   \n",
              "\n",
              "                                          reviewText  \\\n",
              "0  stop dinner mahi mahi special fantast servic g...   \n",
              "1                      get right everi time love guy   \n",
              "2  use servic order even show 1 hour 20 minut pro...   \n",
              "3  late half hour like person call 25 minut food ...   \n",
              "4                                      best bar area   \n",
              "\n",
              "                                          categories      unixReviewTime  \\\n",
              "0          [european restaurant, italian restaurant] 2012-10-18 21:56:05   \n",
              "1  [delivery restaurant, event planner, business ... 2011-09-15 21:54:03   \n",
              "2  [delivery restaurant, event planner, business ... 2013-11-09 10:28:01   \n",
              "3  [delivery restaurant, event planner, business ... 2013-09-30 09:25:54   \n",
              "4             [bar & grill, irish pub, cocktail bar] 2014-01-31 11:59:03   \n",
              "\n",
              "  reviewTime            gPlusUserId                           name price  \\\n",
              "0 2012-10-18  100000196778399872657            Pasquales Trattoria  None   \n",
              "1 2011-09-15  100000524810171549476  Delivered Dish | Portland, OR    $$   \n",
              "2 2013-11-08  100537426867747151661  Delivered Dish | Portland, OR    $$   \n",
              "3 2013-09-29  105608513775015690240  Delivered Dish | Portland, OR    $$   \n",
              "4 2014-01-30  100000566806487162811                O'finnigans Pub  None   \n",
              "\n",
              "                                             address  \\\n",
              "0  [50 Lakeshore Rd W, Oakville, ON L6Y 2K3, Canada]   \n",
              "1                                     [Portland, OR]   \n",
              "2                                     [Portland, OR]   \n",
              "3                                     [Portland, OR]   \n",
              "4           [13601 Washington 99, Everett, WA 98204]   \n",
              "\n",
              "                                               hours           phone  closed  \\\n",
              "0  [[Monday, [['Closed']]], [Tuesday, [['11:30 am...  (905) 338-9090   False   \n",
              "1  [[Monday, [['8:00 am--9:00 pm']]], [Tuesday, [...  (503) 239-0100   False   \n",
              "2  [[Monday, [['8:00 am--9:00 pm']]], [Tuesday, [...  (503) 239-0100   False   \n",
              "3  [[Monday, [['8:00 am--9:00 pm']]], [Tuesday, [...  (503) 239-0100   False   \n",
              "4  [[Monday, [['11:00 am--2:00 am']]], [Tuesday, ...  (425) 745-4805   False   \n",
              "\n",
              "                        gps        lat        long  open_days  Dinner  Lunch  \\\n",
              "0   [43.440331, -79.672851]  43.440331  -79.672851        6.0     1.0    0.0   \n",
              "1  [45.470342, -122.747085]  45.470342 -122.747085        7.0     1.0    0.0   \n",
              "2  [45.470342, -122.747085]  45.470342 -122.747085        7.0     1.0    0.0   \n",
              "3  [45.470342, -122.747085]  45.470342 -122.747085        7.0     1.0    0.0   \n",
              "4   [47.874683, -122.27189]  47.874683 -122.271890        7.0     1.0    1.0   \n",
              "\n",
              "   Breakfast  \n",
              "0        0.0  \n",
              "1        0.0  \n",
              "2        0.0  \n",
              "3        0.0  \n",
              "4        0.0  "
            ]
          },
          "metadata": {
            "tags": []
          },
          "execution_count": 37
        }
      ]
    },
    {
      "cell_type": "code",
      "metadata": {
        "id": "Z259UIWW4DVV"
      },
      "source": [
        "data_to_model_final.columns = ['gPlusPlaceId','rating', 'reviewerName', 'reviewText', 'categories',\n",
        "       'unixReviewTime', 'reviewTime', 'gPlusUserId', 'name', 'price',\n",
        "       'address', 'hours', 'phone', 'closed', 'gps', 'lat', 'long',\n",
        "       'open_days', 'Dinner', 'Lunch', 'Breakfast']"
      ],
      "execution_count": 42,
      "outputs": []
    },
    {
      "cell_type": "code",
      "metadata": {
        "colab": {
          "base_uri": "https://localhost:8080/"
        },
        "id": "DIQSUlx2h1FV",
        "outputId": "b55bae38-6582-496c-f128-3590b74f203d"
      },
      "source": [
        "data_to_model_final.shape"
      ],
      "execution_count": 43,
      "outputs": [
        {
          "output_type": "execute_result",
          "data": {
            "text/plain": [
              "(57254, 21)"
            ]
          },
          "metadata": {
            "tags": []
          },
          "execution_count": 43
        }
      ]
    },
    {
      "cell_type": "code",
      "metadata": {
        "id": "bh9Fdtrhtzcs"
      },
      "source": [
        "#save data_to_model as a pickle file\n",
        "data_to_model_final.to_pickle(\"../Datasets/food_review_places.pickle\")"
      ],
      "execution_count": 44,
      "outputs": []
    },
    {
      "cell_type": "code",
      "metadata": {
        "id": "_bZYFzS5tz-b"
      },
      "source": [
        ""
      ],
      "execution_count": null,
      "outputs": []
    }
  ]
}