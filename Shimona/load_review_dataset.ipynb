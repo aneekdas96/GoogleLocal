{
 "cells": [
  {
   "cell_type": "code",
   "execution_count": 7,
   "metadata": {},
   "outputs": [],
   "source": [
    "import json\n",
    "import pandas as pd \n",
    "import numpy as np \n",
    "import re\n",
    "import yaml\n",
    "import ast\n",
    "import shutil\n",
    "import gzip"
   ]
  },
  {
   "cell_type": "code",
   "execution_count": 10,
   "metadata": {},
   "outputs": [
    {
     "output_type": "stream",
     "name": "stdout",
     "text": [
      "Extracting reviews data:...\n",
      "Extracting places data:...\n",
      "Extracting users data:...\n"
     ]
    }
   ],
   "source": [
    "if not os.path.exists(\"../Datasets/reviews.json\"):\n",
    "    print(\"Extracting reviews data:...\")\n",
    "    with gzip.open('reviews.clean.json.gz', 'rb') as f_in:\n",
    "        with open('../Datasets/reviews.json', 'wb') as f_out:\n",
    "            shutil.copyfileobj(f_in, f_out)\n",
    "\n",
    "if not os.path.exists(\"../Datasets/places.json\"):\n",
    "    print(\"Extracting places data:...\")\n",
    "    with gzip.open('places.clean.json.gz', 'rb') as f_in:\n",
    "        with open('../Datasets/places.json', 'wb') as f_out:\n",
    "            shutil.copyfileobj(f_in, f_out)\n",
    "\n",
    "if not os.path.exists(\"../Datasets/users.json\"):\n",
    "    print(\"Extracting users data:...\")\n",
    "    with gzip.open('users.clean.json.gz', 'rb') as f_in:\n",
    "        with open('../Datasets/users.json', 'wb') as f_out:\n",
    "            shutil.copyfileobj(f_in, f_out)"
   ]
  },
  {
   "source": [
    "## Places Dataset"
   ],
   "cell_type": "markdown",
   "metadata": {}
  },
  {
   "cell_type": "code",
   "execution_count": 37,
   "metadata": {},
   "outputs": [],
   "source": [
    "data_places = []\n",
    "with gzip.open('places.clean.json.gz') as f:\n",
    "    for l in f:\n",
    "        data_places.append(eval(l))"
   ]
  },
  {
   "cell_type": "code",
   "execution_count": 39,
   "metadata": {},
   "outputs": [],
   "source": [
    "places = pd.DataFrame(data_places)"
   ]
  },
  {
   "cell_type": "code",
   "execution_count": 40,
   "metadata": {},
   "outputs": [
    {
     "output_type": "execute_result",
     "data": {
      "text/plain": [
       "                                               name price  \\\n",
       "0                        Diamond Valley Lake Marina  None   \n",
       "1                              Blue Ribbon Cleaners  None   \n",
       "2                                         Portofino  None   \n",
       "3                          T C's Referee Sports Bar    $$   \n",
       "4                      Carrefour - Palembang Square  None   \n",
       "5                                  Pizzeria Montana  None   \n",
       "6                                   Single Tree Inn  None   \n",
       "7  Sekolah Menengah Kebangsaan Tun Abang Haji Openg  None   \n",
       "8                                             天山湯治郷  None   \n",
       "9                                       Old Chicago    $$   \n",
       "\n",
       "                                             address  \\\n",
       "0                 [2615 Angler Ave, Hemet, CA 92545]   \n",
       "1                            [Parole, Annapolis, MD]   \n",
       "2  [ул. Тутаева, 1, Nazran, Ingushetia, Russia, 3...   \n",
       "3            [5322 W 26th St, Sioux Falls, SD 57106]   \n",
       "4  [Jl. Angkatan 45, Kompleks Palembang Square, S...   \n",
       "5  [Stuttgarter Straße 44, 75378 Bad Liebenzell, ...   \n",
       "6           [2033 W Oklahoma Ave, Ulysses, KS 67880]   \n",
       "7  [Jalan Demak, Petra Jaya, Kuching, Sarawak, Ma...   \n",
       "8  [208 Yumotochaya, Hakone, Ashigarashimo Distri...   \n",
       "9     [17960 NW Evergreen Pkwy, Beaverton, OR 97006]   \n",
       "\n",
       "                                               hours              phone  \\\n",
       "0  [[Monday, [['6:30 am--4:15 pm']]], [Tuesday, [...     (951) 926-7201   \n",
       "1                                               None     (410) 266-6123   \n",
       "2  [[Monday, [['9:30 am--9:00 pm']]], [Tuesday, [...  8 (963) 173-38-38   \n",
       "3  [[Monday, [['11:00 am--10:00 pm']]], [Tuesday,...     (605) 361-2208   \n",
       "4  [[Monday, [['8:00 am--9:00 pm']]], [Tuesday, [...      (0711) 359918   \n",
       "5                                               None       07052 933486   \n",
       "6                                               None     (620) 356-1500   \n",
       "7                                               None               None   \n",
       "8                                               None       0460-86-4126   \n",
       "9  [[Monday, [['11:00 am--1:00 am']]], [Tuesday, ...     (503) 533-4650   \n",
       "\n",
       "   closed           gPlusPlaceId                       gps  \n",
       "0   False  104699454385822125632  [33.703804, -117.003209]  \n",
       "1   False  103054478949000078829   [38.979759, -76.547538]  \n",
       "2   False  109810290098030327104     [43.22776, 44.762726]  \n",
       "3   False  100327153115986850675   [43.529494, -96.792244]  \n",
       "4   False  103368487323937936043   [-2.976256, 104.742662]  \n",
       "5   False  103903929544828620241      [48.767817, 8.75612]  \n",
       "6   False  103848836623683146185  [37.576427, -101.386182]  \n",
       "7   False  114537653478141145113    [1.572255, 110.362958]  \n",
       "8   False  100062881646354125752   [35.224978, 139.088382]  \n",
       "9   False  118222137795476771294  [45.535176, -122.862242]  "
      ],
      "text/html": "<div>\n<style scoped>\n    .dataframe tbody tr th:only-of-type {\n        vertical-align: middle;\n    }\n\n    .dataframe tbody tr th {\n        vertical-align: top;\n    }\n\n    .dataframe thead th {\n        text-align: right;\n    }\n</style>\n<table border=\"1\" class=\"dataframe\">\n  <thead>\n    <tr style=\"text-align: right;\">\n      <th></th>\n      <th>name</th>\n      <th>price</th>\n      <th>address</th>\n      <th>hours</th>\n      <th>phone</th>\n      <th>closed</th>\n      <th>gPlusPlaceId</th>\n      <th>gps</th>\n    </tr>\n  </thead>\n  <tbody>\n    <tr>\n      <th>0</th>\n      <td>Diamond Valley Lake Marina</td>\n      <td>None</td>\n      <td>[2615 Angler Ave, Hemet, CA 92545]</td>\n      <td>[[Monday, [['6:30 am--4:15 pm']]], [Tuesday, [...</td>\n      <td>(951) 926-7201</td>\n      <td>False</td>\n      <td>104699454385822125632</td>\n      <td>[33.703804, -117.003209]</td>\n    </tr>\n    <tr>\n      <th>1</th>\n      <td>Blue Ribbon Cleaners</td>\n      <td>None</td>\n      <td>[Parole, Annapolis, MD]</td>\n      <td>None</td>\n      <td>(410) 266-6123</td>\n      <td>False</td>\n      <td>103054478949000078829</td>\n      <td>[38.979759, -76.547538]</td>\n    </tr>\n    <tr>\n      <th>2</th>\n      <td>Portofino</td>\n      <td>None</td>\n      <td>[ул. Тутаева, 1, Nazran, Ingushetia, Russia, 3...</td>\n      <td>[[Monday, [['9:30 am--9:00 pm']]], [Tuesday, [...</td>\n      <td>8 (963) 173-38-38</td>\n      <td>False</td>\n      <td>109810290098030327104</td>\n      <td>[43.22776, 44.762726]</td>\n    </tr>\n    <tr>\n      <th>3</th>\n      <td>T C's Referee Sports Bar</td>\n      <td>$$</td>\n      <td>[5322 W 26th St, Sioux Falls, SD 57106]</td>\n      <td>[[Monday, [['11:00 am--10:00 pm']]], [Tuesday,...</td>\n      <td>(605) 361-2208</td>\n      <td>False</td>\n      <td>100327153115986850675</td>\n      <td>[43.529494, -96.792244]</td>\n    </tr>\n    <tr>\n      <th>4</th>\n      <td>Carrefour - Palembang Square</td>\n      <td>None</td>\n      <td>[Jl. Angkatan 45, Kompleks Palembang Square, S...</td>\n      <td>[[Monday, [['8:00 am--9:00 pm']]], [Tuesday, [...</td>\n      <td>(0711) 359918</td>\n      <td>False</td>\n      <td>103368487323937936043</td>\n      <td>[-2.976256, 104.742662]</td>\n    </tr>\n    <tr>\n      <th>5</th>\n      <td>Pizzeria Montana</td>\n      <td>None</td>\n      <td>[Stuttgarter Straße 44, 75378 Bad Liebenzell, ...</td>\n      <td>None</td>\n      <td>07052 933486</td>\n      <td>False</td>\n      <td>103903929544828620241</td>\n      <td>[48.767817, 8.75612]</td>\n    </tr>\n    <tr>\n      <th>6</th>\n      <td>Single Tree Inn</td>\n      <td>None</td>\n      <td>[2033 W Oklahoma Ave, Ulysses, KS 67880]</td>\n      <td>None</td>\n      <td>(620) 356-1500</td>\n      <td>False</td>\n      <td>103848836623683146185</td>\n      <td>[37.576427, -101.386182]</td>\n    </tr>\n    <tr>\n      <th>7</th>\n      <td>Sekolah Menengah Kebangsaan Tun Abang Haji Openg</td>\n      <td>None</td>\n      <td>[Jalan Demak, Petra Jaya, Kuching, Sarawak, Ma...</td>\n      <td>None</td>\n      <td>None</td>\n      <td>False</td>\n      <td>114537653478141145113</td>\n      <td>[1.572255, 110.362958]</td>\n    </tr>\n    <tr>\n      <th>8</th>\n      <td>天山湯治郷</td>\n      <td>None</td>\n      <td>[208 Yumotochaya, Hakone, Ashigarashimo Distri...</td>\n      <td>None</td>\n      <td>0460-86-4126</td>\n      <td>False</td>\n      <td>100062881646354125752</td>\n      <td>[35.224978, 139.088382]</td>\n    </tr>\n    <tr>\n      <th>9</th>\n      <td>Old Chicago</td>\n      <td>$$</td>\n      <td>[17960 NW Evergreen Pkwy, Beaverton, OR 97006]</td>\n      <td>[[Monday, [['11:00 am--1:00 am']]], [Tuesday, ...</td>\n      <td>(503) 533-4650</td>\n      <td>False</td>\n      <td>118222137795476771294</td>\n      <td>[45.535176, -122.862242]</td>\n    </tr>\n  </tbody>\n</table>\n</div>"
     },
     "metadata": {},
     "execution_count": 40
    }
   ],
   "source": [
    "places.head(10)"
   ]
  },
  {
   "cell_type": "code",
   "execution_count": 41,
   "metadata": {},
   "outputs": [
    {
     "output_type": "execute_result",
     "data": {
      "text/plain": [
       "(3114353, 8)"
      ]
     },
     "metadata": {},
     "execution_count": 41
    }
   ],
   "source": [
    "places.shape"
   ]
  },
  {
   "cell_type": "code",
   "execution_count": 44,
   "metadata": {},
   "outputs": [],
   "source": [
    "places['address'] = places['address'].apply(lambda x: \" \".join(x))"
   ]
  },
  {
   "cell_type": "code",
   "execution_count": 57,
   "metadata": {},
   "outputs": [],
   "source": [
    "places['City'] = places['address'].apply(lambda x: \"Toronto\" if x.find(\"Toronto\") != -1 else 0)"
   ]
  },
  {
   "cell_type": "code",
   "execution_count": 58,
   "metadata": {},
   "outputs": [],
   "source": [
    "toronto = places[places['City'] == 'Toronto']"
   ]
  },
  {
   "cell_type": "code",
   "execution_count": 59,
   "metadata": {},
   "outputs": [
    {
     "output_type": "execute_result",
     "data": {
      "text/plain": [
       "(8830, 9)"
      ]
     },
     "metadata": {},
     "execution_count": 59
    }
   ],
   "source": [
    "toronto.shape"
   ]
  },
  {
   "cell_type": "code",
   "execution_count": 60,
   "metadata": {},
   "outputs": [
    {
     "output_type": "execute_result",
     "data": {
      "text/plain": [
       "325        170 Eglinton Ave E Toronto, ON M4P 1A6 Canada\n",
       "626           900 Dufferin St Toronto, ON M6H 4A9 Canada\n",
       "758             155 Bonis Ave Toronto, ON M1T 3W6 Canada\n",
       "800               1075 Bay St Toronto, ON M5S 2B1 Canada\n",
       "830           1300 Queen St E Toronto, ON M4L 1C4 Canada\n",
       "                               ...                      \n",
       "3112192      2448 Kingston Rd Toronto, ON M1N 1V3 Canada\n",
       "3112655           1976 Queen St E Toronto, ON M4L Canada\n",
       "3113179         5600 Yonge St Toronto, ON M2N 7L3 Canada\n",
       "3113677    3400 Steeles Ave W Toronto, ON L4K 1A2 Canada\n",
       "3113793         5255 Yonge St Toronto, ON M2N 6P4 Canada\n",
       "Name: address, Length: 8830, dtype: object"
      ]
     },
     "metadata": {},
     "execution_count": 60
    }
   ],
   "source": [
    "toronto['address']"
   ]
  },
  {
   "source": [
    "**To do:** since Toronto is at the same location address field, we can have a better function instead of checking substrings"
   ],
   "cell_type": "markdown",
   "metadata": {}
  },
  {
   "source": [
    "8830 places in Toronto"
   ],
   "cell_type": "markdown",
   "metadata": {}
  },
  {
   "source": [
    "## Users"
   ],
   "cell_type": "markdown",
   "metadata": {}
  },
  {
   "cell_type": "code",
   "execution_count": 61,
   "metadata": {},
   "outputs": [],
   "source": [
    "data_users = []\n",
    "with gzip.open('users.clean.json.gz') as f:\n",
    "    for l in f:\n",
    "        data_users.append(eval(l))"
   ]
  },
  {
   "cell_type": "code",
   "execution_count": 62,
   "metadata": {},
   "outputs": [],
   "source": [
    "users = pd.DataFrame(data_users)"
   ]
  },
  {
   "source": [
    "## Reviews"
   ],
   "cell_type": "markdown",
   "metadata": {}
  },
  {
   "cell_type": "code",
   "execution_count": 63,
   "metadata": {},
   "outputs": [],
   "source": [
    "data_reviews = []\n",
    "with gzip.open('reviews.clean.json.gz') as f:\n",
    "    for l in f:\n",
    "        data_reviews.append(eval(l))"
   ]
  },
  {
   "cell_type": "code",
   "execution_count": 64,
   "metadata": {},
   "outputs": [],
   "source": [
    "reviews = pd.DataFrame(data_reviews)"
   ]
  },
  {
   "cell_type": "code",
   "execution_count": 67,
   "metadata": {},
   "outputs": [
    {
     "output_type": "execute_result",
     "data": {
      "text/plain": [
       "(41061, 16)"
      ]
     },
     "metadata": {},
     "execution_count": 67
    }
   ],
   "source": [
    "#data to work on\n",
    "data = pd.merge(reviews,toronto,on = 'gPlusPlaceId',how = 'inner')\n",
    "data.shape"
   ]
  },
  {
   "cell_type": "code",
   "execution_count": 81,
   "metadata": {},
   "outputs": [
    {
     "output_type": "execute_result",
     "data": {
      "text/plain": [
       "    rating       reviewerName  \\\n",
       "0      1.0     Vineet Udeshie   \n",
       "1      4.0       Cathy Miller   \n",
       "2      4.0       Deepak Anand   \n",
       "3      5.0       Stephen Carr   \n",
       "4      5.0          Sev Dergo   \n",
       "5      3.0          ramy rutu   \n",
       "6      5.0         Joe Corson   \n",
       "7      4.0      Andres Valera   \n",
       "8      4.0   Matt Keoshkerian   \n",
       "9      4.0         Afan Ahmed   \n",
       "10     4.0              Ben M   \n",
       "11     4.0  Nickey Rautenberg   \n",
       "12     1.0    Pierre Bertrand   \n",
       "13     3.0     Peter Randazzo   \n",
       "14     5.0      Chrystian Guy   \n",
       "15     4.0     Vineet Udeshie   \n",
       "16     5.0     Vineet Udeshie   \n",
       "17     4.0        Joe LaPenna   \n",
       "18     4.0     Garth McKinley   \n",
       "19     5.0         mike dynie   \n",
       "\n",
       "                                           reviewText            categories  \\\n",
       "0   Over rated. Nothing really great about the foo...  [Mexican Restaurant]   \n",
       "1   I'm not a big fan of Mexican foods but after a...  [Mexican Restaurant]   \n",
       "2   More  authentic Mexican than tex mex. Mole was...  [Mexican Restaurant]   \n",
       "3   Delicioso! All the food was great, from guacam...  [Mexican Restaurant]   \n",
       "4   This is our go to place for Mexican. Service i...  [Mexican Restaurant]   \n",
       "5                                         Just good .  [Mexican Restaurant]   \n",
       "6   I was on my way to one of the fine Italian res...  [Mexican Restaurant]   \n",
       "7   One of the best mexican restaurants in the cit...  [Mexican Restaurant]   \n",
       "8   Decent Mexican food this far north. A bit on t...  [Mexican Restaurant]   \n",
       "9                                                None  [Mexican Restaurant]   \n",
       "10  i've now checked out both the milagro downtown...  [Mexican Restaurant]   \n",
       "11  I thought it was AMAZING. I am really surprise...  [Mexican Restaurant]   \n",
       "12  Worst service I have ever seen, anywhere..  Sh...  [Mexican Restaurant]   \n",
       "13                                               None  [Mexican Restaurant]   \n",
       "14              Felt like in Mexico. Perfect. Simple.  [Mexican Restaurant]   \n",
       "15  Great new fresh vegetable fruits and flower st...                  None   \n",
       "16                                               None          [Cafe, Deli]   \n",
       "17                                               None          [Cafe, Deli]   \n",
       "18                                               None          [Cafe, Deli]   \n",
       "19                                               None          [Cafe, Deli]   \n",
       "\n",
       "             gPlusPlaceId  unixReviewTime    reviewTime  \\\n",
       "0   106946454276117525029    1.311991e+09  Jul 29, 2011   \n",
       "1   106946454276117525029    1.357108e+09   Jan 1, 2013   \n",
       "2   106946454276117525029    1.387464e+09  Dec 19, 2013   \n",
       "3   106946454276117525029    1.335926e+09   May 1, 2012   \n",
       "4   106946454276117525029    1.385016e+09  Nov 20, 2013   \n",
       "5   106946454276117525029    1.352068e+09   Nov 4, 2012   \n",
       "6   106946454276117525029    1.354237e+09  Nov 29, 2012   \n",
       "7   106946454276117525029    1.377190e+09  Aug 22, 2013   \n",
       "8   106946454276117525029    1.318532e+09  Oct 13, 2011   \n",
       "9   106946454276117525029    1.373664e+09  Jul 12, 2013   \n",
       "10  106946454276117525029    1.245110e+09  Jun 15, 2009   \n",
       "11  106946454276117525029    1.321022e+09  Nov 11, 2011   \n",
       "12  106946454276117525029    1.377629e+09  Aug 27, 2013   \n",
       "13  106946454276117525029    1.388531e+09  Dec 31, 2013   \n",
       "14  106946454276117525029    1.326861e+09  Jan 17, 2012   \n",
       "15  108256861016244333684    1.355084e+09   Dec 9, 2012   \n",
       "16  111880308777156217215    1.311543e+09  Jul 24, 2011   \n",
       "17  111880308777156217215    1.292182e+09  Dec 12, 2010   \n",
       "18  111880308777156217215    1.381246e+09   Oct 8, 2013   \n",
       "19  111880308777156217215    1.364132e+09  Mar 24, 2013   \n",
       "\n",
       "              gPlusUserId                     name price  \\\n",
       "0   100003208349643701055                  Milagro     $   \n",
       "1   100496020815170943066                  Milagro     $   \n",
       "2   102126042240566466117                  Milagro     $   \n",
       "3   103781603078729274814                  Milagro     $   \n",
       "4   104190882158899538024                  Milagro     $   \n",
       "5   105136765670976622636                  Milagro     $   \n",
       "6   105525052822215095905                  Milagro     $   \n",
       "7   107661149558132736473                  Milagro     $   \n",
       "8   108012991939099820186                  Milagro     $   \n",
       "9   109551735352504400822                  Milagro     $   \n",
       "10  110546537322903497561                  Milagro     $   \n",
       "11  110684767988084641131                  Milagro     $   \n",
       "12  113975325911796746097                  Milagro     $   \n",
       "13  114886698376900537667                  Milagro     $   \n",
       "14  116668069348787641070                  Milagro     $   \n",
       "15  100003208349643701055              Sol Produce  None   \n",
       "16  100003208349643701055  Moonbean Coffee Company  None   \n",
       "17  100961288997176421259  Moonbean Coffee Company  None   \n",
       "18  101177778972135120487  Moonbean Coffee Company  None   \n",
       "19  103023510370412405837  Moonbean Coffee Company  None   \n",
       "\n",
       "                                       address  \\\n",
       "0       5 Mercer St Toronto, ON M5V 1H2 Canada   \n",
       "1       5 Mercer St Toronto, ON M5V 1H2 Canada   \n",
       "2       5 Mercer St Toronto, ON M5V 1H2 Canada   \n",
       "3       5 Mercer St Toronto, ON M5V 1H2 Canada   \n",
       "4       5 Mercer St Toronto, ON M5V 1H2 Canada   \n",
       "5       5 Mercer St Toronto, ON M5V 1H2 Canada   \n",
       "6       5 Mercer St Toronto, ON M5V 1H2 Canada   \n",
       "7       5 Mercer St Toronto, ON M5V 1H2 Canada   \n",
       "8       5 Mercer St Toronto, ON M5V 1H2 Canada   \n",
       "9       5 Mercer St Toronto, ON M5V 1H2 Canada   \n",
       "10      5 Mercer St Toronto, ON M5V 1H2 Canada   \n",
       "11      5 Mercer St Toronto, ON M5V 1H2 Canada   \n",
       "12      5 Mercer St Toronto, ON M5V 1H2 Canada   \n",
       "13      5 Mercer St Toronto, ON M5V 1H2 Canada   \n",
       "14      5 Mercer St Toronto, ON M5V 1H2 Canada   \n",
       "15   1220 King St W Toronto, ON M6K 1G4 Canada   \n",
       "16  30 St Andrew St Toronto, ON M5T 2K2 Canada   \n",
       "17  30 St Andrew St Toronto, ON M5T 2K2 Canada   \n",
       "18  30 St Andrew St Toronto, ON M5T 2K2 Canada   \n",
       "19  30 St Andrew St Toronto, ON M5T 2K2 Canada   \n",
       "\n",
       "                                                hours           phone  closed  \\\n",
       "0   [[Monday, [['11:30 am--10:00 pm']]], [Tuesday,...  (416) 850-2855   False   \n",
       "1   [[Monday, [['11:30 am--10:00 pm']]], [Tuesday,...  (416) 850-2855   False   \n",
       "2   [[Monday, [['11:30 am--10:00 pm']]], [Tuesday,...  (416) 850-2855   False   \n",
       "3   [[Monday, [['11:30 am--10:00 pm']]], [Tuesday,...  (416) 850-2855   False   \n",
       "4   [[Monday, [['11:30 am--10:00 pm']]], [Tuesday,...  (416) 850-2855   False   \n",
       "5   [[Monday, [['11:30 am--10:00 pm']]], [Tuesday,...  (416) 850-2855   False   \n",
       "6   [[Monday, [['11:30 am--10:00 pm']]], [Tuesday,...  (416) 850-2855   False   \n",
       "7   [[Monday, [['11:30 am--10:00 pm']]], [Tuesday,...  (416) 850-2855   False   \n",
       "8   [[Monday, [['11:30 am--10:00 pm']]], [Tuesday,...  (416) 850-2855   False   \n",
       "9   [[Monday, [['11:30 am--10:00 pm']]], [Tuesday,...  (416) 850-2855   False   \n",
       "10  [[Monday, [['11:30 am--10:00 pm']]], [Tuesday,...  (416) 850-2855   False   \n",
       "11  [[Monday, [['11:30 am--10:00 pm']]], [Tuesday,...  (416) 850-2855   False   \n",
       "12  [[Monday, [['11:30 am--10:00 pm']]], [Tuesday,...  (416) 850-2855   False   \n",
       "13  [[Monday, [['11:30 am--10:00 pm']]], [Tuesday,...  (416) 850-2855   False   \n",
       "14  [[Monday, [['11:30 am--10:00 pm']]], [Tuesday,...  (416) 850-2855   False   \n",
       "15                                               None  (647) 748-2288   False   \n",
       "16  [[Monday, [['7:00 am--9:00 pm']], 1], [Tuesday...  (416) 595-0327   False   \n",
       "17  [[Monday, [['7:00 am--9:00 pm']], 1], [Tuesday...  (416) 595-0327   False   \n",
       "18  [[Monday, [['7:00 am--9:00 pm']], 1], [Tuesday...  (416) 595-0327   False   \n",
       "19  [[Monday, [['7:00 am--9:00 pm']], 1], [Tuesday...  (416) 595-0327   False   \n",
       "\n",
       "                        gps     City  \n",
       "0   [43.645848, -79.389668]  Toronto  \n",
       "1   [43.645848, -79.389668]  Toronto  \n",
       "2   [43.645848, -79.389668]  Toronto  \n",
       "3   [43.645848, -79.389668]  Toronto  \n",
       "4   [43.645848, -79.389668]  Toronto  \n",
       "5   [43.645848, -79.389668]  Toronto  \n",
       "6   [43.645848, -79.389668]  Toronto  \n",
       "7   [43.645848, -79.389668]  Toronto  \n",
       "8   [43.645848, -79.389668]  Toronto  \n",
       "9   [43.645848, -79.389668]  Toronto  \n",
       "10  [43.645848, -79.389668]  Toronto  \n",
       "11  [43.645848, -79.389668]  Toronto  \n",
       "12  [43.645848, -79.389668]  Toronto  \n",
       "13  [43.645848, -79.389668]  Toronto  \n",
       "14  [43.645848, -79.389668]  Toronto  \n",
       "15  [43.638858, -79.428143]  Toronto  \n",
       "16  [43.654176, -79.400175]  Toronto  \n",
       "17  [43.654176, -79.400175]  Toronto  \n",
       "18  [43.654176, -79.400175]  Toronto  \n",
       "19  [43.654176, -79.400175]  Toronto  "
      ],
      "text/html": "<div>\n<style scoped>\n    .dataframe tbody tr th:only-of-type {\n        vertical-align: middle;\n    }\n\n    .dataframe tbody tr th {\n        vertical-align: top;\n    }\n\n    .dataframe thead th {\n        text-align: right;\n    }\n</style>\n<table border=\"1\" class=\"dataframe\">\n  <thead>\n    <tr style=\"text-align: right;\">\n      <th></th>\n      <th>rating</th>\n      <th>reviewerName</th>\n      <th>reviewText</th>\n      <th>categories</th>\n      <th>gPlusPlaceId</th>\n      <th>unixReviewTime</th>\n      <th>reviewTime</th>\n      <th>gPlusUserId</th>\n      <th>name</th>\n      <th>price</th>\n      <th>address</th>\n      <th>hours</th>\n      <th>phone</th>\n      <th>closed</th>\n      <th>gps</th>\n      <th>City</th>\n    </tr>\n  </thead>\n  <tbody>\n    <tr>\n      <th>0</th>\n      <td>1.0</td>\n      <td>Vineet Udeshie</td>\n      <td>Over rated. Nothing really great about the foo...</td>\n      <td>[Mexican Restaurant]</td>\n      <td>106946454276117525029</td>\n      <td>1.311991e+09</td>\n      <td>Jul 29, 2011</td>\n      <td>100003208349643701055</td>\n      <td>Milagro</td>\n      <td>$</td>\n      <td>5 Mercer St Toronto, ON M5V 1H2 Canada</td>\n      <td>[[Monday, [['11:30 am--10:00 pm']]], [Tuesday,...</td>\n      <td>(416) 850-2855</td>\n      <td>False</td>\n      <td>[43.645848, -79.389668]</td>\n      <td>Toronto</td>\n    </tr>\n    <tr>\n      <th>1</th>\n      <td>4.0</td>\n      <td>Cathy Miller</td>\n      <td>I'm not a big fan of Mexican foods but after a...</td>\n      <td>[Mexican Restaurant]</td>\n      <td>106946454276117525029</td>\n      <td>1.357108e+09</td>\n      <td>Jan 1, 2013</td>\n      <td>100496020815170943066</td>\n      <td>Milagro</td>\n      <td>$</td>\n      <td>5 Mercer St Toronto, ON M5V 1H2 Canada</td>\n      <td>[[Monday, [['11:30 am--10:00 pm']]], [Tuesday,...</td>\n      <td>(416) 850-2855</td>\n      <td>False</td>\n      <td>[43.645848, -79.389668]</td>\n      <td>Toronto</td>\n    </tr>\n    <tr>\n      <th>2</th>\n      <td>4.0</td>\n      <td>Deepak Anand</td>\n      <td>More  authentic Mexican than tex mex. Mole was...</td>\n      <td>[Mexican Restaurant]</td>\n      <td>106946454276117525029</td>\n      <td>1.387464e+09</td>\n      <td>Dec 19, 2013</td>\n      <td>102126042240566466117</td>\n      <td>Milagro</td>\n      <td>$</td>\n      <td>5 Mercer St Toronto, ON M5V 1H2 Canada</td>\n      <td>[[Monday, [['11:30 am--10:00 pm']]], [Tuesday,...</td>\n      <td>(416) 850-2855</td>\n      <td>False</td>\n      <td>[43.645848, -79.389668]</td>\n      <td>Toronto</td>\n    </tr>\n    <tr>\n      <th>3</th>\n      <td>5.0</td>\n      <td>Stephen Carr</td>\n      <td>Delicioso! All the food was great, from guacam...</td>\n      <td>[Mexican Restaurant]</td>\n      <td>106946454276117525029</td>\n      <td>1.335926e+09</td>\n      <td>May 1, 2012</td>\n      <td>103781603078729274814</td>\n      <td>Milagro</td>\n      <td>$</td>\n      <td>5 Mercer St Toronto, ON M5V 1H2 Canada</td>\n      <td>[[Monday, [['11:30 am--10:00 pm']]], [Tuesday,...</td>\n      <td>(416) 850-2855</td>\n      <td>False</td>\n      <td>[43.645848, -79.389668]</td>\n      <td>Toronto</td>\n    </tr>\n    <tr>\n      <th>4</th>\n      <td>5.0</td>\n      <td>Sev Dergo</td>\n      <td>This is our go to place for Mexican. Service i...</td>\n      <td>[Mexican Restaurant]</td>\n      <td>106946454276117525029</td>\n      <td>1.385016e+09</td>\n      <td>Nov 20, 2013</td>\n      <td>104190882158899538024</td>\n      <td>Milagro</td>\n      <td>$</td>\n      <td>5 Mercer St Toronto, ON M5V 1H2 Canada</td>\n      <td>[[Monday, [['11:30 am--10:00 pm']]], [Tuesday,...</td>\n      <td>(416) 850-2855</td>\n      <td>False</td>\n      <td>[43.645848, -79.389668]</td>\n      <td>Toronto</td>\n    </tr>\n    <tr>\n      <th>5</th>\n      <td>3.0</td>\n      <td>ramy rutu</td>\n      <td>Just good .</td>\n      <td>[Mexican Restaurant]</td>\n      <td>106946454276117525029</td>\n      <td>1.352068e+09</td>\n      <td>Nov 4, 2012</td>\n      <td>105136765670976622636</td>\n      <td>Milagro</td>\n      <td>$</td>\n      <td>5 Mercer St Toronto, ON M5V 1H2 Canada</td>\n      <td>[[Monday, [['11:30 am--10:00 pm']]], [Tuesday,...</td>\n      <td>(416) 850-2855</td>\n      <td>False</td>\n      <td>[43.645848, -79.389668]</td>\n      <td>Toronto</td>\n    </tr>\n    <tr>\n      <th>6</th>\n      <td>5.0</td>\n      <td>Joe Corson</td>\n      <td>I was on my way to one of the fine Italian res...</td>\n      <td>[Mexican Restaurant]</td>\n      <td>106946454276117525029</td>\n      <td>1.354237e+09</td>\n      <td>Nov 29, 2012</td>\n      <td>105525052822215095905</td>\n      <td>Milagro</td>\n      <td>$</td>\n      <td>5 Mercer St Toronto, ON M5V 1H2 Canada</td>\n      <td>[[Monday, [['11:30 am--10:00 pm']]], [Tuesday,...</td>\n      <td>(416) 850-2855</td>\n      <td>False</td>\n      <td>[43.645848, -79.389668]</td>\n      <td>Toronto</td>\n    </tr>\n    <tr>\n      <th>7</th>\n      <td>4.0</td>\n      <td>Andres Valera</td>\n      <td>One of the best mexican restaurants in the cit...</td>\n      <td>[Mexican Restaurant]</td>\n      <td>106946454276117525029</td>\n      <td>1.377190e+09</td>\n      <td>Aug 22, 2013</td>\n      <td>107661149558132736473</td>\n      <td>Milagro</td>\n      <td>$</td>\n      <td>5 Mercer St Toronto, ON M5V 1H2 Canada</td>\n      <td>[[Monday, [['11:30 am--10:00 pm']]], [Tuesday,...</td>\n      <td>(416) 850-2855</td>\n      <td>False</td>\n      <td>[43.645848, -79.389668]</td>\n      <td>Toronto</td>\n    </tr>\n    <tr>\n      <th>8</th>\n      <td>4.0</td>\n      <td>Matt Keoshkerian</td>\n      <td>Decent Mexican food this far north. A bit on t...</td>\n      <td>[Mexican Restaurant]</td>\n      <td>106946454276117525029</td>\n      <td>1.318532e+09</td>\n      <td>Oct 13, 2011</td>\n      <td>108012991939099820186</td>\n      <td>Milagro</td>\n      <td>$</td>\n      <td>5 Mercer St Toronto, ON M5V 1H2 Canada</td>\n      <td>[[Monday, [['11:30 am--10:00 pm']]], [Tuesday,...</td>\n      <td>(416) 850-2855</td>\n      <td>False</td>\n      <td>[43.645848, -79.389668]</td>\n      <td>Toronto</td>\n    </tr>\n    <tr>\n      <th>9</th>\n      <td>4.0</td>\n      <td>Afan Ahmed</td>\n      <td>None</td>\n      <td>[Mexican Restaurant]</td>\n      <td>106946454276117525029</td>\n      <td>1.373664e+09</td>\n      <td>Jul 12, 2013</td>\n      <td>109551735352504400822</td>\n      <td>Milagro</td>\n      <td>$</td>\n      <td>5 Mercer St Toronto, ON M5V 1H2 Canada</td>\n      <td>[[Monday, [['11:30 am--10:00 pm']]], [Tuesday,...</td>\n      <td>(416) 850-2855</td>\n      <td>False</td>\n      <td>[43.645848, -79.389668]</td>\n      <td>Toronto</td>\n    </tr>\n    <tr>\n      <th>10</th>\n      <td>4.0</td>\n      <td>Ben M</td>\n      <td>i've now checked out both the milagro downtown...</td>\n      <td>[Mexican Restaurant]</td>\n      <td>106946454276117525029</td>\n      <td>1.245110e+09</td>\n      <td>Jun 15, 2009</td>\n      <td>110546537322903497561</td>\n      <td>Milagro</td>\n      <td>$</td>\n      <td>5 Mercer St Toronto, ON M5V 1H2 Canada</td>\n      <td>[[Monday, [['11:30 am--10:00 pm']]], [Tuesday,...</td>\n      <td>(416) 850-2855</td>\n      <td>False</td>\n      <td>[43.645848, -79.389668]</td>\n      <td>Toronto</td>\n    </tr>\n    <tr>\n      <th>11</th>\n      <td>4.0</td>\n      <td>Nickey Rautenberg</td>\n      <td>I thought it was AMAZING. I am really surprise...</td>\n      <td>[Mexican Restaurant]</td>\n      <td>106946454276117525029</td>\n      <td>1.321022e+09</td>\n      <td>Nov 11, 2011</td>\n      <td>110684767988084641131</td>\n      <td>Milagro</td>\n      <td>$</td>\n      <td>5 Mercer St Toronto, ON M5V 1H2 Canada</td>\n      <td>[[Monday, [['11:30 am--10:00 pm']]], [Tuesday,...</td>\n      <td>(416) 850-2855</td>\n      <td>False</td>\n      <td>[43.645848, -79.389668]</td>\n      <td>Toronto</td>\n    </tr>\n    <tr>\n      <th>12</th>\n      <td>1.0</td>\n      <td>Pierre Bertrand</td>\n      <td>Worst service I have ever seen, anywhere..  Sh...</td>\n      <td>[Mexican Restaurant]</td>\n      <td>106946454276117525029</td>\n      <td>1.377629e+09</td>\n      <td>Aug 27, 2013</td>\n      <td>113975325911796746097</td>\n      <td>Milagro</td>\n      <td>$</td>\n      <td>5 Mercer St Toronto, ON M5V 1H2 Canada</td>\n      <td>[[Monday, [['11:30 am--10:00 pm']]], [Tuesday,...</td>\n      <td>(416) 850-2855</td>\n      <td>False</td>\n      <td>[43.645848, -79.389668]</td>\n      <td>Toronto</td>\n    </tr>\n    <tr>\n      <th>13</th>\n      <td>3.0</td>\n      <td>Peter Randazzo</td>\n      <td>None</td>\n      <td>[Mexican Restaurant]</td>\n      <td>106946454276117525029</td>\n      <td>1.388531e+09</td>\n      <td>Dec 31, 2013</td>\n      <td>114886698376900537667</td>\n      <td>Milagro</td>\n      <td>$</td>\n      <td>5 Mercer St Toronto, ON M5V 1H2 Canada</td>\n      <td>[[Monday, [['11:30 am--10:00 pm']]], [Tuesday,...</td>\n      <td>(416) 850-2855</td>\n      <td>False</td>\n      <td>[43.645848, -79.389668]</td>\n      <td>Toronto</td>\n    </tr>\n    <tr>\n      <th>14</th>\n      <td>5.0</td>\n      <td>Chrystian Guy</td>\n      <td>Felt like in Mexico. Perfect. Simple.</td>\n      <td>[Mexican Restaurant]</td>\n      <td>106946454276117525029</td>\n      <td>1.326861e+09</td>\n      <td>Jan 17, 2012</td>\n      <td>116668069348787641070</td>\n      <td>Milagro</td>\n      <td>$</td>\n      <td>5 Mercer St Toronto, ON M5V 1H2 Canada</td>\n      <td>[[Monday, [['11:30 am--10:00 pm']]], [Tuesday,...</td>\n      <td>(416) 850-2855</td>\n      <td>False</td>\n      <td>[43.645848, -79.389668]</td>\n      <td>Toronto</td>\n    </tr>\n    <tr>\n      <th>15</th>\n      <td>4.0</td>\n      <td>Vineet Udeshie</td>\n      <td>Great new fresh vegetable fruits and flower st...</td>\n      <td>None</td>\n      <td>108256861016244333684</td>\n      <td>1.355084e+09</td>\n      <td>Dec 9, 2012</td>\n      <td>100003208349643701055</td>\n      <td>Sol Produce</td>\n      <td>None</td>\n      <td>1220 King St W Toronto, ON M6K 1G4 Canada</td>\n      <td>None</td>\n      <td>(647) 748-2288</td>\n      <td>False</td>\n      <td>[43.638858, -79.428143]</td>\n      <td>Toronto</td>\n    </tr>\n    <tr>\n      <th>16</th>\n      <td>5.0</td>\n      <td>Vineet Udeshie</td>\n      <td>None</td>\n      <td>[Cafe, Deli]</td>\n      <td>111880308777156217215</td>\n      <td>1.311543e+09</td>\n      <td>Jul 24, 2011</td>\n      <td>100003208349643701055</td>\n      <td>Moonbean Coffee Company</td>\n      <td>None</td>\n      <td>30 St Andrew St Toronto, ON M5T 2K2 Canada</td>\n      <td>[[Monday, [['7:00 am--9:00 pm']], 1], [Tuesday...</td>\n      <td>(416) 595-0327</td>\n      <td>False</td>\n      <td>[43.654176, -79.400175]</td>\n      <td>Toronto</td>\n    </tr>\n    <tr>\n      <th>17</th>\n      <td>4.0</td>\n      <td>Joe LaPenna</td>\n      <td>None</td>\n      <td>[Cafe, Deli]</td>\n      <td>111880308777156217215</td>\n      <td>1.292182e+09</td>\n      <td>Dec 12, 2010</td>\n      <td>100961288997176421259</td>\n      <td>Moonbean Coffee Company</td>\n      <td>None</td>\n      <td>30 St Andrew St Toronto, ON M5T 2K2 Canada</td>\n      <td>[[Monday, [['7:00 am--9:00 pm']], 1], [Tuesday...</td>\n      <td>(416) 595-0327</td>\n      <td>False</td>\n      <td>[43.654176, -79.400175]</td>\n      <td>Toronto</td>\n    </tr>\n    <tr>\n      <th>18</th>\n      <td>4.0</td>\n      <td>Garth McKinley</td>\n      <td>None</td>\n      <td>[Cafe, Deli]</td>\n      <td>111880308777156217215</td>\n      <td>1.381246e+09</td>\n      <td>Oct 8, 2013</td>\n      <td>101177778972135120487</td>\n      <td>Moonbean Coffee Company</td>\n      <td>None</td>\n      <td>30 St Andrew St Toronto, ON M5T 2K2 Canada</td>\n      <td>[[Monday, [['7:00 am--9:00 pm']], 1], [Tuesday...</td>\n      <td>(416) 595-0327</td>\n      <td>False</td>\n      <td>[43.654176, -79.400175]</td>\n      <td>Toronto</td>\n    </tr>\n    <tr>\n      <th>19</th>\n      <td>5.0</td>\n      <td>mike dynie</td>\n      <td>None</td>\n      <td>[Cafe, Deli]</td>\n      <td>111880308777156217215</td>\n      <td>1.364132e+09</td>\n      <td>Mar 24, 2013</td>\n      <td>103023510370412405837</td>\n      <td>Moonbean Coffee Company</td>\n      <td>None</td>\n      <td>30 St Andrew St Toronto, ON M5T 2K2 Canada</td>\n      <td>[[Monday, [['7:00 am--9:00 pm']], 1], [Tuesday...</td>\n      <td>(416) 595-0327</td>\n      <td>False</td>\n      <td>[43.654176, -79.400175]</td>\n      <td>Toronto</td>\n    </tr>\n  </tbody>\n</table>\n</div>"
     },
     "metadata": {},
     "execution_count": 81
    }
   ],
   "source": [
    "data.head(20)"
   ]
  },
  {
   "cell_type": "code",
   "execution_count": 82,
   "metadata": {},
   "outputs": [
    {
     "output_type": "execute_result",
     "data": {
      "text/plain": [
       "3439"
      ]
     },
     "metadata": {},
     "execution_count": 82
    }
   ],
   "source": [
    "data['categories'].isnull().sum()"
   ]
  },
  {
   "cell_type": "code",
   "execution_count": 83,
   "metadata": {},
   "outputs": [],
   "source": [
    "category = set()\n",
    "for list in data['categories']:\n",
    "    if list != None:\n",
    "        category.update(list)"
   ]
  },
  {
   "cell_type": "code",
   "execution_count": 85,
   "metadata": {},
   "outputs": [
    {
     "output_type": "stream",
     "name": "stdout",
     "text": [
      "number of categories in only toronto: 1352\n"
     ]
    }
   ],
   "source": [
    "print(\"number of categories in only toronto:\",len(category))"
   ]
  },
  {
   "cell_type": "code",
   "execution_count": null,
   "metadata": {},
   "outputs": [],
   "source": []
  },
  {
   "cell_type": "code",
   "execution_count": null,
   "metadata": {},
   "outputs": [],
   "source": []
  },
  {
   "cell_type": "code",
   "execution_count": null,
   "metadata": {},
   "outputs": [],
   "source": []
  },
  {
   "cell_type": "code",
   "execution_count": 20,
   "metadata": {},
   "outputs": [
    {
     "output_type": "error",
     "ename": "TypeError",
     "evalue": "object of type '_io.TextIOWrapper' has no len()",
     "traceback": [
      "\u001b[1;31m---------------------------------------------------------------------------\u001b[0m",
      "\u001b[1;31mTypeError\u001b[0m                                 Traceback (most recent call last)",
      "\u001b[1;32m<ipython-input-20-9b808cb9ff0a>\u001b[0m in \u001b[0;36m<module>\u001b[1;34m\u001b[0m\n\u001b[0;32m      1\u001b[0m \u001b[0mmaster_list\u001b[0m \u001b[1;33m=\u001b[0m \u001b[1;33m[\u001b[0m\u001b[1;33m]\u001b[0m\u001b[1;33m\u001b[0m\u001b[1;33m\u001b[0m\u001b[0m\n\u001b[1;32m----> 2\u001b[1;33m \u001b[1;32mfor\u001b[0m \u001b[0mi\u001b[0m \u001b[1;32min\u001b[0m \u001b[0mrange\u001b[0m\u001b[1;33m(\u001b[0m\u001b[0mlen\u001b[0m\u001b[1;33m(\u001b[0m\u001b[0mplaces\u001b[0m\u001b[1;33m)\u001b[0m\u001b[1;33m)\u001b[0m\u001b[1;33m:\u001b[0m\u001b[1;33m\u001b[0m\u001b[1;33m\u001b[0m\u001b[0m\n\u001b[0m\u001b[0;32m      3\u001b[0m     \u001b[0mline\u001b[0m \u001b[1;33m=\u001b[0m \u001b[0mf\u001b[0m\u001b[1;33m.\u001b[0m\u001b[0mreadline\u001b[0m\u001b[1;33m(\u001b[0m\u001b[1;33m)\u001b[0m\u001b[1;33m\u001b[0m\u001b[1;33m\u001b[0m\u001b[0m\n\u001b[0;32m      4\u001b[0m     \u001b[0mline\u001b[0m \u001b[1;33m=\u001b[0m \u001b[0mline\u001b[0m\u001b[1;33m.\u001b[0m\u001b[0mreplace\u001b[0m\u001b[1;33m(\u001b[0m\u001b[1;34m\"u'\"\u001b[0m\u001b[1;33m,\u001b[0m \u001b[1;34m'\"'\u001b[0m\u001b[1;33m)\u001b[0m\u001b[1;33m\u001b[0m\u001b[1;33m\u001b[0m\u001b[0m\n\u001b[0;32m      5\u001b[0m     \u001b[0mline\u001b[0m \u001b[1;33m=\u001b[0m \u001b[0mline\u001b[0m\u001b[1;33m.\u001b[0m\u001b[0mreplace\u001b[0m\u001b[1;33m(\u001b[0m\u001b[1;34m\"'\"\u001b[0m\u001b[1;33m,\u001b[0m \u001b[1;34m'\"'\u001b[0m\u001b[1;33m)\u001b[0m\u001b[1;33m\u001b[0m\u001b[1;33m\u001b[0m\u001b[0m\n",
      "\u001b[1;31mTypeError\u001b[0m: object of type '_io.TextIOWrapper' has no len()"
     ]
    }
   ],
   "source": [
    "master_list = []\n",
    "for i in range(places.shape):\n",
    "    line = f.readline()\n",
    "    line = line.replace(\"u'\", '\"')\n",
    "    line = line.replace(\"'\", '\"')\n",
    "    try:\n",
    "        d = ast.literal_eval(line)\n",
    "        buff = [d[key] for key in d.keys()]\n",
    "        if buff[1].isascii() == True and buff[2].isascii() == True:\n",
    "            master_list.append(buff)\n",
    "    except Exception as e:\n",
    "        pass"
   ]
  },
  {
   "cell_type": "code",
   "execution_count": 14,
   "metadata": {},
   "outputs": [
    {
     "output_type": "execute_result",
     "data": {
      "text/plain": [
       "<_io.TextIOWrapper name='../Datasets/places.json' mode='r' encoding='utf-8'>"
      ]
     },
     "metadata": {},
     "execution_count": 14
    }
   ],
   "source": [
    "master_list = []\n",
    "for i in range(100):\n",
    "    line = f.readline()\n",
    "    line = line.replace(\"u'\", '\"')\n",
    "    line = line.replace(\"'\", '\"')\n",
    "    try:\n",
    "        d = ast.literal_eval(line)\n",
    "        buff = [d[key] for key in d.keys()]\n",
    "        if buff[1].isascii() == True and buff[2].isascii() == True:\n",
    "            master_list.append(buff)\n",
    "    except Exception as e:\n",
    "        pass"
   ]
  },
  {
   "cell_type": "code",
   "execution_count": 41,
   "metadata": {},
   "outputs": [],
   "source": [
    "f = open('file.json', encoding='utf-8')"
   ]
  },
  {
   "cell_type": "code",
   "execution_count": 42,
   "metadata": {},
   "outputs": [],
   "source": [
    "master_list = []\n",
    "for i in range(100):\n",
    "    line = f.readline()\n",
    "    line = line.replace(\"u'\", '\"')\n",
    "    line = line.replace(\"'\", '\"')\n",
    "    try:\n",
    "        d = ast.literal_eval(line)\n",
    "        buff = [d[key] for key in d.keys()]\n",
    "        if buff[1].isascii() == True and buff[2].isascii() == True:\n",
    "            master_list.append(buff)\n",
    "    except Exception as e:\n",
    "        pass"
   ]
  },
  {
   "cell_type": "code",
   "execution_count": 43,
   "metadata": {},
   "outputs": [],
   "source": [
    "columns = [key for key in d.keys()]\n",
    "master_df = pd.DataFrame(master_list, columns=columns)"
   ]
  },
  {
   "cell_type": "code",
   "execution_count": 45,
   "metadata": {},
   "outputs": [
    {
     "output_type": "execute_result",
     "data": {
      "text/plain": [
       "39"
      ]
     },
     "metadata": {},
     "execution_count": 45
    }
   ],
   "source": []
  },
  {
   "cell_type": "code",
   "execution_count": 91,
   "metadata": {},
   "outputs": [
    {
     "data": {
      "text/plain": [
       "True"
      ]
     },
     "execution_count": 91,
     "metadata": {},
     "output_type": "execute_result"
    }
   ],
   "source": []
  },
  {
   "cell_type": "code",
   "execution_count": null,
   "metadata": {},
   "outputs": [],
   "source": []
  }
 ],
 "metadata": {
  "kernelspec": {
   "display_name": "Python 3",
   "language": "python",
   "name": "python3"
  },
  "language_info": {
   "codemirror_mode": {
    "name": "ipython",
    "version": 3
   },
   "file_extension": ".py",
   "mimetype": "text/x-python",
   "name": "python",
   "nbconvert_exporter": "python",
   "pygments_lexer": "ipython3",
   "version": "3.7.7-final"
  }
 },
 "nbformat": 4,
 "nbformat_minor": 4
}